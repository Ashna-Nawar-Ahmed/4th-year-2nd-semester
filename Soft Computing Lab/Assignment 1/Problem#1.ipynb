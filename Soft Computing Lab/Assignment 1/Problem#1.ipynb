{
  "nbformat": 4,
  "nbformat_minor": 0,
  "metadata": {
    "colab": {
      "name": "Assignment 1.1 Bangla Digit Recognizer.ipynb",
      "provenance": [],
      "collapsed_sections": []
    },
    "kernelspec": {
      "name": "python3",
      "display_name": "Python 3"
    },
    "accelerator": "GPU"
  },
  "cells": [
    {
      "cell_type": "markdown",
      "metadata": {
        "id": "4UQ9uunvOskW"
      },
      "source": [
        "## Logistic Regression:\r\n",
        "In statistics, the **logistic model** (or logit model) is used to model the probability of a certain class or event existing. In this experiment, we are considering the probability of a handwritten character being within 0-9 of Bangla Digits. **Logistic regression** is a statistical model that uses a logistic function to model a binary dependent variable while in its basic form. **Multinomial logistic regression** is a classification method that generalizes logistic regression to multiclass problems, i.e. with more than two possible discrete outcomes.\r\n",
        "Mathematically, a multinomial logistic model (like the one we are implementing in the current experiment) has a dependent variable with more than two possible values. Here the dependent variable can have 1 of 10 possible values, which is represented by an indicator variable, where the 10 values are labeled from \"0\" to \"9\". Logistic regression gives the probability of a certain input belonging to a class.  The function that converts log-odds to probability is the **logistic function**. Logistic regression is used in various fields, including machine learning. Here, we are using this incredibly useful method to categorize handwritten digits to their appropriate categories.\r\n",
        " \r\n",
        "\r\n",
        "\r\n",
        "## Numta Database: \r\n",
        "This is a large dataset (85,000+) of Bengali digits which can be used by researchers for benchmarking their algorithm. One of the key topics of NLP is optical character recognition (OCR). To build an OCR in Bengali language, digit classification provides a convenient starting point. For this purpose, this database was built to aid researchers and students alike.\r\n",
        "\r\n",
        "\r\n",
        "For the given experiment we are to perform the following: Apply only logistic regression for the NumtaDB dataset and build a multiclass classification model that can recognize [0-9] Bengali handwritten digits with different hyperparameter settings.\r\n",
        "\r\n",
        "\r\n",
        "For this task, we will use the NumtaDB dataset for digit recognition purposes. Hence we will use the training datasets a, c and d for this goal.\r\n",
        "\r\n",
        "In the given experiment, we are using the following fixed hyper-parameters:\r\n",
        "\r\n",
        "- **Input dimension: 784**\r\n",
        "  - Size of image: $28 \\times 28 = 784$\r\n",
        "\r\n",
        "- **Output dimension: 10**\r\n",
        "  - 0, 1, 2, 3, 4, 5, 6, 7, 8, 9\r\n",
        "\r\n",
        "The images in NumtaDB are stored as $28 \\times 28$ images. The images are labeled(with the value of the digit in the image) and catalogued in separate csv files, which is what we will use to access the images for the experiment."
      ]
    },
    {
      "cell_type": "markdown",
      "metadata": {
        "id": "cYhOE-F_N_Ji"
      },
      "source": [
        "**In the following cell, we mounted Google Drive in order to import required files and save the model in the end.**"
      ]
    },
    {
      "cell_type": "code",
      "metadata": {
        "id": "aa48-ZReBYkK",
        "colab": {
          "base_uri": "https://localhost:8080/"
        },
        "outputId": "c7114716-9f89-41e6-e8cf-a2b551685809"
      },
      "source": [
        "from google.colab import drive\r\n",
        "drive.mount('/content/gdrive')\r\n"
      ],
      "execution_count": null,
      "outputs": [
        {
          "output_type": "stream",
          "text": [
            "Mounted at /content/gdrive\n"
          ],
          "name": "stdout"
        }
      ]
    },
    {
      "cell_type": "markdown",
      "metadata": {
        "id": "8UuEUtc1OEeg"
      },
      "source": [
        "**In the following cell, we installed Kaggle in order to be able to use its API in order to directly use datasets from its Numta database.**"
      ]
    },
    {
      "cell_type": "code",
      "metadata": {
        "colab": {
          "base_uri": "https://localhost:8080/"
        },
        "id": "M087TixsF1E5",
        "outputId": "3fb44c70-71eb-421c-e774-4a16f68ed37c"
      },
      "source": [
        "!pip install kaggle"
      ],
      "execution_count": null,
      "outputs": [
        {
          "output_type": "stream",
          "text": [
            "Requirement already satisfied: kaggle in /usr/local/lib/python3.6/dist-packages (1.5.10)\n",
            "Requirement already satisfied: python-slugify in /usr/local/lib/python3.6/dist-packages (from kaggle) (4.0.1)\n",
            "Requirement already satisfied: python-dateutil in /usr/local/lib/python3.6/dist-packages (from kaggle) (2.8.1)\n",
            "Requirement already satisfied: requests in /usr/local/lib/python3.6/dist-packages (from kaggle) (2.23.0)\n",
            "Requirement already satisfied: six>=1.10 in /usr/local/lib/python3.6/dist-packages (from kaggle) (1.15.0)\n",
            "Requirement already satisfied: certifi in /usr/local/lib/python3.6/dist-packages (from kaggle) (2020.12.5)\n",
            "Requirement already satisfied: urllib3 in /usr/local/lib/python3.6/dist-packages (from kaggle) (1.24.3)\n",
            "Requirement already satisfied: tqdm in /usr/local/lib/python3.6/dist-packages (from kaggle) (4.41.1)\n",
            "Requirement already satisfied: text-unidecode>=1.3 in /usr/local/lib/python3.6/dist-packages (from python-slugify->kaggle) (1.3)\n",
            "Requirement already satisfied: chardet<4,>=3.0.2 in /usr/local/lib/python3.6/dist-packages (from requests->kaggle) (3.0.4)\n",
            "Requirement already satisfied: idna<3,>=2.5 in /usr/local/lib/python3.6/dist-packages (from requests->kaggle) (2.10)\n"
          ],
          "name": "stdout"
        }
      ]
    },
    {
      "cell_type": "code",
      "metadata": {
        "colab": {
          "resources": {
            "http://localhost:8080/nbextensions/google.colab/files.js": {
              "data": "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",
              "ok": true,
              "headers": [
                [
                  "content-type",
                  "application/javascript"
                ]
              ],
              "status": 200,
              "status_text": ""
            }
          },
          "base_uri": "https://localhost:8080/",
          "height": 90
        },
        "id": "nfGoILv2Gczb",
        "outputId": "32c95b2d-8fde-496c-a9bb-7744d0b03999"
      },
      "source": [
        "#upload kaggle.json\r\n",
        "from google.colab import files\r\n",
        "files.upload()"
      ],
      "execution_count": null,
      "outputs": [
        {
          "output_type": "display_data",
          "data": {
            "text/html": [
              "\n",
              "     <input type=\"file\" id=\"files-4b0fb564-625f-4597-8cd0-652022edd83d\" name=\"files[]\" multiple disabled\n",
              "        style=\"border:none\" />\n",
              "     <output id=\"result-4b0fb564-625f-4597-8cd0-652022edd83d\">\n",
              "      Upload widget is only available when the cell has been executed in the\n",
              "      current browser session. Please rerun this cell to enable.\n",
              "      </output>\n",
              "      <script src=\"/nbextensions/google.colab/files.js\"></script> "
            ],
            "text/plain": [
              "<IPython.core.display.HTML object>"
            ]
          },
          "metadata": {
            "tags": []
          }
        },
        {
          "output_type": "stream",
          "text": [
            "Saving kaggle.json to kaggle.json\n"
          ],
          "name": "stdout"
        },
        {
          "output_type": "execute_result",
          "data": {
            "text/plain": [
              "{'kaggle.json': b'{\"username\":\"ashnanawarahmed\",\"key\":\"0b75ee43fb4820370e77d4e2dc4cce51\"}'}"
            ]
          },
          "metadata": {
            "tags": []
          },
          "execution_count": 3
        }
      ]
    },
    {
      "cell_type": "markdown",
      "metadata": {
        "id": "89cwuNLbOWf6"
      },
      "source": [
        "**In the following cells, we are importing NumtaDB directly from Kaggle and subsequently unzipping it.**"
      ]
    },
    {
      "cell_type": "code",
      "metadata": {
        "id": "R1-D0_z2G5xZ"
      },
      "source": [
        "!mkdir -p ~/.kaggle\r\n",
        "!cp kaggle.json ~/.kaggle\r\n",
        "\r\n",
        "#changing permission\r\n",
        "!chmod 600 ~/.kaggle/kaggle.json"
      ],
      "execution_count": null,
      "outputs": []
    },
    {
      "cell_type": "code",
      "metadata": {
        "colab": {
          "base_uri": "https://localhost:8080/"
        },
        "id": "CEKS1R4SHqaE",
        "outputId": "89d557c8-3b15-47d5-f51d-ff27a8302b5f"
      },
      "source": [
        "!kaggle datasets download -d BengaliAI/numta"
      ],
      "execution_count": null,
      "outputs": [
        {
          "output_type": "stream",
          "text": [
            "Downloading numta.zip to /content\n",
            "100% 1.91G/1.91G [00:24<00:00, 12.3MB/s]\n",
            "100% 1.91G/1.91G [00:24<00:00, 84.4MB/s]\n"
          ],
          "name": "stdout"
        }
      ]
    },
    {
      "cell_type": "code",
      "metadata": {
        "colab": {
          "base_uri": "https://localhost:8080/"
        },
        "id": "bwGPeIE7H_Po",
        "outputId": "2f614c68-0495-46c9-fc51-a36be6bddc18"
      },
      "source": [
        "from zipfile import ZipFile\r\n",
        "file_name='numta.zip'\r\n",
        "with ZipFile(file_name, 'r') as zip:\r\n",
        "  zip.extractall()\r\n",
        "  print('done')"
      ],
      "execution_count": null,
      "outputs": [
        {
          "output_type": "stream",
          "text": [
            "done\n"
          ],
          "name": "stdout"
        }
      ]
    },
    {
      "cell_type": "markdown",
      "metadata": {
        "id": "MZEjSWQkN4M7"
      },
      "source": [
        "**In the following cell, we imported all the required libraries needed to perform logistic regression, plot the data etc.**"
      ]
    },
    {
      "cell_type": "code",
      "metadata": {
        "id": "709VHrIOBbpm"
      },
      "source": [
        "import os\r\n",
        "from os import path\r\n",
        "import shutil\r\n",
        "import numpy as np\r\n",
        "import pandas as pd\r\n",
        "import torch\r\n",
        "import torch.nn as nn\r\n",
        "import torch.nn.functional as F\r\n",
        "import torch.optim as optim\r\n",
        "from torch.utils.data import Dataset\r\n",
        "from torch.utils.data.sampler import SubsetRandomSampler\r\n",
        "from torchvision import datasets, transforms, models\r\n",
        "import matplotlib\r\n",
        "import matplotlib.pyplot as plt\r\n",
        "from PIL import Image\r\n",
        "from datetime import datetime"
      ],
      "execution_count": null,
      "outputs": []
    },
    {
      "cell_type": "code",
      "metadata": {
        "id": "FvBx3mE1XDw3",
        "colab": {
          "base_uri": "https://localhost:8080/"
        },
        "outputId": "4dade6d3-4730-4265-b8af-bf4b0bfcf28f"
      },
      "source": [
        "# Device\r\n",
        "device = torch.device(\"cuda:0\" if torch.cuda.is_available() else \"cpu\")\r\n",
        "print(torch.cuda.get_device_name())"
      ],
      "execution_count": null,
      "outputs": [
        {
          "output_type": "stream",
          "text": [
            "Tesla T4\n"
          ],
          "name": "stdout"
        }
      ]
    },
    {
      "cell_type": "code",
      "metadata": {
        "id": "sd5BO1xlMqL-"
      },
      "source": [
        "#load_model = True\r\n",
        "load_model = False\r\n",
        "if load_model is True:\r\n",
        "    model.load_state_dict(torch.load('/content/gdrive/My Drive/Colab Notebooks/NumtaDB/'+ 'bangla_digit_recognizer_logistic.pkl'))\r\n",
        "    print('Trained Model Loaded')"
      ],
      "execution_count": null,
      "outputs": []
    },
    {
      "cell_type": "code",
      "metadata": {
        "id": "XeSlFHH7gmch"
      },
      "source": [
        "#FUNCTION FOR PRINTING CURRENT TIME\r\n",
        "def curr_time():\r\n",
        "  now = datetime.now()\r\n",
        "\r\n",
        "  current_time = now.strftime(\"%H:%M:%S\") \r\n",
        "  print(\"Current Time =\", current_time)"
      ],
      "execution_count": null,
      "outputs": []
    },
    {
      "cell_type": "markdown",
      "metadata": {
        "id": "j5RbPr0qNRDJ"
      },
      "source": [
        "**In the following cell, we import the data from the training sets we retrieved from Kaggle in the previous steps. The data is parsed and merged into one dataset from multiple separate csv files..**"
      ]
    },
    {
      "cell_type": "code",
      "metadata": {
        "id": "_-RJoajMBiYL",
        "colab": {
          "base_uri": "https://localhost:8080/"
        },
        "outputId": "c7199cee-1b36-4eba-f3ba-e3591337b451"
      },
      "source": [
        "PATH = '/content/'\r\n",
        "os.listdir(PATH)\r\n",
        "def showRawTrainingSamples(csv_filename):\r\n",
        "  df = pd.read_csv(PATH + csv_filename)\r\n",
        "  print(csv_filename)\r\n",
        "  print(df.columns)\r\n",
        "  return df\r\n",
        "\r\n",
        "a_csv = showRawTrainingSamples('training-a.csv')\r\n",
        "c_csv = showRawTrainingSamples('training-c.csv')\r\n",
        "d_csv = showRawTrainingSamples('training-d.csv')\r\n",
        "def dropColumns(csv_file):\r\n",
        "  csv_file = csv_file[['filename', 'digit']]\r\n",
        "  print(csv_file)\r\n",
        "  print(csv_file.iloc[:5, :])   #First 5 Rows of the CSV File\r\n",
        "  print(\"=============================\")\r\n",
        "  return csv_file\r\n",
        "\r\n",
        "a_csv = dropColumns(a_csv)\r\n",
        "c_csv = dropColumns(c_csv)\r\n",
        "d_csv = dropColumns(d_csv)\r\n",
        "\r\n",
        "\r\n",
        "total_csv = [a_csv, c_csv, d_csv]\r\n",
        "merged_csv = pd.concat(total_csv)\r\n",
        "print(len(merged_csv))\r\n",
        "\r\n",
        "TRAIN_PATH = 'train'\r\n",
        "os.mkdir(TRAIN_PATH)\r\n",
        "\r\n",
        "def processImages(folder_name):\r\n",
        "  src = PATH + folder_name + '/'\r\n",
        "  dir_folders = os.listdir(src)\r\n",
        "  for dir_name in dir_folders:\r\n",
        "    file_name = os.path.join(src, dir_name)\r\n",
        "    if os.path.isfile(file_name):\r\n",
        "      shutil.copy(file_name, TRAIN_PATH) \r\n",
        "\r\n",
        "processImages('training-a')\r\n",
        "print('A Done')\r\n",
        "processImages('training-c')\r\n",
        "print('C Done')\r\n",
        "processImages('training-d')\r\n",
        "print('D Done')\r\n",
        "\r\n"
      ],
      "execution_count": null,
      "outputs": [
        {
          "output_type": "stream",
          "text": [
            "training-a.csv\n",
            "Index(['filename', 'original filename', 'scanid', 'digit',\n",
            "       'database name original', 'contributing team', 'database name'],\n",
            "      dtype='object')\n",
            "training-c.csv\n",
            "Index(['filename', 'original filename', 'scanid', 'digit',\n",
            "       'database name original', 'contributing team', 'database name'],\n",
            "      dtype='object')\n",
            "training-d.csv\n",
            "Index(['original filename', 'scanid', 'digit', 'num', 'database name original',\n",
            "       'database name', 'filename'],\n",
            "      dtype='object')\n",
            "         filename  digit\n",
            "0      a00000.png      5\n",
            "1      a00001.png      3\n",
            "2      a00002.png      1\n",
            "3      a00003.png      7\n",
            "4      a00004.png      0\n",
            "...           ...    ...\n",
            "19697  a19697.png      4\n",
            "19698  a19698.png      3\n",
            "19699  a19699.png      8\n",
            "19700  a19700.png      3\n",
            "19701  a19701.png      8\n",
            "\n",
            "[19702 rows x 2 columns]\n",
            "     filename  digit\n",
            "0  a00000.png      5\n",
            "1  a00001.png      3\n",
            "2  a00002.png      1\n",
            "3  a00003.png      7\n",
            "4  a00004.png      0\n",
            "=============================\n",
            "         filename  digit\n",
            "0      c00000.png      6\n",
            "1      c00001.png      1\n",
            "2      c00002.png      3\n",
            "3      c00003.png      2\n",
            "4      c00004.png      7\n",
            "...           ...    ...\n",
            "24293  c24293.png      3\n",
            "24294  c24294.png      2\n",
            "24295  c24295.png      7\n",
            "24296  c24296.png      2\n",
            "24297  c24297.png      7\n",
            "\n",
            "[24298 rows x 2 columns]\n",
            "     filename  digit\n",
            "0  c00000.png      6\n",
            "1  c00001.png      1\n",
            "2  c00002.png      3\n",
            "3  c00003.png      2\n",
            "4  c00004.png      7\n",
            "=============================\n",
            "         filename  digit\n",
            "0      d00000.png      1\n",
            "1      d00001.png      1\n",
            "2      d00002.png      5\n",
            "3      d00003.png      7\n",
            "4      d00004.png      0\n",
            "...           ...    ...\n",
            "10903  d10903.png      8\n",
            "10904  d10904.png      6\n",
            "10905  d10905.png      1\n",
            "10906  d10906.png      6\n",
            "10907  d10907.png      1\n",
            "\n",
            "[10908 rows x 2 columns]\n",
            "     filename  digit\n",
            "0  d00000.png      1\n",
            "1  d00001.png      1\n",
            "2  d00002.png      5\n",
            "3  d00003.png      7\n",
            "4  d00004.png      0\n",
            "=============================\n",
            "54908\n",
            "A Done\n",
            "C Done\n",
            "D Done\n"
          ],
          "name": "stdout"
        }
      ]
    },
    {
      "cell_type": "markdown",
      "metadata": {
        "id": "ICMiACl9MQPG"
      },
      "source": [
        "\r\n",
        "\r\n",
        "**In the following cell, class Dataset is declared, which converts the data into grayscale range and returns image and label.**"
      ]
    },
    {
      "cell_type": "code",
      "metadata": {
        "id": "8fVYPZDYBq5B"
      },
      "source": [
        "class Dataset(Dataset):\r\n",
        "    def __init__(self, df, root, transform=None):\r\n",
        "        self.data = df\r\n",
        "        self.root = root\r\n",
        "        self.transform = transform\r\n",
        "        \r\n",
        "    def __len__(self):\r\n",
        "        return len(self.data)\r\n",
        "    \r\n",
        "    def __getitem__(self, index):\r\n",
        "        item = self.data.iloc[index]\r\n",
        "        \r\n",
        "        path = self.root + \"/\" + item[0]\r\n",
        "        image = Image.open(path).convert('L') #converting images to grayscale\r\n",
        "        label = item[1]\r\n",
        "        \r\n",
        "        if self.transform is not None:\r\n",
        "            image = self.transform(image)\r\n",
        "            \r\n",
        "        return image, label"
      ],
      "execution_count": null,
      "outputs": []
    },
    {
      "cell_type": "markdown",
      "metadata": {
        "id": "RpatNNkzMgxp"
      },
      "source": [
        "**In the following cell, the data is transformed and converted to Tensor.**"
      ]
    },
    {
      "cell_type": "code",
      "metadata": {
        "id": "HxnuKdnyBr1G",
        "colab": {
          "base_uri": "https://localhost:8080/"
        },
        "outputId": "49518976-24dc-45cc-ed5f-d6990451af9b"
      },
      "source": [
        "mean = [0.5,]\r\n",
        "std = [0.5, ]\r\n",
        "\r\n",
        "train_transform = transforms.Compose([\r\n",
        "    transforms.Resize(28),\r\n",
        "    transforms.ToTensor(),\r\n",
        "    transforms.Normalize(mean, std)\r\n",
        "])\r\n",
        "\r\n",
        "test_transform = transforms.Compose([\r\n",
        "        transforms.Resize(28),\r\n",
        "        transforms.ToTensor(),\r\n",
        "        transforms.Normalize(mean, std)\r\n",
        "])\r\n",
        "\r\n",
        "train_data  = Dataset(merged_csv, TRAIN_PATH, train_transform)\r\n",
        "test_data = Dataset(merged_csv, TRAIN_PATH, test_transform)\r\n",
        "\r\n",
        "print(\"Training Samples: \",len(train_data))"
      ],
      "execution_count": null,
      "outputs": [
        {
          "output_type": "stream",
          "text": [
            "Training Samples:  54908\n"
          ],
          "name": "stdout"
        }
      ]
    },
    {
      "cell_type": "markdown",
      "metadata": {
        "id": "UGojCG2AMuTY"
      },
      "source": [
        "## Logistic Regression consists of three steps, which we will now execute one by one, and subsequently repeat for hyper-parameter tuning purposes."
      ]
    },
    {
      "cell_type": "markdown",
      "metadata": {
        "id": "fGnoO2KMLjXX"
      },
      "source": [
        "## **Step 1: Designing model using Class**\r\n",
        "**In the following cell, we declared the class Logistic Regression Model and implemented init function as well as the forward function that executes the softmax function inside and returns logits and probas.**"
      ]
    },
    {
      "cell_type": "code",
      "metadata": {
        "id": "K3e5le6GYEJQ"
      },
      "source": [
        "class LogisticRegressionModel(nn.Module):\r\n",
        "    def __init__(self, input_size, num_classes):\r\n",
        "        super().__init__()\r\n",
        "        self.linear = nn.Linear(input_size, num_classes)\r\n",
        "\r\n",
        "    def forward(self, x):\r\n",
        "        logits  = self.linear(x)\r\n",
        "        probas = F.softmax(logits, dim=1)\r\n",
        "        return logits, probas"
      ],
      "execution_count": null,
      "outputs": []
    },
    {
      "cell_type": "markdown",
      "metadata": {
        "id": "H1-Epq8iM3tC"
      },
      "source": [
        "### In this experiment, we will repeat Steps 2 and 3 for every setting. So we declare Step 1 and execute it before entering into the setting-blocks."
      ]
    },
    {
      "cell_type": "markdown",
      "metadata": {
        "id": "RP56jZlKzd_s"
      },
      "source": [
        "# SETTING 1: Setting a baseline\r\n",
        "\r\n",
        "For a successful experiment in trying to find the best possible combination of hyperparameters for the highest accuracy, we must first set a baseline for the experiment. Initially we consider the following values for the required hyperparameters:\r\n",
        "\r\n",
        "\r\n",
        "*   Learning Rate: **0.001**\r\n",
        "*   Highest number of iterations: **5000**\r\n",
        "*   Batch size/mini-batch: **100**\r\n",
        "*   Epoch (derived variable): **$iterations \\div \\frac{totaldata}{minibatch}$**\r\n",
        "*   Optimizer: **SGD (Stochastic gradient descent)**\r\n",
        "\r\n",
        "Here, total data being used is **54908**.\r\n",
        "\r\n",
        "We can subsequently change each hyper-parameter one by one in both directions(higher and lower) and finally settle on an optimal combination of parameters.\r\n",
        "\r\n",
        "\r\n",
        "\r\n",
        "\r\n",
        "\r\n",
        "\r\n",
        "\r\n",
        "\r\n"
      ]
    },
    {
      "cell_type": "markdown",
      "metadata": {
        "id": "4CeUtdzBLLn5"
      },
      "source": [
        "**In the following cell, dataset is split in a 90:10 ratio for train:test. The data is subsequently loaded into the data loaders. The hyper-parameters are also set to their initial values.**"
      ]
    },
    {
      "cell_type": "code",
      "metadata": {
        "id": "Y_awyqGZWsEU",
        "colab": {
          "base_uri": "https://localhost:8080/"
        },
        "outputId": "c7684b6c-4b2e-4f3c-a771-7f74bfea3ab3"
      },
      "source": [
        "learning_rate = 0.001\r\n",
        "\r\n",
        "batch_size=100\r\n",
        "num_iters = 5000\r\n",
        "input_dim = 28*28 # num_features = 784\r\n",
        "output_dim = 10\r\n",
        "# split data 10% for testing\r\n",
        "test_size = 0.1\r\n",
        "\r\n",
        "num_epochs = num_iters / (len(train_data) / batch_size)\r\n",
        "num_epochs = int(num_epochs)\r\n",
        "\r\n",
        "\r\n",
        "# obtain training indices that will be used for validation\r\n",
        "num_train = len(train_data)\r\n",
        "\r\n",
        "# mix data\r\n",
        "# index of num of train\r\n",
        "indices = list(range(num_train))\r\n",
        "# random the index\r\n",
        "np.random.shuffle(indices)\r\n",
        "split = int(np.floor(test_size * num_train))\r\n",
        "# divied into two part\r\n",
        "train_idx, test_idx = indices[split:], indices[:split]\r\n",
        "\r\n",
        "# define the sampler\r\n",
        "train_sampler = SubsetRandomSampler(train_idx)\r\n",
        "test_sampler = SubsetRandomSampler(test_idx)\r\n",
        "\r\n",
        "# prepare loaders\r\n",
        "train_loader = torch.utils.data.DataLoader(\r\n",
        "    train_data, batch_size=batch_size,\r\n",
        "    sampler=train_sampler)\r\n",
        "\r\n",
        "test_loader = torch.utils.data.DataLoader(\r\n",
        "    test_data, batch_size=batch_size,\r\n",
        "    sampler=test_sampler)\r\n",
        "\r\n",
        "print(\"Train dataloader:{}\".format(len(train_loader)))\r\n",
        "print(\"Test dataloader:{}\".format(len(test_loader)))"
      ],
      "execution_count": null,
      "outputs": [
        {
          "output_type": "stream",
          "text": [
            "Train dataloader:495\n",
            "Test dataloader:55\n"
          ],
          "name": "stdout"
        }
      ]
    },
    {
      "cell_type": "markdown",
      "metadata": {
        "id": "2Y16-H0WLtzd"
      },
      "source": [
        "## **Step 2:  Constructing loss and optimizer**\r\n",
        "**In the following cell, model is designed using the previously implemented Class. Subsequently the optimizer is declared, which is Step 2. Here, SGD optimizer is being used.**"
      ]
    },
    {
      "cell_type": "code",
      "metadata": {
        "id": "Ix3xiCA6YJOM"
      },
      "source": [
        "#save_model=True\r\n",
        "'''\r\n",
        "INSTANTIATE MODEL CLASS\r\n",
        "'''\r\n",
        "model = LogisticRegressionModel(input_size=input_dim,\r\n",
        "                                num_classes=output_dim)\r\n",
        "# To enable GPU\r\n",
        "model.to(device)\r\n",
        "# INSTANTIATE OPTIMIZER CLASS\r\n",
        "optimizer = torch.optim.SGD(model.parameters(), lr=learning_rate)"
      ],
      "execution_count": null,
      "outputs": []
    },
    {
      "cell_type": "markdown",
      "metadata": {
        "id": "L7U5EhwnLCp-"
      },
      "source": [
        "## **Step 3 : Training: forward, loss, backward, step**\r\n",
        "**In the following cell, data is trained, forward pass performed, loss calculated, backward pass perfomed whereby parameters are updated for next iterations. Accuracy is calculated every 500 iterations.**"
      ]
    },
    {
      "cell_type": "code",
      "metadata": {
        "colab": {
          "base_uri": "https://localhost:8080/"
        },
        "id": "IVmiYuHFN7F4",
        "outputId": "46028338-7ee2-4bb1-bfe9-3c99c5efdd79"
      },
      "source": [
        "'''\r\n",
        "TRAIN THE MODEL\r\n",
        "'''\r\n",
        "iteration_loss = []\r\n",
        "iter = 0\r\n",
        "curr_time()\r\n",
        "print('Batch size:',batch_size,'; Number of iterations:',num_iters,'; Learning rate:',learning_rate,'; Total training data size:',num_train,'; Epoch size:',num_epochs)\r\n",
        "print('-----------------------------------------------------------------------------------------------------------------------------------')\r\n",
        "for epoch in range(num_epochs):\r\n",
        "    print('Epoch:',epoch+1)\r\n",
        "    for i, (images, labels) in enumerate(train_loader):\r\n",
        "\r\n",
        "        images = images.view(-1, 28*28).to(device)\r\n",
        "        labels = labels.to(device)\r\n",
        "\r\n",
        "        # Clear gradients w.r.t. parameters\r\n",
        "        optimizer.zero_grad()\r\n",
        "\r\n",
        "        # Forward pass to get output/logits\r\n",
        "        logits, probas = model(images) \r\n",
        "\r\n",
        "        # Calculate Loss: PyTorch implementation of CrossEntropyLoss works with logits, not probabilities\r\n",
        "        loss = F.cross_entropy(logits, labels)\r\n",
        "\r\n",
        "        # Getting gradients w.r.t. parameters\r\n",
        "        loss.backward()\r\n",
        "\r\n",
        "        # Updating parameters\r\n",
        "        optimizer.step()\r\n",
        "\r\n",
        "        iter += 1\r\n",
        "\r\n",
        "        if iter % 500 == 0:\r\n",
        "            # Calculate Accuracy         \r\n",
        "            correct = 0\r\n",
        "            total = 0\r\n",
        "            # Iterate through test dataset\r\n",
        "            for images, labels in test_loader:\r\n",
        "               \r\n",
        "                images = images.view(-1, 28*28).to(device)\r\n",
        "\r\n",
        "                # Forward pass only to get logits/output\r\n",
        "                logits, probas = model(images)\r\n",
        "\r\n",
        "                # Get predictions from the maximum value\r\n",
        "                _, predicted = torch.max(probas, 1)\r\n",
        "\r\n",
        "                # Total number of labels\r\n",
        "                total += labels.size(0)\r\n",
        "\r\n",
        "\r\n",
        "                # Total correct predictions\r\n",
        "                if torch.cuda.is_available():\r\n",
        "                    correct += (predicted.cpu() == labels.cpu()).sum() \r\n",
        "                else:\r\n",
        "                    correct += (predicted == labels).sum()\r\n",
        "\r\n",
        "            accuracy = 100 * correct.item() / total\r\n",
        "\r\n",
        "            # Print Loss\r\n",
        "            iteration_loss.append(loss.item())\r\n",
        "            print('Iteration: {}. Loss: {}. Accuracy: {}'.format(iter, loss.item(), accuracy))\r\n",
        "print('-----------------------Simulation ends----------------------')\r\n",
        "curr_time()"
      ],
      "execution_count": null,
      "outputs": [
        {
          "output_type": "stream",
          "text": [
            "Current Time = 18:00:38\n",
            "Batch size: 100 ; Number of iterations: 5000 ; Learning rate: 0.001 ; Total training data size: 54908 ; Epoch size: 9\n",
            "-----------------------------------------------------------------------------------------------------------------------------------\n",
            "Epoch: 1\n",
            "Epoch: 2\n",
            "Iteration: 500. Loss: 2.292854070663452. Accuracy: 12.477231329690346\n",
            "Epoch: 3\n",
            "Iteration: 1000. Loss: 2.266955852508545. Accuracy: 15.992714025500911\n",
            "Epoch: 4\n",
            "Iteration: 1500. Loss: 2.2698898315429688. Accuracy: 18.415300546448087\n",
            "Epoch: 5\n",
            "Iteration: 2000. Loss: 2.2495064735412598. Accuracy: 21.985428051001822\n",
            "Epoch: 6\n",
            "Iteration: 2500. Loss: 2.254401445388794. Accuracy: 21.712204007285976\n",
            "Epoch: 7\n",
            "Iteration: 3000. Loss: 2.2430264949798584. Accuracy: 23.95264116575592\n",
            "Epoch: 8\n",
            "Iteration: 3500. Loss: 2.236318349838257. Accuracy: 26.029143897996356\n",
            "Epoch: 9\n",
            "Iteration: 4000. Loss: 2.221064805984497. Accuracy: 29.107468123861565\n",
            "-----------------------Simulation ends----------------------\n",
            "Current Time = 18:14:00\n"
          ],
          "name": "stdout"
        }
      ]
    },
    {
      "cell_type": "markdown",
      "metadata": {
        "id": "USzNOIIEK8xv"
      },
      "source": [
        "**In the following function, cross entropy loss for the logistic regression is plotted in a graph form for better visualization of data.**"
      ]
    },
    {
      "cell_type": "code",
      "metadata": {
        "colab": {
          "base_uri": "https://localhost:8080/",
          "height": 296
        },
        "id": "K7-RtZGl3Yw8",
        "outputId": "2ed6f8dd-10f5-4a29-e181-2c9d66927dca"
      },
      "source": [
        "#PLOTTING LOSS PER 500 ITERATIONS\r\n",
        "\r\n",
        "print (iteration_loss)\r\n",
        "plt.plot(iteration_loss)\r\n",
        "plt.ylabel('Cross Entropy Loss')\r\n",
        "plt.xlabel('Iteration (in every 500)')\r\n",
        "plt.show()"
      ],
      "execution_count": null,
      "outputs": [
        {
          "output_type": "stream",
          "text": [
            "[2.292854070663452, 2.266955852508545, 2.2698898315429688, 2.2495064735412598, 2.254401445388794, 2.2430264949798584, 2.236318349838257, 2.221064805984497]\n"
          ],
          "name": "stdout"
        },
        {
          "output_type": "display_data",
          "data": {
            "image/png": "[encoded data removed]",
            "text/plain": [
              "<Figure size 432x288 with 1 Axes>"
            ]
          },
          "metadata": {
            "tags": [],
            "needs_background": "light"
          }
        }
      ]
    },
    {
      "cell_type": "markdown",
      "metadata": {
        "id": "cQsGld9gKCC-"
      },
      "source": [
        "**Here, we can see from the plotted data that the cross entropy loss is not that great. The maximum accuracy achieved is only 29.1%. So we must adjust the hyperparameters in order to achieve better accuracy and possibly more stable perfomance.**"
      ]
    },
    {
      "cell_type": "markdown",
      "metadata": {
        "id": "1voNNpr4yacD"
      },
      "source": [
        "# EXPERIMENTING WITH BATCH SIZE\r\n",
        "\r\n",
        "We first attempt to tune the hyper-parameter **batch-size**. So we will perform 2 experiments. As we have already seen the performance of **batch-size=100**, now we will try the same experiment with 2 other values, which are:\r\n",
        "* Batch-size: 200\r\n",
        "* Batch-size: 50\r\n",
        "\r\n",
        "Here, 1 value is higher than the baseline value that was used, and 1 value is lower. By this gradual increasing and decreasing process, we can determine which value will be optimal for the hyper-parameter in the subsequent experiments for tuning the other hyperparameters. The values of the other hyper-parameters will remain constant for these 2 experiments:\r\n",
        "* Learning-rate: 0.001\r\n",
        "* Number of iterations: 5000\r\n",
        "* Optimizer: SGD\r\n",
        "\r\n",
        "\r\n",
        "## SETTING 2: Batch-size=50\r\n"
      ]
    },
    {
      "cell_type": "code",
      "metadata": {
        "colab": {
          "base_uri": "https://localhost:8080/"
        },
        "id": "1Uga_N8Borw4",
        "outputId": "a6921acd-a433-42d3-d799-66b7431e23ea"
      },
      "source": [
        "learning_rate = 0.001\r\n",
        "\r\n",
        "batch_size=50\r\n",
        "num_iters = 5000\r\n",
        "input_dim = 28*28 # num_features = 784\r\n",
        "output_dim = 10\r\n",
        "# split data 10% for testing\r\n",
        "test_size = 0.1\r\n",
        "\r\n",
        "num_epochs = num_iters / (len(train_data) / batch_size)\r\n",
        "num_epochs = int(num_epochs)\r\n",
        "#  \r\n",
        "\r\n",
        "# obtain training indices that will be used for validation\r\n",
        "num_train = len(train_data)\r\n",
        "\r\n",
        "# mix data\r\n",
        "# index of num of train\r\n",
        "indices = list(range(num_train))\r\n",
        "# random the index\r\n",
        "np.random.shuffle(indices)\r\n",
        "split = int(np.floor(test_size * num_train))\r\n",
        "# divied into two part\r\n",
        "train_idx, test_idx = indices[split:], indices[:split]\r\n",
        "\r\n",
        "# define the sampler\r\n",
        "train_sampler = SubsetRandomSampler(train_idx)\r\n",
        "test_sampler = SubsetRandomSampler(test_idx)\r\n",
        "\r\n",
        "# prepare loaders\r\n",
        "train_loader = torch.utils.data.DataLoader(\r\n",
        "    train_data, batch_size=batch_size,\r\n",
        "    sampler=train_sampler)\r\n",
        "\r\n",
        "test_loader = torch.utils.data.DataLoader(\r\n",
        "    test_data, batch_size=batch_size,\r\n",
        "    sampler=test_sampler)\r\n",
        "\r\n",
        "print(\"Train dataloader:{}\".format(len(train_loader)))\r\n",
        "print(\"Test dataloader:{}\".format(len(test_loader)))"
      ],
      "execution_count": null,
      "outputs": [
        {
          "output_type": "stream",
          "text": [
            "Train dataloader:989\n",
            "Test dataloader:110\n"
          ],
          "name": "stdout"
        }
      ]
    },
    {
      "cell_type": "code",
      "metadata": {
        "id": "gs3U4db-o2Kb"
      },
      "source": [
        "'''\r\n",
        "INSTANTIATE MODEL CLASS\r\n",
        "'''\r\n",
        "model = LogisticRegressionModel(input_size=input_dim,\r\n",
        "                                num_classes=output_dim)\r\n",
        "# To enable GPU\r\n",
        "model.to(device)\r\n",
        "# INSTANTIATE OPTIMIZER CLASS\r\n",
        "optimizer = torch.optim.SGD(model.parameters(), lr=learning_rate)"
      ],
      "execution_count": null,
      "outputs": []
    },
    {
      "cell_type": "code",
      "metadata": {
        "colab": {
          "base_uri": "https://localhost:8080/"
        },
        "id": "zy9TYhiFo_HR",
        "outputId": "ebf2a09c-c9b7-49c2-8eab-698c7fc28875"
      },
      "source": [
        "'''\r\n",
        "TRAIN THE MODEL\r\n",
        "'''\r\n",
        "iteration_loss = []\r\n",
        "iter = 0\r\n",
        "curr_time()\r\n",
        "print('Batch size:',batch_size,'; Number of iterations:',num_iters,'; Learning rate:',learning_rate,'; Total training data size:',num_train,'; Epoch size:',num_epochs)\r\n",
        "print('-----------------------------------------------------------------------------------------------------------------------------------')\r\n",
        "for epoch in range(num_epochs):\r\n",
        "    print('Epoch:',epoch+1)\r\n",
        "    for i, (images, labels) in enumerate(train_loader):\r\n",
        "\r\n",
        "        images = images.view(-1, 28*28).to(device)\r\n",
        "        labels = labels.to(device)\r\n",
        "\r\n",
        "        # Clear gradients w.r.t. parameters\r\n",
        "        optimizer.zero_grad()\r\n",
        "\r\n",
        "        # Forward pass to get output/logits\r\n",
        "        logits, probas = model(images) \r\n",
        "\r\n",
        "        # Calculate Loss: PyTorch implementation of CrossEntropyLoss works with logits, not probabilities\r\n",
        "        loss = F.cross_entropy(logits, labels)\r\n",
        "\r\n",
        "        # Getting gradients w.r.t. parameters\r\n",
        "        loss.backward()\r\n",
        "\r\n",
        "        # Updating parameters\r\n",
        "        optimizer.step()\r\n",
        "\r\n",
        "        iter += 1\r\n",
        "\r\n",
        "        if iter % 500 == 0:\r\n",
        "            # Calculate Accuracy         \r\n",
        "            correct = 0\r\n",
        "            total = 0\r\n",
        "            # Iterate through test dataset\r\n",
        "            for images, labels in test_loader:\r\n",
        "               \r\n",
        "                images = images.view(-1, 28*28).to(device)\r\n",
        "\r\n",
        "                # Forward pass only to get logits/output\r\n",
        "                logits, probas = model(images)\r\n",
        "\r\n",
        "                # Get predictions from the maximum value\r\n",
        "                _, predicted = torch.max(probas, 1)\r\n",
        "\r\n",
        "                # Total number of labels\r\n",
        "                total += labels.size(0)\r\n",
        "\r\n",
        "\r\n",
        "                # Total correct predictions\r\n",
        "                if torch.cuda.is_available():\r\n",
        "                    correct += (predicted.cpu() == labels.cpu()).sum() \r\n",
        "                else:\r\n",
        "                    correct += (predicted == labels).sum()\r\n",
        "\r\n",
        "            accuracy = 100 * correct.item() / total\r\n",
        "\r\n",
        "            # Print Loss\r\n",
        "            iteration_loss.append(loss.item())\r\n",
        "            print('Iteration: {}. Loss: {}. Accuracy: {}'.format(iter, loss.item(), accuracy))\r\n",
        "print('-----------------------Simulation ends----------------------')\r\n",
        "curr_time()"
      ],
      "execution_count": null,
      "outputs": [
        {
          "output_type": "stream",
          "text": [
            "Current Time = 18:14:00\n",
            "Batch size: 50 ; Number of iterations: 5000 ; Learning rate: 0.001 ; Total training data size: 54908 ; Epoch size: 4\n",
            "-----------------------------------------------------------------------------------------------------------------------------------\n",
            "Epoch: 1\n",
            "Iteration: 500. Loss: 2.301628351211548. Accuracy: 13.005464480874316\n",
            "Epoch: 2\n",
            "Iteration: 1000. Loss: 2.2893073558807373. Accuracy: 14.13479052823315\n",
            "Iteration: 1500. Loss: 2.2605977058410645. Accuracy: 18.14207650273224\n",
            "Epoch: 3\n",
            "Iteration: 2000. Loss: 2.277177572250366. Accuracy: 20.87431693989071\n",
            "Iteration: 2500. Loss: 2.245680332183838. Accuracy: 22.695810564663024\n",
            "Epoch: 4\n",
            "Iteration: 3000. Loss: 2.246464490890503. Accuracy: 26.81238615664845\n",
            "Iteration: 3500. Loss: 2.2739832401275635. Accuracy: 25.46448087431694\n",
            "-----------------------Simulation ends----------------------\n",
            "Current Time = 18:20:27\n"
          ],
          "name": "stdout"
        }
      ]
    },
    {
      "cell_type": "code",
      "metadata": {
        "colab": {
          "base_uri": "https://localhost:8080/",
          "height": 296
        },
        "id": "Nd4Sb1a93xON",
        "outputId": "077a22a2-db2c-4a0a-d0d0-0b0613b035ca"
      },
      "source": [
        "#PLOTTING LOSS PER 500 ITERATIONS\r\n",
        "\r\n",
        "print (iteration_loss)\r\n",
        "plt.plot(iteration_loss)\r\n",
        "plt.ylabel('Cross Entropy Loss')\r\n",
        "plt.xlabel('Iteration (in every 500)')\r\n",
        "plt.show()"
      ],
      "execution_count": null,
      "outputs": [
        {
          "output_type": "stream",
          "text": [
            "[2.301628351211548, 2.2893073558807373, 2.2605977058410645, 2.277177572250366, 2.245680332183838, 2.246464490890503, 2.2739832401275635]\n"
          ],
          "name": "stdout"
        },
        {
          "output_type": "display_data",
          "data": {
            "image/png": "[encoded data removed]",
            "text/plain": [
              "<Figure size 432x288 with 1 Axes>"
            ]
          },
          "metadata": {
            "tags": [],
            "needs_background": "light"
          }
        }
      ]
    },
    {
      "cell_type": "markdown",
      "metadata": {
        "id": "JWwr5d9lylMT"
      },
      "source": [
        "## SETTING 3: Batch-size=200\r\n"
      ]
    },
    {
      "cell_type": "code",
      "metadata": {
        "colab": {
          "base_uri": "https://localhost:8080/"
        },
        "id": "chBD4CtKypaH",
        "outputId": "c14e7261-c6a5-44fd-bab7-51f5ea205aad"
      },
      "source": [
        "learning_rate = 0.001\r\n",
        "\r\n",
        "batch_size=200\r\n",
        "num_iters = 5000\r\n",
        "input_dim = 28*28 # num_features = 784\r\n",
        "output_dim = 10\r\n",
        "# split data 10% for testing\r\n",
        "test_size = 0.1\r\n",
        "#num_epochs=int(5)\r\n",
        "num_epochs = num_iters / (len(train_data) / batch_size)\r\n",
        "num_epochs = int(num_epochs)\r\n",
        " \r\n",
        "\r\n",
        "# obtain training indices that will be used for validation\r\n",
        "num_train = len(train_data)\r\n",
        "\r\n",
        "# mix data\r\n",
        "# index of num of train\r\n",
        "indices = list(range(num_train))\r\n",
        "# random the index\r\n",
        "np.random.shuffle(indices)\r\n",
        "split = int(np.floor(test_size * num_train))\r\n",
        "# divied into two part\r\n",
        "train_idx, test_idx = indices[split:], indices[:split]\r\n",
        "\r\n",
        "# define the sampler\r\n",
        "train_sampler = SubsetRandomSampler(train_idx)\r\n",
        "test_sampler = SubsetRandomSampler(test_idx)\r\n",
        "\r\n",
        "# prepare loaders\r\n",
        "train_loader = torch.utils.data.DataLoader(\r\n",
        "    train_data, batch_size=batch_size,\r\n",
        "    sampler=train_sampler)\r\n",
        "\r\n",
        "test_loader = torch.utils.data.DataLoader(\r\n",
        "    test_data, batch_size=batch_size,\r\n",
        "    sampler=test_sampler)\r\n",
        "\r\n",
        "print(\"Train dataloader:{}\".format(len(train_loader)))\r\n",
        "print(\"Test dataloader:{}\".format(len(test_loader)))"
      ],
      "execution_count": null,
      "outputs": [
        {
          "output_type": "stream",
          "text": [
            "Train dataloader:248\n",
            "Test dataloader:28\n"
          ],
          "name": "stdout"
        }
      ]
    },
    {
      "cell_type": "code",
      "metadata": {
        "id": "fYXVKC8VyxXW"
      },
      "source": [
        "'''\r\n",
        "INSTANTIATE MODEL CLASS\r\n",
        "'''\r\n",
        "model = LogisticRegressionModel(input_size=input_dim,\r\n",
        "                                num_classes=output_dim)\r\n",
        "# To enable GPU\r\n",
        "model.to(device)\r\n",
        "\r\n",
        "# INSTANTIATE OPTIMIZER CLASS\r\n",
        "optimizer = torch.optim.SGD(model.parameters(), lr=learning_rate)"
      ],
      "execution_count": null,
      "outputs": []
    },
    {
      "cell_type": "code",
      "metadata": {
        "colab": {
          "base_uri": "https://localhost:8080/"
        },
        "id": "2GKrJnuYy4eF",
        "outputId": "9dc7f62c-6830-4b34-d836-c52355a457c5"
      },
      "source": [
        "'''\r\n",
        "TRAIN THE MODEL\r\n",
        "'''\r\n",
        "iteration_loss = []\r\n",
        "iter = 0\r\n",
        "curr_time()\r\n",
        "print('Batch size:',batch_size,'; Number of iterations:',num_iters,'; Learning rate:',learning_rate,'; Total training data size:',num_train,'; Epoch size:',num_epochs)\r\n",
        "print('-----------------------------------------------------------------------------------------------------------------------------------')\r\n",
        "for epoch in range(num_epochs):\r\n",
        "    print('Epoch:',epoch+1)\r\n",
        "    for i, (images, labels) in enumerate(train_loader):\r\n",
        "\r\n",
        "        images = images.view(-1, 28*28).to(device)\r\n",
        "        labels = labels.to(device)\r\n",
        "\r\n",
        "        # Clear gradients w.r.t. parameters\r\n",
        "        optimizer.zero_grad()\r\n",
        "\r\n",
        "        # Forward pass to get output/logits\r\n",
        "        logits, probas = model(images) \r\n",
        "\r\n",
        "        # Calculate Loss: PyTorch implementation of CrossEntropyLoss works with logits, not probabilities\r\n",
        "        loss = F.cross_entropy(logits, labels)\r\n",
        "\r\n",
        "        # Getting gradients w.r.t. parameters\r\n",
        "        loss.backward()\r\n",
        "\r\n",
        "        # Updating parameters\r\n",
        "        optimizer.step()\r\n",
        "\r\n",
        "        iter += 1\r\n",
        "\r\n",
        "        if iter % 500 == 0:\r\n",
        "            # Calculate Accuracy         \r\n",
        "            correct = 0\r\n",
        "            total = 0\r\n",
        "            # Iterate through test dataset\r\n",
        "            for images, labels in test_loader:\r\n",
        "               \r\n",
        "                images = images.view(-1, 28*28).to(device)\r\n",
        "\r\n",
        "                # Forward pass only to get logits/output\r\n",
        "                logits, probas = model(images)\r\n",
        "\r\n",
        "                # Get predictions from the maximum value\r\n",
        "                _, predicted = torch.max(probas, 1)\r\n",
        "\r\n",
        "                # Total number of labels\r\n",
        "                total += labels.size(0)\r\n",
        "\r\n",
        "\r\n",
        "                # Total correct predictions\r\n",
        "                if torch.cuda.is_available():\r\n",
        "                    correct += (predicted.cpu() == labels.cpu()).sum() \r\n",
        "                else:\r\n",
        "                    correct += (predicted == labels).sum()\r\n",
        "\r\n",
        "            accuracy = 100 * correct.item() / total\r\n",
        "\r\n",
        "            # Print Loss\r\n",
        "            iteration_loss.append(loss.item())\r\n",
        "            print('Iteration: {}. Loss: {}. Accuracy: {}'.format(iter, loss.item(), accuracy))\r\n",
        "print('-----------------------Simulation ends----------------------')\r\n",
        "curr_time()"
      ],
      "execution_count": null,
      "outputs": [
        {
          "output_type": "stream",
          "text": [
            "Current Time = 18:20:27\n",
            "Batch size: 200 ; Number of iterations: 5000 ; Learning rate: 0.001 ; Total training data size: 54908 ; Epoch size: 18\n",
            "-----------------------------------------------------------------------------------------------------------------------------------\n",
            "Epoch: 1\n",
            "Epoch: 2\n",
            "Epoch: 3\n",
            "Iteration: 500. Loss: 2.291888475418091. Accuracy: 13.07832422586521\n",
            "Epoch: 4\n",
            "Epoch: 5\n",
            "Iteration: 1000. Loss: 2.2847700119018555. Accuracy: 18.32422586520947\n",
            "Epoch: 6\n",
            "Epoch: 7\n",
            "Iteration: 1500. Loss: 2.2720959186553955. Accuracy: 22.422586520947178\n",
            "Epoch: 8\n",
            "Epoch: 9\n",
            "Iteration: 2000. Loss: 2.25595760345459. Accuracy: 22.094717668488162\n",
            "Epoch: 10\n",
            "Epoch: 11\n",
            "Iteration: 2500. Loss: 2.2577097415924072. Accuracy: 24.18943533697632\n",
            "Epoch: 12\n",
            "Epoch: 13\n",
            "Iteration: 3000. Loss: 2.240898847579956. Accuracy: 29.143897996357012\n",
            "Epoch: 14\n",
            "Epoch: 15\n",
            "Iteration: 3500. Loss: 2.2202820777893066. Accuracy: 31.548269581056466\n",
            "Epoch: 16\n",
            "Epoch: 17\n",
            "Iteration: 4000. Loss: 2.227083444595337. Accuracy: 30.491803278688526\n",
            "Epoch: 18\n",
            "-----------------------Simulation ends----------------------\n",
            "Current Time = 18:45:38\n"
          ],
          "name": "stdout"
        }
      ]
    },
    {
      "cell_type": "code",
      "metadata": {
        "colab": {
          "base_uri": "https://localhost:8080/",
          "height": 296
        },
        "id": "7NmWIoNU3zSP",
        "outputId": "97cb745b-ffdc-48d9-d743-f1f6487959f9"
      },
      "source": [
        "#PLOTTING LOSS PER 500 ITERATIONS\r\n",
        "\r\n",
        "print (iteration_loss)\r\n",
        "plt.plot(iteration_loss)\r\n",
        "plt.ylabel('Cross Entropy Loss')\r\n",
        "plt.xlabel('Iteration (in every 500)')\r\n",
        "plt.show()"
      ],
      "execution_count": null,
      "outputs": [
        {
          "output_type": "stream",
          "text": [
            "[2.291888475418091, 2.2847700119018555, 2.2720959186553955, 2.25595760345459, 2.2577097415924072, 2.240898847579956, 2.2202820777893066, 2.227083444595337]\n"
          ],
          "name": "stdout"
        },
        {
          "output_type": "display_data",
          "data": {
            "image/png": "[encoded data removed]",
            "text/plain": [
              "<Figure size 432x288 with 1 Axes>"
            ]
          },
          "metadata": {
            "tags": [],
            "needs_background": "light"
          }
        }
      ]
    },
    {
      "cell_type": "markdown",
      "metadata": {
        "id": "mkkN00hCwIIp"
      },
      "source": [
        "## **OBSERVATIONS AFTER EXPERIMENTING WITH BATCH-SIZE:-**\r\n",
        "\r\n",
        "\r\n",
        "---\r\n",
        "\r\n",
        "Now we can compare the data for the 3 settings (settings 1, 2, 3), where the learning rate, iterations and optimizer were static and only the batch size was varied, in order to determine which batch size we will use moving forward. A table is shown as follows:\r\n",
        "\r\n",
        "|     Criteria     | Batch Size = 100 | Batch Size = 50 | Batch Size = 200 |\r\n",
        "| :--------------- | :--------------: | :-------------: | :--------------: |\r\n",
        "| Initial Accuracy |      12.47%      |     13.00%      |      13.07%      |\r\n",
        "| Highest Accuracy |      29.10%      |     26.81%      |      **31.54%**      |\r\n",
        "| Final Accuracy   |      29.10%      |     25.46%      |      **30.49%**      || \r\n",
        "\r\n",
        "From here if we consider the **highest accuracy (31.54%)** as well as the **maximum growth in accuracy (30.49-13.07)% = 17.42%**, then we must consider **Batch-size = 200** as being the best among the three being brought into consideration. So moving forward in the subsequent experiments, we shall be using this value."
      ]
    },
    {
      "cell_type": "markdown",
      "metadata": {
        "id": "MzTBy2RL0g4X"
      },
      "source": [
        "# EXPERIMENTING WITH ITERATIONS:\r\n",
        "Now we will attempt to tune the hyper-parameter **iterations**. So we will perform 2 experiments. As we have already seen the performance of **iteration = 5000**, now we will try the same experiment with 2 other values, which are:\r\n",
        "\r\n",
        "* Iterations: 10000\r\n",
        "\r\n",
        "* Iterations: 2500\r\n",
        "\r\n",
        "Here, 1 value is higher than the baseline value that was used, and 1 is lower. By this gradual increasing and decreasing process, we can determine which value will be optimal for the hyper-parameter in the subsequent experiments for tuning the other hyperparameters. The values of the other hyper-parameters will remain constant for these 2 experiments:\r\n",
        "* Batch-size: 200\r\n",
        "* Learning-rate: 0.001\r\n",
        "* Optimizer: SGD\r\n",
        "\r\n",
        "## SETTING 4: Iteration number=2500"
      ]
    },
    {
      "cell_type": "code",
      "metadata": {
        "colab": {
          "base_uri": "https://localhost:8080/"
        },
        "id": "tUwCCqYY0k88",
        "outputId": "87f3de5f-b7a1-4cba-fc1e-c34692b5faa5"
      },
      "source": [
        "learning_rate = 0.001\r\n",
        "\r\n",
        "batch_size=200\r\n",
        "num_iters = 2500\r\n",
        "input_dim = 28*28 # num_features = 784\r\n",
        "output_dim = 10\r\n",
        "# split data 10% for testing\r\n",
        "test_size = 0.1\r\n",
        "\r\n",
        "num_epochs = num_iters / (len(train_data) / batch_size)\r\n",
        "num_epochs = int(num_epochs)\r\n",
        " \r\n",
        "\r\n",
        "# obtain training indices that will be used for validation\r\n",
        "num_train = len(train_data)\r\n",
        "\r\n",
        "# mix data\r\n",
        "# index of num of train\r\n",
        "indices = list(range(num_train))\r\n",
        "# random the index\r\n",
        "np.random.shuffle(indices)\r\n",
        "split = int(np.floor(test_size * num_train))\r\n",
        "# divied into two part\r\n",
        "train_idx, test_idx = indices[split:], indices[:split]\r\n",
        "\r\n",
        "# define the sampler\r\n",
        "train_sampler = SubsetRandomSampler(train_idx)\r\n",
        "test_sampler = SubsetRandomSampler(test_idx)\r\n",
        "\r\n",
        "# prepare loaders\r\n",
        "train_loader = torch.utils.data.DataLoader(\r\n",
        "    train_data, batch_size=batch_size,\r\n",
        "    sampler=train_sampler)\r\n",
        "\r\n",
        "test_loader = torch.utils.data.DataLoader(\r\n",
        "    test_data, batch_size=batch_size,\r\n",
        "    sampler=test_sampler)\r\n",
        "\r\n",
        "print(\"Train dataloader:{}\".format(len(train_loader)))\r\n",
        "print(\"Test dataloader:{}\".format(len(test_loader)))"
      ],
      "execution_count": null,
      "outputs": [
        {
          "output_type": "stream",
          "text": [
            "Train dataloader:248\n",
            "Test dataloader:28\n"
          ],
          "name": "stdout"
        }
      ]
    },
    {
      "cell_type": "code",
      "metadata": {
        "id": "bQJ3zg6I0r71"
      },
      "source": [
        "'''\r\n",
        "INSTANTIATE MODEL CLASS\r\n",
        "'''\r\n",
        "model = LogisticRegressionModel(input_size=input_dim,\r\n",
        "                                num_classes=output_dim)\r\n",
        "# To enable GPU\r\n",
        "model.to(device)\r\n",
        "\r\n",
        "# INSTANTIATE OPTIMIZER CLASS\r\n",
        "optimizer = torch.optim.SGD(model.parameters(), lr=learning_rate)"
      ],
      "execution_count": null,
      "outputs": []
    },
    {
      "cell_type": "code",
      "metadata": {
        "colab": {
          "base_uri": "https://localhost:8080/"
        },
        "id": "kqlVDciX0udF",
        "outputId": "f67ff693-5722-4fdd-a1d1-d5ef8f5e8793"
      },
      "source": [
        "'''\r\n",
        "TRAIN THE MODEL\r\n",
        "'''\r\n",
        "\r\n",
        "iteration_loss = []\r\n",
        "iter = 0\r\n",
        "curr_time()\r\n",
        "print('Batch size:',batch_size,'; Number of iterations:',num_iters,'; Learning rate:',learning_rate,'; Total training data size:',num_train,'; Epoch size:',num_epochs)\r\n",
        "print('-----------------------------------------------------------------------------------------------------------------------------------')\r\n",
        "for epoch in range(num_epochs):\r\n",
        "    print('Epoch:',epoch+1)\r\n",
        "    for i, (images, labels) in enumerate(train_loader):\r\n",
        "\r\n",
        "        images = images.view(-1, 28*28).to(device)\r\n",
        "        labels = labels.to(device)\r\n",
        "\r\n",
        "        # Clear gradients w.r.t. parameters\r\n",
        "        optimizer.zero_grad()\r\n",
        "\r\n",
        "        # Forward pass to get output/logits\r\n",
        "        logits, probas = model(images) \r\n",
        "\r\n",
        "        # Calculate Loss: PyTorch implementation of CrossEntropyLoss works with logits, not probabilities\r\n",
        "        loss = F.cross_entropy(logits, labels)\r\n",
        "\r\n",
        "        # Getting gradients w.r.t. parameters\r\n",
        "        loss.backward()\r\n",
        "\r\n",
        "        # Updating parameters\r\n",
        "        optimizer.step()\r\n",
        "\r\n",
        "        iter += 1\r\n",
        "\r\n",
        "        if iter % 500 == 0:\r\n",
        "            # Calculate Accuracy         \r\n",
        "            correct = 0\r\n",
        "            total = 0\r\n",
        "            # Iterate through test dataset\r\n",
        "            for images, labels in test_loader:\r\n",
        "               \r\n",
        "                images = images.view(-1, 28*28).to(device)\r\n",
        "\r\n",
        "                # Forward pass only to get logits/output\r\n",
        "                logits, probas = model(images)\r\n",
        "\r\n",
        "                # Get predictions from the maximum value\r\n",
        "                _, predicted = torch.max(probas, 1)\r\n",
        "\r\n",
        "                # Total number of labels\r\n",
        "                total += labels.size(0)\r\n",
        "\r\n",
        "\r\n",
        "                # Total correct predictions\r\n",
        "                if torch.cuda.is_available():\r\n",
        "                    correct += (predicted.cpu() == labels.cpu()).sum() \r\n",
        "                else:\r\n",
        "                    correct += (predicted == labels).sum()\r\n",
        "\r\n",
        "            accuracy = 100 * correct.item() / total\r\n",
        "\r\n",
        "            # Print Loss\r\n",
        "            iteration_loss.append(loss.item())\r\n",
        "            print('Iteration: {}. Loss: {}. Accuracy: {}'.format(iter, loss.item(), accuracy))\r\n",
        "print('-----------------------Simulation ends----------------------')\r\n",
        "\r\n",
        "curr_time()"
      ],
      "execution_count": null,
      "outputs": [
        {
          "output_type": "stream",
          "text": [
            "Current Time = 16:55:23\n",
            "Batch size: 200 ; Number of iterations: 2500 ; Learning rate: 0.001 ; Total training data size: 54908 ; Epoch size: 9\n",
            "-----------------------------------------------------------------------------------------------------------------------------------\n",
            "Epoch: 1\n",
            "Epoch: 2\n",
            "Epoch: 3\n",
            "Iteration: 500. Loss: 2.2928380966186523. Accuracy: 11.712204007285974\n",
            "Epoch: 4\n",
            "Epoch: 5\n",
            "Iteration: 1000. Loss: 2.2823173999786377. Accuracy: 15.136612021857923\n",
            "Epoch: 6\n",
            "Epoch: 7\n",
            "Iteration: 1500. Loss: 2.268326997756958. Accuracy: 17.632058287795992\n",
            "Epoch: 8\n",
            "Epoch: 9\n",
            "Iteration: 2000. Loss: 2.265981674194336. Accuracy: 21.34790528233151\n",
            "-----------------------Simulation ends----------------------\n",
            "Current Time = 17:08:13\n"
          ],
          "name": "stdout"
        }
      ]
    },
    {
      "cell_type": "code",
      "metadata": {
        "colab": {
          "base_uri": "https://localhost:8080/",
          "height": 296
        },
        "id": "jec-HA7S31cX",
        "outputId": "0bd9e073-67df-4223-ebf9-8739c675ac26"
      },
      "source": [
        "#PLOTTING LOSS PER 500 ITERATIONS\r\n",
        "\r\n",
        "print (iteration_loss)\r\n",
        "plt.plot(iteration_loss)\r\n",
        "plt.ylabel('Cross Entropy Loss')\r\n",
        "plt.xlabel('Iteration (in every 500)')\r\n",
        "plt.show()"
      ],
      "execution_count": null,
      "outputs": [
        {
          "output_type": "stream",
          "text": [
            "[2.2928380966186523, 2.2823173999786377, 2.268326997756958, 2.265981674194336]\n"
          ],
          "name": "stdout"
        },
        {
          "output_type": "display_data",
          "data": {
            "image/png": "[encoded data removed]",
            "text/plain": [
              "<Figure size 432x288 with 1 Axes>"
            ]
          },
          "metadata": {
            "tags": [],
            "needs_background": "light"
          }
        }
      ]
    },
    {
      "cell_type": "markdown",
      "metadata": {
        "id": "9A7MoqRY7IlR"
      },
      "source": [
        "## SETTING 5: Iteration number=10000"
      ]
    },
    {
      "cell_type": "code",
      "metadata": {
        "colab": {
          "base_uri": "https://localhost:8080/"
        },
        "id": "quUByzda7PE8",
        "outputId": "54f12b5f-77eb-4858-c436-b854fc25b420"
      },
      "source": [
        "learning_rate = 0.001\r\n",
        "\r\n",
        "\r\n",
        "batch_size=200\r\n",
        "num_iters = 10000\r\n",
        "input_dim = 28*28 # num_features = 784\r\n",
        "output_dim = 10\r\n",
        "# split data 10% for testing\r\n",
        "test_size = 0.1\r\n",
        "\r\n",
        "num_epochs = num_iters / (len(train_data) / batch_size)\r\n",
        "num_epochs = int(num_epochs)\r\n",
        "  \r\n",
        "\r\n",
        "# obtain training indices that will be used for validation\r\n",
        "num_train = len(train_data)\r\n",
        "\r\n",
        "# mix data\r\n",
        "# index of num of train\r\n",
        "indices = list(range(num_train))\r\n",
        "# random the index\r\n",
        "np.random.shuffle(indices)\r\n",
        "split = int(np.floor(test_size * num_train))\r\n",
        "# divied into two part\r\n",
        "train_idx, test_idx = indices[split:], indices[:split]\r\n",
        "\r\n",
        "# define the sampler\r\n",
        "train_sampler = SubsetRandomSampler(train_idx)\r\n",
        "test_sampler = SubsetRandomSampler(test_idx)\r\n",
        "\r\n",
        "# prepare loaders\r\n",
        "train_loader = torch.utils.data.DataLoader(\r\n",
        "    train_data, batch_size=batch_size,\r\n",
        "    sampler=train_sampler)\r\n",
        "\r\n",
        "test_loader = torch.utils.data.DataLoader(\r\n",
        "    test_data, batch_size=batch_size,\r\n",
        "    sampler=test_sampler)\r\n",
        "\r\n",
        "print(\"Train dataloader:{}\".format(len(train_loader)))\r\n",
        "print(\"Test dataloader:{}\".format(len(test_loader)))"
      ],
      "execution_count": null,
      "outputs": [
        {
          "output_type": "stream",
          "text": [
            "Train dataloader:248\n",
            "Test dataloader:28\n"
          ],
          "name": "stdout"
        }
      ]
    },
    {
      "cell_type": "code",
      "metadata": {
        "id": "Rby5lLBk7T-n"
      },
      "source": [
        "'''\r\n",
        "INSTANTIATE MODEL CLASS\r\n",
        "'''\r\n",
        "model = LogisticRegressionModel(input_size=input_dim,\r\n",
        "                                num_classes=output_dim)\r\n",
        "# To enable GPU\r\n",
        "model.to(device)\r\n",
        "\r\n",
        "# INSTANTIATE OPTIMIZER CLASS\r\n",
        "optimizer = torch.optim.SGD(model.parameters(), lr=learning_rate)"
      ],
      "execution_count": null,
      "outputs": []
    },
    {
      "cell_type": "code",
      "metadata": {
        "colab": {
          "base_uri": "https://localhost:8080/"
        },
        "id": "Sy2UXyQh7WJ2",
        "outputId": "128229e4-c87a-46bd-a7e8-633e2ed96cd1"
      },
      "source": [
        "'''\r\n",
        "TRAIN THE MODEL\r\n",
        "'''\r\n",
        "curr_time()\r\n",
        "\r\n",
        "iteration_loss = []\r\n",
        "iter = 0\r\n",
        "print('Batch size:',batch_size,'; Number of iterations:',num_iters,'; Learning rate:',learning_rate,'; Total training data size:',num_train,'; Epoch size:',num_epochs)\r\n",
        "print('-----------------------------------------------------------------------------------------------------------------------------------')\r\n",
        "for epoch in range(num_epochs):\r\n",
        "    print('Epoch:',epoch+1)\r\n",
        "    for i, (images, labels) in enumerate(train_loader):\r\n",
        "\r\n",
        "        images = images.view(-1, 28*28).to(device)\r\n",
        "        labels = labels.to(device)\r\n",
        "\r\n",
        "        # Clear gradients w.r.t. parameters\r\n",
        "        optimizer.zero_grad()\r\n",
        "\r\n",
        "        # Forward pass to get output/logits\r\n",
        "        logits, probas = model(images) \r\n",
        "\r\n",
        "        # Calculate Loss: PyTorch implementation of CrossEntropyLoss works with logits, not probabilities\r\n",
        "        loss = F.cross_entropy(logits, labels)\r\n",
        "\r\n",
        "        # Getting gradients w.r.t. parameters\r\n",
        "        loss.backward()\r\n",
        "\r\n",
        "        # Updating parameters\r\n",
        "        optimizer.step()\r\n",
        "\r\n",
        "        iter += 1\r\n",
        "\r\n",
        "        if iter % 500 == 0:\r\n",
        "            # Calculate Accuracy         \r\n",
        "            correct = 0\r\n",
        "            total = 0\r\n",
        "            # Iterate through test dataset\r\n",
        "            for images, labels in test_loader:\r\n",
        "               \r\n",
        "                images = images.view(-1, 28*28).to(device)\r\n",
        "\r\n",
        "                # Forward pass only to get logits/output\r\n",
        "                logits, probas = model(images)\r\n",
        "\r\n",
        "                # Get predictions from the maximum value\r\n",
        "                _, predicted = torch.max(probas, 1)\r\n",
        "\r\n",
        "                # Total number of labels\r\n",
        "                total += labels.size(0)\r\n",
        "\r\n",
        "\r\n",
        "                # Total correct predictions\r\n",
        "                if torch.cuda.is_available():\r\n",
        "                    correct += (predicted.cpu() == labels.cpu()).sum() \r\n",
        "                else:\r\n",
        "                    correct += (predicted == labels).sum()\r\n",
        "\r\n",
        "            accuracy = 100 * correct.item() / total\r\n",
        "\r\n",
        "            # Print Loss\r\n",
        "            iteration_loss.append(loss.item())\r\n",
        "            print('Iteration: {}. Loss: {}. Accuracy: {}'.format(iter, loss.item(), accuracy))\r\n",
        "print('-----------------------Simulation ends----------------------')\r\n",
        "\r\n",
        "curr_time()"
      ],
      "execution_count": null,
      "outputs": [
        {
          "output_type": "stream",
          "text": [
            "Current Time = 17:08:13\n",
            "Batch size: 200 ; Number of iterations: 10000 ; Learning rate: 0.001 ; Total training data size: 54908 ; Epoch size: 36\n",
            "-----------------------------------------------------------------------------------------------------------------------------------\n",
            "Epoch: 1\n",
            "Epoch: 2\n",
            "Epoch: 3\n",
            "Iteration: 500. Loss: 2.2974889278411865. Accuracy: 12.4408014571949\n",
            "Epoch: 4\n",
            "Epoch: 5\n",
            "Iteration: 1000. Loss: 2.2903974056243896. Accuracy: 13.515482695810565\n",
            "Epoch: 6\n",
            "Epoch: 7\n",
            "Iteration: 1500. Loss: 2.2776827812194824. Accuracy: 16.903460837887067\n",
            "Epoch: 8\n",
            "Epoch: 9\n",
            "Iteration: 2000. Loss: 2.2734525203704834. Accuracy: 21.183970856102004\n",
            "Epoch: 10\n",
            "Epoch: 11\n",
            "Iteration: 2500. Loss: 2.268542528152466. Accuracy: 24.043715846994534\n",
            "Epoch: 12\n",
            "Epoch: 13\n",
            "Iteration: 3000. Loss: 2.2498841285705566. Accuracy: 26.247723132969035\n",
            "Epoch: 14\n",
            "Epoch: 15\n",
            "Iteration: 3500. Loss: 2.2441203594207764. Accuracy: 27.449908925318763\n",
            "Epoch: 16\n",
            "Epoch: 17\n",
            "Iteration: 4000. Loss: 2.2188870906829834. Accuracy: 28.83424408014572\n",
            "Epoch: 18\n",
            "Epoch: 19\n",
            "Iteration: 4500. Loss: 2.2251861095428467. Accuracy: 31.948998178506375\n",
            "Epoch: 20\n",
            "Epoch: 21\n",
            "Iteration: 5000. Loss: 2.2090156078338623. Accuracy: 32.58652094717669\n",
            "Epoch: 22\n",
            "Epoch: 23\n",
            "Iteration: 5500. Loss: 2.1842403411865234. Accuracy: 33.278688524590166\n",
            "Epoch: 24\n",
            "Epoch: 25\n",
            "Iteration: 6000. Loss: 2.2008559703826904. Accuracy: 32.53187613843352\n",
            "Epoch: 26\n",
            "Epoch: 27\n",
            "Iteration: 6500. Loss: 2.2242038249969482. Accuracy: 34.080145719489984\n",
            "Epoch: 28\n",
            "Epoch: 29\n",
            "Iteration: 7000. Loss: 2.1717658042907715. Accuracy: 33.67941712204007\n",
            "Epoch: 30\n",
            "Epoch: 31\n",
            "Iteration: 7500. Loss: 2.1793429851531982. Accuracy: 33.89799635701275\n",
            "Epoch: 32\n",
            "Epoch: 33\n",
            "Iteration: 8000. Loss: 2.17636775970459. Accuracy: 34.8816029143898\n",
            "Epoch: 34\n",
            "Epoch: 35\n",
            "Iteration: 8500. Loss: 2.177022695541382. Accuracy: 33.66120218579235\n",
            "Epoch: 36\n",
            "-----------------------Simulation ends----------------------\n",
            "Current Time = 17:59:13\n"
          ],
          "name": "stdout"
        }
      ]
    },
    {
      "cell_type": "code",
      "metadata": {
        "colab": {
          "base_uri": "https://localhost:8080/",
          "height": 316
        },
        "id": "3HWC0v1X35Jn",
        "outputId": "3b280dee-2777-41b8-e614-9a07d11739bf"
      },
      "source": [
        "#PLOTTING LOSS PER 500 ITERATIONS\r\n",
        "\r\n",
        "print (iteration_loss)\r\n",
        "plt.plot(iteration_loss)\r\n",
        "plt.ylabel('Cross Entropy Loss')\r\n",
        "plt.xlabel('Iteration (in every 500)')\r\n",
        "plt.show()"
      ],
      "execution_count": null,
      "outputs": [
        {
          "output_type": "stream",
          "text": [
            "[2.2974889278411865, 2.2903974056243896, 2.2776827812194824, 2.2734525203704834, 2.268542528152466, 2.2498841285705566, 2.2441203594207764, 2.2188870906829834, 2.2251861095428467, 2.2090156078338623, 2.1842403411865234, 2.2008559703826904, 2.2242038249969482, 2.1717658042907715, 2.1793429851531982, 2.17636775970459, 2.177022695541382]\n"
          ],
          "name": "stdout"
        },
        {
          "output_type": "display_data",
          "data": {
            "image/png": "[encoded data removed]",
            "text/plain": [
              "<Figure size 432x288 with 1 Axes>"
            ]
          },
          "metadata": {
            "tags": [],
            "needs_background": "light"
          }
        }
      ]
    },
    {
      "cell_type": "markdown",
      "metadata": {
        "id": "FtcMQkCW8Ktc"
      },
      "source": [
        "## **OBSERVATIONS AFTER EXPERIMENTING WITH ITERATIONS:-**\r\n",
        "\r\n",
        "\r\n",
        "---\r\n",
        "\r\n",
        "Now we can compare the data for the 3 settings (settings 3, 4, 5), where the learning rate, batch-size and optimizer were static and only the iterations was varied, in order to determine which iterations we will use moving forward. A table is shown as follows:\r\n",
        "\r\n",
        "|     Criteria     | Iterations = 5000 | Iterations = 2500 | Iterations = 10000 |\r\n",
        "| :--------------- | :---------------: | :---------------: | :----------------: |\r\n",
        "| Initial Accuracy |       11.45%      |      11.71%       |       12.44%       |\r\n",
        "| Highest Accuracy |       30.32%      |      21.34%       |       **34.88%**       |\r\n",
        "| Final Accuracy   |       30.32%      |      21.34%       |       **33.66%**       || \r\n",
        "\r\n",
        "From here if we consider the **highest accuracy (34.88%)** as well as the **maximum growth in accuracy (33.66-12.44)% = 21.22%**, then we must consider **Iteration count = 10000** as being the best among the three being brought into consideration. So moving forward in the subsequent experiments, we shall be using this value."
      ]
    },
    {
      "cell_type": "markdown",
      "metadata": {
        "id": "1baI8h4FWmHT"
      },
      "source": [
        "# EXPERIMENTING WITH LEARNING RATE\r\n",
        "Now we will attempt to tune the hyper-parameter **learning-rate**. So we will perform 2 experiments. As we have already seen the performance of **learning-rate = 0.001**, now we will try the same experiment with 2 other values, which are:\r\n",
        "* Learning-rate: 0.01\r\n",
        "* Learning-rate: 0.0001\r\n",
        "\r\n",
        "Here, 1 value is higher than the baseline value that was used (multiplying baseline LR by 10), and 1 is lower (dividing baseline LR by 10). By this gradual increasing and decreasing process, we can determine which value will be optimal for the hyper-parameter in the subsequent experiments for tuning the other hyperparameters. The values of the other hyper-parameters will remain constant for these 2 experiments:\r\n",
        "* Batch-size: 200\r\n",
        "* Iterations: 10000\r\n",
        "* Optimizer: SGD\r\n",
        "\r\n",
        "## SETTING 6: LR=0.01"
      ]
    },
    {
      "cell_type": "code",
      "metadata": {
        "colab": {
          "base_uri": "https://localhost:8080/"
        },
        "id": "ml9kSmHpWpyq",
        "outputId": "745c2712-7157-4fd2-c820-04dd7b7bbf1d"
      },
      "source": [
        "learning_rate = 0.01\r\n",
        "\r\n",
        "\r\n",
        "batch_size=200\r\n",
        "num_iters = 10000\r\n",
        "input_dim = 28*28 # num_features = 784\r\n",
        "output_dim = 10\r\n",
        "# split data 10% for testing\r\n",
        "test_size = 0.1\r\n",
        "\r\n",
        "num_epochs = num_iters / (len(train_data) / batch_size)\r\n",
        "num_epochs = int(num_epochs)\r\n",
        "\r\n",
        "\r\n",
        "# obtain training indices that will be used for validation\r\n",
        "num_train = len(train_data)\r\n",
        "\r\n",
        "# mix data\r\n",
        "# index of num of train\r\n",
        "indices = list(range(num_train))\r\n",
        "# random the index\r\n",
        "np.random.shuffle(indices)\r\n",
        "split = int(np.floor(test_size * num_train))\r\n",
        "# divied into two part\r\n",
        "train_idx, test_idx = indices[split:], indices[:split]\r\n",
        "\r\n",
        "# define the sampler\r\n",
        "train_sampler = SubsetRandomSampler(train_idx)\r\n",
        "test_sampler = SubsetRandomSampler(test_idx)\r\n",
        "\r\n",
        "# prepare loaders\r\n",
        "train_loader = torch.utils.data.DataLoader(\r\n",
        "    train_data, batch_size=batch_size,\r\n",
        "    sampler=train_sampler)\r\n",
        "\r\n",
        "test_loader = torch.utils.data.DataLoader(\r\n",
        "    test_data, batch_size=batch_size,\r\n",
        "    sampler=test_sampler)\r\n",
        "\r\n",
        "print(\"Train dataloader:{}\".format(len(train_loader)))\r\n",
        "print(\"Test dataloader:{}\".format(len(test_loader)))"
      ],
      "execution_count": null,
      "outputs": [
        {
          "output_type": "stream",
          "text": [
            "Train dataloader:248\n",
            "Test dataloader:28\n"
          ],
          "name": "stdout"
        }
      ]
    },
    {
      "cell_type": "code",
      "metadata": {
        "id": "_DlTzmTKWsqd"
      },
      "source": [
        "'''\r\n",
        "INSTANTIATE MODEL CLASS\r\n",
        "'''\r\n",
        "model = LogisticRegressionModel(input_size=input_dim,\r\n",
        "                                num_classes=output_dim)\r\n",
        "# To enable GPU\r\n",
        "model.to(device)\r\n",
        "\r\n",
        "# INSTANTIATE OPTIMIZER CLASS\r\n",
        "optimizer = torch.optim.SGD(model.parameters(), lr=learning_rate)"
      ],
      "execution_count": null,
      "outputs": []
    },
    {
      "cell_type": "code",
      "metadata": {
        "colab": {
          "base_uri": "https://localhost:8080/"
        },
        "id": "dpzceeSmW0sQ",
        "outputId": "06227c31-ac73-430e-80f4-f34486b427c9"
      },
      "source": [
        "'''\r\n",
        "TRAIN THE MODEL\r\n",
        "'''\r\n",
        "curr_time()\r\n",
        "\r\n",
        "iteration_loss = []\r\n",
        "iter = 0\r\n",
        "print('Batch size:',batch_size,'; Number of iterations:',num_iters,'; Learning rate:',learning_rate,'; Total training data size:',num_train,'; Epoch size:',num_epochs)\r\n",
        "print('-----------------------------------------------------------------------------------------------------------------------------------')\r\n",
        "for epoch in range(num_epochs):\r\n",
        "    print('Epoch:',epoch+1)\r\n",
        "    for i, (images, labels) in enumerate(train_loader):\r\n",
        "\r\n",
        "        images = images.view(-1, 28*28).to(device)\r\n",
        "        labels = labels.to(device)\r\n",
        "\r\n",
        "        # Clear gradients w.r.t. parameters\r\n",
        "        optimizer.zero_grad()\r\n",
        "\r\n",
        "        # Forward pass to get output/logits\r\n",
        "        logits, probas = model(images) \r\n",
        "\r\n",
        "        # Calculate Loss: PyTorch implementation of CrossEntropyLoss works with logits, not probabilities\r\n",
        "        loss = F.cross_entropy(logits, labels)\r\n",
        "\r\n",
        "        # Getting gradients w.r.t. parameters\r\n",
        "        loss.backward()\r\n",
        "\r\n",
        "        # Updating parameters\r\n",
        "        optimizer.step()\r\n",
        "\r\n",
        "        iter += 1\r\n",
        "\r\n",
        "        if iter % 500 == 0:\r\n",
        "            # Calculate Accuracy         \r\n",
        "            correct = 0\r\n",
        "            total = 0\r\n",
        "            # Iterate through test dataset\r\n",
        "            for images, labels in test_loader:\r\n",
        "               \r\n",
        "                images = images.view(-1, 28*28).to(device)\r\n",
        "\r\n",
        "                # Forward pass only to get logits/output\r\n",
        "                logits, probas = model(images)\r\n",
        "\r\n",
        "                # Get predictions from the maximum value\r\n",
        "                _, predicted = torch.max(probas, 1)\r\n",
        "\r\n",
        "                # Total number of labels\r\n",
        "                total += labels.size(0)\r\n",
        "\r\n",
        "\r\n",
        "                # Total correct predictions\r\n",
        "                if torch.cuda.is_available():\r\n",
        "                    correct += (predicted.cpu() == labels.cpu()).sum() \r\n",
        "                else:\r\n",
        "                    correct += (predicted == labels).sum()\r\n",
        "\r\n",
        "            accuracy = 100 * correct.item() / total\r\n",
        "\r\n",
        "            # Print Loss\r\n",
        "            iteration_loss.append(loss.item())\r\n",
        "            print('Iteration: {}. Loss: {}. Accuracy: {}'.format(iter, loss.item(), accuracy))\r\n",
        "print('-----------------------Simulation ends----------------------')\r\n",
        "\r\n",
        "curr_time()"
      ],
      "execution_count": null,
      "outputs": [
        {
          "output_type": "stream",
          "text": [
            "Current Time = 15:57:49\n",
            "Batch size: 200 ; Number of iterations: 10000 ; Learning rate: 0.01 ; Total training data size: 54908 ; Epoch size: 36\n",
            "-----------------------------------------------------------------------------------------------------------------------------------\n",
            "Epoch: 1\n",
            "Epoch: 2\n",
            "Epoch: 3\n",
            "Iteration: 500. Loss: 2.203472852706909. Accuracy: 24.08014571948998\n",
            "Epoch: 4\n",
            "Epoch: 5\n",
            "Iteration: 1000. Loss: 2.1201071739196777. Accuracy: 28.67030965391621\n",
            "Epoch: 6\n",
            "Epoch: 7\n",
            "Iteration: 1500. Loss: 2.0986907482147217. Accuracy: 33.588342440801455\n",
            "Epoch: 8\n",
            "Epoch: 9\n",
            "Iteration: 2000. Loss: 2.0585896968841553. Accuracy: 36.48451730418944\n",
            "Epoch: 10\n",
            "Epoch: 11\n",
            "Iteration: 2500. Loss: 2.0308585166931152. Accuracy: 38.21493624772313\n",
            "Epoch: 12\n",
            "Epoch: 13\n",
            "Iteration: 3000. Loss: 1.911757230758667. Accuracy: 38.43351548269581\n",
            "Epoch: 14\n",
            "Epoch: 15\n",
            "Iteration: 3500. Loss: 1.9793514013290405. Accuracy: 37.85063752276867\n",
            "Epoch: 16\n",
            "Epoch: 17\n",
            "Iteration: 4000. Loss: 1.98796808719635. Accuracy: 39.65391621129326\n",
            "Epoch: 18\n",
            "Epoch: 19\n",
            "Iteration: 4500. Loss: 1.936609148979187. Accuracy: 39.65391621129326\n",
            "Epoch: 20\n",
            "Epoch: 21\n",
            "Iteration: 5000. Loss: 1.9337397813796997. Accuracy: 39.162112932604735\n",
            "Epoch: 22\n",
            "Epoch: 23\n",
            "Iteration: 5500. Loss: 1.9692964553833008. Accuracy: 40.145719489981786\n",
            "Epoch: 24\n",
            "Epoch: 25\n",
            "Iteration: 6000. Loss: 1.8976035118103027. Accuracy: 41.94899817850637\n",
            "Epoch: 26\n",
            "Epoch: 27\n",
            "Iteration: 6500. Loss: 1.971867322921753. Accuracy: 42.16757741347905\n",
            "Epoch: 28\n",
            "Epoch: 29\n",
            "Iteration: 7000. Loss: 1.9161467552185059. Accuracy: 41.0200364298725\n",
            "Epoch: 30\n",
            "Epoch: 31\n",
            "Iteration: 7500. Loss: 1.8792386054992676. Accuracy: 43.04189435336976\n",
            "Epoch: 32\n",
            "Epoch: 33\n",
            "Iteration: 8000. Loss: 1.7959389686584473. Accuracy: 43.114754098360656\n",
            "Epoch: 34\n",
            "Epoch: 35\n",
            "Iteration: 8500. Loss: 1.9513168334960938. Accuracy: 42.96903460837887\n",
            "Epoch: 36\n",
            "-----------------------Simulation ends----------------------\n",
            "Current Time = 16:48:38\n"
          ],
          "name": "stdout"
        }
      ]
    },
    {
      "cell_type": "code",
      "metadata": {
        "colab": {
          "base_uri": "https://localhost:8080/",
          "height": 316
        },
        "id": "u5Yq1DJu38VL",
        "outputId": "88f77773-d6b5-4131-c9fb-f8419a6e2f8f"
      },
      "source": [
        "#PLOTTING LOSS PER 500 ITERATIONS\r\n",
        "\r\n",
        "print (iteration_loss)\r\n",
        "plt.plot(iteration_loss)\r\n",
        "plt.ylabel('Cross Entropy Loss')\r\n",
        "plt.xlabel('Iteration (in every 500)')\r\n",
        "plt.show()"
      ],
      "execution_count": null,
      "outputs": [
        {
          "output_type": "stream",
          "text": [
            "[2.203472852706909, 2.1201071739196777, 2.0986907482147217, 2.0585896968841553, 2.0308585166931152, 1.911757230758667, 1.9793514013290405, 1.98796808719635, 1.936609148979187, 1.9337397813796997, 1.9692964553833008, 1.8976035118103027, 1.971867322921753, 1.9161467552185059, 1.8792386054992676, 1.7959389686584473, 1.9513168334960938]\n"
          ],
          "name": "stdout"
        },
        {
          "output_type": "display_data",
          "data": {
            "image/png": "[encoded data removed]",
            "text/plain": [
              "<Figure size 432x288 with 1 Axes>"
            ]
          },
          "metadata": {
            "tags": [],
            "needs_background": "light"
          }
        }
      ]
    },
    {
      "cell_type": "markdown",
      "metadata": {
        "id": "TGUn2xoVAovS"
      },
      "source": [
        "## SETTING 7: LR=0.0001"
      ]
    },
    {
      "cell_type": "code",
      "metadata": {
        "colab": {
          "base_uri": "https://localhost:8080/"
        },
        "id": "vnU8lZXlAycF",
        "outputId": "6e153213-8040-405c-b8ed-43eb30261b6f"
      },
      "source": [
        "learning_rate = 0.0001\r\n",
        "\r\n",
        "batch_size=200\r\n",
        "num_iters = 10000\r\n",
        "input_dim = 28*28 # num_features = 784\r\n",
        "output_dim = 10\r\n",
        "\r\n",
        "# split data 10% for testing\r\n",
        "test_size = 0.1\r\n",
        "\r\n",
        "num_epochs = num_iters / (len(train_data) / batch_size)\r\n",
        "num_epochs = int(num_epochs)\r\n",
        "\r\n",
        "# obtain training indices that will be used for validation\r\n",
        "num_train = len(train_data)\r\n",
        "\r\n",
        "# mix data\r\n",
        "# index of num of train\r\n",
        "indices = list(range(num_train))\r\n",
        "# random the index\r\n",
        "np.random.shuffle(indices)\r\n",
        "split = int(np.floor(test_size * num_train))\r\n",
        "# divied into two part\r\n",
        "train_idx, test_idx = indices[split:], indices[:split]\r\n",
        "\r\n",
        "# define the sampler\r\n",
        "train_sampler = SubsetRandomSampler(train_idx)\r\n",
        "test_sampler = SubsetRandomSampler(test_idx)\r\n",
        "\r\n",
        "# prepare loaders\r\n",
        "train_loader = torch.utils.data.DataLoader(\r\n",
        "    train_data, batch_size=batch_size,\r\n",
        "    sampler=train_sampler)\r\n",
        "\r\n",
        "test_loader = torch.utils.data.DataLoader(\r\n",
        "    test_data, batch_size=batch_size,\r\n",
        "    sampler=test_sampler)\r\n",
        "\r\n",
        "print(\"Train dataloader:{}\".format(len(train_loader)))\r\n",
        "print(\"Test dataloader:{}\".format(len(test_loader)))"
      ],
      "execution_count": null,
      "outputs": [
        {
          "output_type": "stream",
          "text": [
            "Train dataloader:248\n",
            "Test dataloader:28\n"
          ],
          "name": "stdout"
        }
      ]
    },
    {
      "cell_type": "code",
      "metadata": {
        "id": "NDxW5JteAynn"
      },
      "source": [
        "'''\r\n",
        "INSTANTIATE MODEL CLASS\r\n",
        "'''\r\n",
        "model = LogisticRegressionModel(input_size=input_dim,\r\n",
        "                                num_classes=output_dim)\r\n",
        "# To enable GPU\r\n",
        "model.to(device)\r\n",
        "\r\n",
        "# INSTANTIATE OPTIMIZER CLASS\r\n",
        "optimizer = torch.optim.Adagrad(model.parameters(), lr=learning_rate)"
      ],
      "execution_count": null,
      "outputs": []
    },
    {
      "cell_type": "code",
      "metadata": {
        "colab": {
          "base_uri": "https://localhost:8080/"
        },
        "id": "3-BTPQ08Ayz5",
        "outputId": "ec7a8e63-5f36-4d91-bdf0-928070a9fbc4"
      },
      "source": [
        "'''\r\n",
        "TRAIN THE MODEL\r\n",
        "'''\r\n",
        "curr_time()\r\n",
        "\r\n",
        "iteration_loss = []\r\n",
        "iter = 0\r\n",
        "print('Batch size:',batch_size,'; Number of iterations:',num_iters,'; Learning rate:',learning_rate,'; Total training data size:',num_train,'; Epoch size:',num_epochs)\r\n",
        "print('-----------------------------------------------------------------------------------------------------------------------------------')\r\n",
        "for epoch in range(num_epochs):\r\n",
        "    print('Epoch:',epoch+1)\r\n",
        "    for i, (images, labels) in enumerate(train_loader):\r\n",
        "\r\n",
        "        images = images.view(-1, 28*28).to(device)\r\n",
        "        labels = labels.to(device)\r\n",
        "\r\n",
        "        # Clear gradients w.r.t. parameters\r\n",
        "        optimizer.zero_grad()\r\n",
        "\r\n",
        "        # Forward pass to get output/logits\r\n",
        "        logits, probas = model(images) \r\n",
        "\r\n",
        "        # Calculate Loss: PyTorch implementation of CrossEntropyLoss works with logits, not probabilities\r\n",
        "        loss = F.cross_entropy(logits, labels)\r\n",
        "\r\n",
        "        # Getting gradients w.r.t. parameters\r\n",
        "        loss.backward()\r\n",
        "\r\n",
        "        # Updating parameters\r\n",
        "        optimizer.step()\r\n",
        "\r\n",
        "        iter += 1\r\n",
        "\r\n",
        "        if iter % 500 == 0:\r\n",
        "            # Calculate Accuracy         \r\n",
        "            correct = 0\r\n",
        "            total = 0\r\n",
        "            # Iterate through test dataset\r\n",
        "            for images, labels in test_loader:\r\n",
        "               \r\n",
        "                images = images.view(-1, 28*28).to(device)\r\n",
        "\r\n",
        "                # Forward pass only to get logits/output\r\n",
        "                logits, probas = model(images)\r\n",
        "\r\n",
        "                # Get predictions from the maximum value\r\n",
        "                _, predicted = torch.max(probas, 1)\r\n",
        "\r\n",
        "                # Total number of labels\r\n",
        "                total += labels.size(0)\r\n",
        "\r\n",
        "\r\n",
        "                # Total correct predictions\r\n",
        "                if torch.cuda.is_available():\r\n",
        "                    correct += (predicted.cpu() == labels.cpu()).sum() \r\n",
        "                else:\r\n",
        "                    correct += (predicted == labels).sum()\r\n",
        "\r\n",
        "            accuracy = 100 * correct.item() / total\r\n",
        "\r\n",
        "            # Print Loss\r\n",
        "            iteration_loss.append(loss.item())\r\n",
        "            print('Iteration: {}. Loss: {}. Accuracy: {}'.format(iter, loss.item(), accuracy))\r\n",
        "print('-----------------------Simulation ends----------------------')\r\n",
        "\r\n",
        "curr_time()"
      ],
      "execution_count": null,
      "outputs": [
        {
          "output_type": "stream",
          "text": [
            "Current Time = 18:49:08\n",
            "Batch size: 200 ; Number of iterations: 10000 ; Learning rate: 0.0001 ; Total training data size: 54908 ; Epoch size: 36\n",
            "-----------------------------------------------------------------------------------------------------------------------------------\n",
            "Epoch: 1\n",
            "Epoch: 2\n",
            "Epoch: 3\n",
            "Iteration: 500. Loss: 2.3018765449523926. Accuracy: 8.979963570127504\n",
            "Epoch: 4\n",
            "Epoch: 5\n",
            "Iteration: 1000. Loss: 2.3027658462524414. Accuracy: 9.890710382513662\n",
            "Epoch: 6\n",
            "Epoch: 7\n",
            "Iteration: 1500. Loss: 2.3060948848724365. Accuracy: 10.619307832422587\n",
            "Epoch: 8\n",
            "Epoch: 9\n",
            "Iteration: 2000. Loss: 2.301252841949463. Accuracy: 11.256830601092895\n",
            "Epoch: 10\n",
            "Epoch: 11\n",
            "Iteration: 2500. Loss: 2.300347089767456. Accuracy: 10.87431693989071\n",
            "Epoch: 12\n",
            "Epoch: 13\n",
            "Iteration: 3000. Loss: 2.295670986175537. Accuracy: 11.548269581056466\n",
            "Epoch: 14\n",
            "Epoch: 15\n",
            "Iteration: 3500. Loss: 2.297593355178833. Accuracy: 11.857923497267759\n",
            "Epoch: 16\n",
            "Epoch: 17\n",
            "Iteration: 4000. Loss: 2.299189805984497. Accuracy: 12.003642987249545\n",
            "Epoch: 18\n",
            "Epoch: 19\n",
            "Iteration: 4500. Loss: 2.291795253753662. Accuracy: 12.641165755919854\n",
            "Epoch: 20\n",
            "Epoch: 21\n",
            "Iteration: 5000. Loss: 2.288609266281128. Accuracy: 12.969034608378871\n",
            "Epoch: 22\n",
            "Epoch: 23\n",
            "Iteration: 5500. Loss: 2.2876768112182617. Accuracy: 13.041894353369763\n",
            "Epoch: 24\n",
            "Epoch: 25\n",
            "Iteration: 6000. Loss: 2.2982044219970703. Accuracy: 13.02367941712204\n",
            "Epoch: 26\n",
            "Epoch: 27\n",
            "Iteration: 6500. Loss: 2.285449743270874. Accuracy: 13.570127504553733\n",
            "Epoch: 28\n",
            "Epoch: 29\n",
            "Iteration: 7000. Loss: 2.2858757972717285. Accuracy: 13.843351548269581\n",
            "Epoch: 30\n",
            "Epoch: 31\n",
            "Iteration: 7500. Loss: 2.2826075553894043. Accuracy: 14.517304189435338\n",
            "Epoch: 32\n",
            "Epoch: 33\n",
            "Iteration: 8000. Loss: 2.282991886138916. Accuracy: 14.426229508196721\n",
            "Epoch: 34\n",
            "Epoch: 35\n",
            "Iteration: 8500. Loss: 2.287698268890381. Accuracy: 15.045537340619308\n",
            "Epoch: 36\n",
            "-----------------------Simulation ends----------------------\n",
            "Current Time = 19:39:32\n"
          ],
          "name": "stdout"
        }
      ]
    },
    {
      "cell_type": "code",
      "metadata": {
        "colab": {
          "base_uri": "https://localhost:8080/",
          "height": 316
        },
        "id": "hCRLwbjZAy-h",
        "outputId": "d5492f25-7398-4b83-bcc7-242f5cf4e0a4"
      },
      "source": [
        "#PLOTTING LOSS PER 500 ITERATIONS\r\n",
        "\r\n",
        "print (iteration_loss)\r\n",
        "plt.plot(iteration_loss)\r\n",
        "plt.ylabel('Cross Entropy Loss')\r\n",
        "plt.xlabel('Iteration (in every 500)')\r\n",
        "plt.show()"
      ],
      "execution_count": null,
      "outputs": [
        {
          "output_type": "stream",
          "text": [
            "[2.3018765449523926, 2.3027658462524414, 2.3060948848724365, 2.301252841949463, 2.300347089767456, 2.295670986175537, 2.297593355178833, 2.299189805984497, 2.291795253753662, 2.288609266281128, 2.2876768112182617, 2.2982044219970703, 2.285449743270874, 2.2858757972717285, 2.2826075553894043, 2.282991886138916, 2.287698268890381]\n"
          ],
          "name": "stdout"
        },
        {
          "output_type": "display_data",
          "data": {
            "image/png": "[encoded data removed]",
            "text/plain": [
              "<Figure size 432x288 with 1 Axes>"
            ]
          },
          "metadata": {
            "tags": [],
            "needs_background": "light"
          }
        }
      ]
    },
    {
      "cell_type": "markdown",
      "metadata": {
        "id": "Aft-YOF7Bf5q"
      },
      "source": [
        "## **OBSERVATIONS AFTER EXPERIMENTING WITH LEARNING RATE:-**\r\n",
        "\r\n",
        "\r\n",
        "---\r\n",
        "\r\n",
        "Now we can compare the data for the 3 settings (setting 5, 6, 7), where the iterations, batch-size and optimizer were static and only the learning rate was varied, in order to determine which learning rate we will use moving forward. A table is shown as follows:\r\n",
        "\r\n",
        "|     Criteria     |  LR = 0.001  |  LR = 0.01  |  LR = 0.0001  |\r\n",
        "| :--------------- | :----------: | :---------: | :-----------: |\r\n",
        "| Initial Accuracy |    12.44%    |   24.08%    |    8.979%     |\r\n",
        "| Highest Accuracy |    34.88%    |   **43.11%**    |    15.04%     |\r\n",
        "| Final Accuracy   |    33.66%    |   **42.96%**    |    15.04%     || \r\n",
        "\r\n",
        "From here if we consider the highest accuracy (43.11%), as well as the highest final accuracy (42.96%) then we must consider **Learning Rate = 0.01** as being the best among the three being brought into consideration. So moving forward in the subsequent experiments, we shall be using this value."
      ]
    },
    {
      "cell_type": "markdown",
      "metadata": {
        "id": "E3XJXtLzftJV"
      },
      "source": [
        "# EXPERIMENTING WITH OPTIMIZERS\r\n",
        "Now we will attempt to select an optimizer that performs the best with the 3 chosen hyper-parameters. So we will perform 5 experiments. As we have already seen the performance of **SGD**, now we will try the same experiment with 5 other optimizers, which are:\r\n",
        "* Adagrad\r\n",
        "* Adam\r\n",
        "* ASGD\r\n",
        "* RMSprop\r\n",
        "* Rprop\r\n",
        "\r\n",
        "The values of the other hyper-parameters will remain constant for these 5 experiments:\r\n",
        "* Batch-size: 200\r\n",
        "* Iterations: 10000\r\n",
        "* Learning Rate: 0.01\r\n",
        "\r\n",
        "\r\n",
        "## SETTING 8: Optimizer ADAGRAD\r\n"
      ]
    },
    {
      "cell_type": "code",
      "metadata": {
        "colab": {
          "base_uri": "https://localhost:8080/"
        },
        "id": "A-fci8SLfwmO",
        "outputId": "7251abed-00f4-4480-ef90-f5ec056bfe1c"
      },
      "source": [
        "learning_rate = 0.01\r\n",
        "\r\n",
        "\r\n",
        "batch_size=200\r\n",
        "num_iters = 10000\r\n",
        "input_dim = 28*28 # num_features = 784\r\n",
        "output_dim = 10\r\n",
        "# split data 10% for testing\r\n",
        "test_size = 0.1\r\n",
        "\r\n",
        "num_epochs = num_iters / (len(train_data) / batch_size)\r\n",
        "num_epochs = int(num_epochs)\r\n",
        "\r\n",
        "# obtain training indices that will be used for validation\r\n",
        "num_train = len(train_data)\r\n",
        "\r\n",
        "# mix data\r\n",
        "# index of num of train\r\n",
        "indices = list(range(num_train))\r\n",
        "# random the index\r\n",
        "np.random.shuffle(indices)\r\n",
        "split = int(np.floor(test_size * num_train))\r\n",
        "# divied into two part\r\n",
        "train_idx, test_idx = indices[split:], indices[:split]\r\n",
        "\r\n",
        "# define the sampler\r\n",
        "train_sampler = SubsetRandomSampler(train_idx)\r\n",
        "test_sampler = SubsetRandomSampler(test_idx)\r\n",
        "\r\n",
        "# prepare loaders\r\n",
        "train_loader = torch.utils.data.DataLoader(\r\n",
        "    train_data, batch_size=batch_size,\r\n",
        "    sampler=train_sampler)\r\n",
        "\r\n",
        "test_loader = torch.utils.data.DataLoader(\r\n",
        "    test_data, batch_size=batch_size,\r\n",
        "    sampler=test_sampler)\r\n",
        "\r\n",
        "print(\"Train dataloader:{}\".format(len(train_loader)))\r\n",
        "print(\"Test dataloader:{}\".format(len(test_loader)))"
      ],
      "execution_count": null,
      "outputs": [
        {
          "output_type": "stream",
          "text": [
            "Train dataloader:248\n",
            "Test dataloader:28\n"
          ],
          "name": "stdout"
        }
      ]
    },
    {
      "cell_type": "code",
      "metadata": {
        "id": "_TwR4xsaf07j"
      },
      "source": [
        "'''\r\n",
        "INSTANTIATE MODEL CLASS\r\n",
        "'''\r\n",
        "model = LogisticRegressionModel(input_size=input_dim,\r\n",
        "                                num_classes=output_dim)\r\n",
        "# To enable GPU\r\n",
        "model.to(device)\r\n",
        "\r\n",
        "# INSTANTIATE OPTIMIZER CLASS\r\n",
        "optimizer = torch.optim.Adagrad(model.parameters(), lr=learning_rate)"
      ],
      "execution_count": null,
      "outputs": []
    },
    {
      "cell_type": "code",
      "metadata": {
        "colab": {
          "base_uri": "https://localhost:8080/"
        },
        "id": "dVky6hn7f5pa",
        "outputId": "4c2e90b6-a7f8-42ee-b7cc-86a009fc31d1"
      },
      "source": [
        "'''\r\n",
        "TRAIN THE MODEL\r\n",
        "'''\r\n",
        "curr_time()\r\n",
        "\r\n",
        "iteration_loss = []\r\n",
        "iter = 0\r\n",
        "print('Batch size:',batch_size,'; Number of iterations:',num_iters,'; Learning rate:',learning_rate,'; Total training data size:',num_train,'; Epoch size:',num_epochs)\r\n",
        "print('-----------------------------------------------------------------------------------------------------------------------------------')\r\n",
        "for epoch in range(num_epochs):\r\n",
        "    print('Epoch:',epoch+1)\r\n",
        "    for i, (images, labels) in enumerate(train_loader):\r\n",
        "\r\n",
        "        images = images.view(-1, 28*28).to(device)\r\n",
        "        labels = labels.to(device)\r\n",
        "\r\n",
        "        # Clear gradients w.r.t. parameters\r\n",
        "        optimizer.zero_grad()\r\n",
        "\r\n",
        "        # Forward pass to get output/logits\r\n",
        "        logits, probas = model(images) \r\n",
        "\r\n",
        "        # Calculate Loss: PyTorch implementation of CrossEntropyLoss works with logits, not probabilities\r\n",
        "        loss = F.cross_entropy(logits, labels)\r\n",
        "\r\n",
        "        # Getting gradients w.r.t. parameters\r\n",
        "        loss.backward()\r\n",
        "\r\n",
        "        # Updating parameters\r\n",
        "        optimizer.step()\r\n",
        "\r\n",
        "        iter += 1\r\n",
        "\r\n",
        "        if iter % 500 == 0:\r\n",
        "            # Calculate Accuracy         \r\n",
        "            correct = 0\r\n",
        "            total = 0\r\n",
        "            # Iterate through test dataset\r\n",
        "            for images, labels in test_loader:\r\n",
        "               \r\n",
        "                images = images.view(-1, 28*28).to(device)\r\n",
        "\r\n",
        "                # Forward pass only to get logits/output\r\n",
        "                logits, probas = model(images)\r\n",
        "\r\n",
        "                # Get predictions from the maximum value\r\n",
        "                _, predicted = torch.max(probas, 1)\r\n",
        "\r\n",
        "                # Total number of labels\r\n",
        "                total += labels.size(0)\r\n",
        "\r\n",
        "\r\n",
        "                # Total correct predictions\r\n",
        "                if torch.cuda.is_available():\r\n",
        "                    correct += (predicted.cpu() == labels.cpu()).sum() \r\n",
        "                else:\r\n",
        "                    correct += (predicted == labels).sum()\r\n",
        "\r\n",
        "            accuracy = 100 * correct.item() / total\r\n",
        "\r\n",
        "            # Print Loss\r\n",
        "            iteration_loss.append(loss.item())\r\n",
        "            print('Iteration: {}. Loss: {}. Accuracy: {}'.format(iter, loss.item(), accuracy))\r\n",
        "print('-----------------------Simulation ends----------------------')\r\n",
        "\r\n",
        "curr_time()"
      ],
      "execution_count": null,
      "outputs": [
        {
          "output_type": "stream",
          "text": [
            "Current Time = 04:23:31\n",
            "Batch size: 200 ; Number of iterations: 10000 ; Learning rate: 0.01 ; Total training data size: 54908 ; Epoch size: 36\n",
            "-----------------------------------------------------------------------------------------------------------------------------------\n",
            "Epoch: 1\n",
            "Epoch: 2\n",
            "Epoch: 3\n",
            "Iteration: 500. Loss: 2.1445634365081787. Accuracy: 27.395264116575593\n",
            "Epoch: 4\n",
            "Epoch: 5\n",
            "Iteration: 1000. Loss: 2.0613770484924316. Accuracy: 34.517304189435336\n",
            "Epoch: 6\n",
            "Epoch: 7\n",
            "Iteration: 1500. Loss: 2.0652239322662354. Accuracy: 34.44444444444444\n",
            "Epoch: 8\n",
            "Epoch: 9\n",
            "Iteration: 2000. Loss: 2.0855395793914795. Accuracy: 36.90346083788707\n",
            "Epoch: 10\n",
            "Epoch: 11\n",
            "Iteration: 2500. Loss: 2.0371572971343994. Accuracy: 39.36247723132969\n",
            "Epoch: 12\n",
            "Epoch: 13\n",
            "Iteration: 3000. Loss: 2.0982818603515625. Accuracy: 37.83242258652095\n",
            "Epoch: 14\n",
            "Epoch: 15\n",
            "Iteration: 3500. Loss: 2.017423391342163. Accuracy: 39.39890710382514\n",
            "Epoch: 16\n",
            "Epoch: 17\n",
            "Iteration: 4000. Loss: 1.9041444063186646. Accuracy: 38.83424408014572\n",
            "Epoch: 18\n",
            "Epoch: 19\n",
            "Iteration: 4500. Loss: 1.9188820123672485. Accuracy: 39.81785063752277\n",
            "Epoch: 20\n",
            "Epoch: 21\n",
            "Iteration: 5000. Loss: 1.9182426929473877. Accuracy: 40.510018214936245\n",
            "Epoch: 22\n",
            "Epoch: 23\n",
            "Iteration: 5500. Loss: 1.9450278282165527. Accuracy: 40.38251366120219\n",
            "Epoch: 24\n",
            "Epoch: 25\n",
            "Iteration: 6000. Loss: 1.9416426420211792. Accuracy: 40.29143897996357\n",
            "Epoch: 26\n",
            "Epoch: 27\n",
            "Iteration: 6500. Loss: 1.9243898391723633. Accuracy: 40.728597449908925\n",
            "Epoch: 28\n",
            "Epoch: 29\n",
            "Iteration: 7000. Loss: 1.7802445888519287. Accuracy: 40.32786885245902\n",
            "Epoch: 30\n",
            "Epoch: 31\n",
            "Iteration: 7500. Loss: 1.9110342264175415. Accuracy: 41.45719489981785\n",
            "Epoch: 32\n",
            "Epoch: 33\n",
            "Iteration: 8000. Loss: 1.8798190355300903. Accuracy: 41.53005464480874\n",
            "Epoch: 34\n",
            "Epoch: 35\n",
            "Iteration: 8500. Loss: 1.9017237424850464. Accuracy: 40.619307832422585\n",
            "Epoch: 36\n",
            "-----------------------Simulation ends----------------------\n",
            "Current Time = 05:12:31\n"
          ],
          "name": "stdout"
        }
      ]
    },
    {
      "cell_type": "code",
      "metadata": {
        "id": "AHJKBOMi3-rP",
        "colab": {
          "base_uri": "https://localhost:8080/",
          "height": 316
        },
        "outputId": "06d5e833-159e-4e45-f708-ef4642a77a0f"
      },
      "source": [
        "#PLOTTING LOSS PER 500 ITERATIONS\r\n",
        "\r\n",
        "print (iteration_loss)\r\n",
        "plt.plot(iteration_loss)\r\n",
        "plt.ylabel('Cross Entropy Loss')\r\n",
        "plt.xlabel('Iteration (in every 500)')\r\n",
        "plt.show()"
      ],
      "execution_count": null,
      "outputs": [
        {
          "output_type": "stream",
          "text": [
            "[2.1445634365081787, 2.0613770484924316, 2.0652239322662354, 2.0855395793914795, 2.0371572971343994, 2.0982818603515625, 2.017423391342163, 1.9041444063186646, 1.9188820123672485, 1.9182426929473877, 1.9450278282165527, 1.9416426420211792, 1.9243898391723633, 1.7802445888519287, 1.9110342264175415, 1.8798190355300903, 1.9017237424850464]\n"
          ],
          "name": "stdout"
        },
        {
          "output_type": "display_data",
          "data": {
            "image/png": "[encoded data removed]",
            "text/plain": [
              "<Figure size 432x288 with 1 Axes>"
            ]
          },
          "metadata": {
            "tags": [],
            "needs_background": "light"
          }
        }
      ]
    },
    {
      "cell_type": "markdown",
      "metadata": {
        "id": "1ydc0hxoh3XE"
      },
      "source": [
        "# SETTING 9: Optimizer ADAM\r\n"
      ]
    },
    {
      "cell_type": "code",
      "metadata": {
        "id": "pHPx6muul9WF",
        "colab": {
          "base_uri": "https://localhost:8080/"
        },
        "outputId": "d250d412-270a-47c3-b8b4-080229c6c982"
      },
      "source": [
        "learning_rate = 0.01\r\n",
        "\r\n",
        "\r\n",
        "batch_size=200\r\n",
        "num_iters = 10000\r\n",
        "input_dim = 28*28 # num_features = 784\r\n",
        "output_dim = 10\r\n",
        "# split data 10% for testing\r\n",
        "test_size = 0.1\r\n",
        "\r\n",
        "num_epochs = num_iters / (len(train_data) / batch_size)\r\n",
        "num_epochs = int(num_epochs)\r\n",
        "#  \r\n",
        "\r\n",
        "# obtain training indices that will be used for validation\r\n",
        "num_train = len(train_data)\r\n",
        "\r\n",
        "# mix data\r\n",
        "# index of num of train\r\n",
        "indices = list(range(num_train))\r\n",
        "# random the index\r\n",
        "np.random.shuffle(indices)\r\n",
        "split = int(np.floor(test_size * num_train))\r\n",
        "# divied into two part\r\n",
        "train_idx, test_idx = indices[split:], indices[:split]\r\n",
        "\r\n",
        "# define the sampler\r\n",
        "train_sampler = SubsetRandomSampler(train_idx)\r\n",
        "test_sampler = SubsetRandomSampler(test_idx)\r\n",
        "\r\n",
        "# prepare loaders\r\n",
        "train_loader = torch.utils.data.DataLoader(\r\n",
        "    train_data, batch_size=batch_size,\r\n",
        "    sampler=train_sampler)\r\n",
        "\r\n",
        "test_loader = torch.utils.data.DataLoader(\r\n",
        "    test_data, batch_size=batch_size,\r\n",
        "    sampler=test_sampler)\r\n",
        "\r\n",
        "print(\"Train dataloader:{}\".format(len(train_loader)))\r\n",
        "print(\"Test dataloader:{}\".format(len(test_loader)))"
      ],
      "execution_count": null,
      "outputs": [
        {
          "output_type": "stream",
          "text": [
            "Train dataloader:248\n",
            "Test dataloader:28\n"
          ],
          "name": "stdout"
        }
      ]
    },
    {
      "cell_type": "code",
      "metadata": {
        "id": "fSg5Jcjkl-Us"
      },
      "source": [
        "'''\r\n",
        "INSTANTIATE MODEL CLASS\r\n",
        "'''\r\n",
        "model = LogisticRegressionModel(input_size=input_dim,\r\n",
        "                                num_classes=output_dim)\r\n",
        "# To enable GPU\r\n",
        "model.to(device)\r\n",
        "\r\n",
        "# INSTANTIATE OPTIMIZER CLASS\r\n",
        "optimizer = torch.optim.Adam(model.parameters(), lr=learning_rate)"
      ],
      "execution_count": null,
      "outputs": []
    },
    {
      "cell_type": "code",
      "metadata": {
        "id": "PdKGIrtQl-jn",
        "colab": {
          "base_uri": "https://localhost:8080/"
        },
        "outputId": "73828826-13c1-4df4-85e2-a45bfc78d7f4"
      },
      "source": [
        "'''\r\n",
        "TRAIN THE MODEL\r\n",
        "'''\r\n",
        "curr_time()\r\n",
        "\r\n",
        "iteration_loss = []\r\n",
        "iter = 0\r\n",
        "print('Batch size:',batch_size,'; Number of iterations:',num_iters,'; Learning rate:',learning_rate,'; Total training data size:',num_train,'; Epoch size:',num_epochs)\r\n",
        "print('-----------------------------------------------------------------------------------------------------------------------------------')\r\n",
        "for epoch in range(num_epochs):\r\n",
        "    print('Epoch:',epoch+1)\r\n",
        "    for i, (images, labels) in enumerate(train_loader):\r\n",
        "\r\n",
        "        images = images.view(-1, 28*28).to(device)\r\n",
        "        labels = labels.to(device)\r\n",
        "\r\n",
        "        # Clear gradients w.r.t. parameters\r\n",
        "        optimizer.zero_grad()\r\n",
        "\r\n",
        "        # Forward pass to get output/logits\r\n",
        "        logits, probas = model(images) \r\n",
        "\r\n",
        "        # Calculate Loss: PyTorch implementation of CrossEntropyLoss works with logits, not probabilities\r\n",
        "        loss = F.cross_entropy(logits, labels)\r\n",
        "\r\n",
        "        # Getting gradients w.r.t. parameters\r\n",
        "        loss.backward()\r\n",
        "\r\n",
        "        # Updating parameters\r\n",
        "        optimizer.step()\r\n",
        "\r\n",
        "        iter += 1\r\n",
        "\r\n",
        "        if iter % 500 == 0:\r\n",
        "            # Calculate Accuracy         \r\n",
        "            correct = 0\r\n",
        "            total = 0\r\n",
        "            # Iterate through test dataset\r\n",
        "            for images, labels in test_loader:\r\n",
        "               \r\n",
        "                images = images.view(-1, 28*28).to(device)\r\n",
        "\r\n",
        "                # Forward pass only to get logits/output\r\n",
        "                logits, probas = model(images)\r\n",
        "\r\n",
        "                # Get predictions from the maximum value\r\n",
        "                _, predicted = torch.max(probas, 1)\r\n",
        "\r\n",
        "                # Total number of labels\r\n",
        "                total += labels.size(0)\r\n",
        "\r\n",
        "\r\n",
        "                # Total correct predictions\r\n",
        "                if torch.cuda.is_available():\r\n",
        "                    correct += (predicted.cpu() == labels.cpu()).sum() \r\n",
        "                else:\r\n",
        "                    correct += (predicted == labels).sum()\r\n",
        "\r\n",
        "            accuracy = 100 * correct.item() / total\r\n",
        "\r\n",
        "            # Print Loss\r\n",
        "            iteration_loss.append(loss.item())\r\n",
        "            print('Iteration: {}. Loss: {}. Accuracy: {}'.format(iter, loss.item(), accuracy))\r\n",
        "print('-----------------------Simulation ends----------------------')\r\n",
        "\r\n",
        "curr_time()"
      ],
      "execution_count": null,
      "outputs": [
        {
          "output_type": "stream",
          "text": [
            "Current Time = 05:12:32\n",
            "Batch size: 200 ; Number of iterations: 10000 ; Learning rate: 0.01 ; Total training data size: 54908 ; Epoch size: 36\n",
            "-----------------------------------------------------------------------------------------------------------------------------------\n",
            "Epoch: 1\n",
            "Epoch: 2\n",
            "Epoch: 3\n",
            "Iteration: 500. Loss: 2.232707977294922. Accuracy: 27.77777777777778\n",
            "Epoch: 4\n",
            "Epoch: 5\n",
            "Iteration: 1000. Loss: 2.007402181625366. Accuracy: 40.200364298724956\n",
            "Epoch: 6\n",
            "Epoch: 7\n",
            "Iteration: 1500. Loss: 1.9027459621429443. Accuracy: 40.60109289617486\n",
            "Epoch: 8\n",
            "Epoch: 9\n",
            "Iteration: 2000. Loss: 1.890509009361267. Accuracy: 42.38615664845173\n",
            "Epoch: 10\n",
            "Epoch: 11\n",
            "Iteration: 2500. Loss: 1.6812248229980469. Accuracy: 38.01457194899818\n",
            "Epoch: 12\n",
            "Epoch: 13\n",
            "Iteration: 3000. Loss: 1.98060941696167. Accuracy: 37.01275045537341\n",
            "Epoch: 14\n",
            "Epoch: 15\n",
            "Iteration: 3500. Loss: 1.7628909349441528. Accuracy: 40.32786885245902\n",
            "Epoch: 16\n",
            "Epoch: 17\n",
            "Iteration: 4000. Loss: 1.812099814414978. Accuracy: 39.94535519125683\n",
            "Epoch: 18\n",
            "Epoch: 19\n",
            "Iteration: 4500. Loss: 1.7967712879180908. Accuracy: 44.20765027322405\n",
            "Epoch: 20\n",
            "Epoch: 21\n",
            "Iteration: 5000. Loss: 1.9777814149856567. Accuracy: 45.00910746812386\n",
            "Epoch: 22\n",
            "Epoch: 23\n",
            "Iteration: 5500. Loss: 1.9969432353973389. Accuracy: 36.357012750455375\n",
            "Epoch: 24\n",
            "Epoch: 25\n",
            "Iteration: 6000. Loss: 1.7320212125778198. Accuracy: 42.80510018214936\n",
            "Epoch: 26\n",
            "Epoch: 27\n",
            "Iteration: 6500. Loss: 1.658416748046875. Accuracy: 41.47540983606557\n",
            "Epoch: 28\n",
            "Epoch: 29\n",
            "Iteration: 7000. Loss: 1.7973527908325195. Accuracy: 45.482695810564664\n",
            "Epoch: 30\n",
            "Epoch: 31\n",
            "Iteration: 7500. Loss: 1.5783265829086304. Accuracy: 36.830601092896174\n",
            "Epoch: 32\n",
            "Epoch: 33\n",
            "Iteration: 8000. Loss: 1.745145559310913. Accuracy: 35.50091074681239\n",
            "Epoch: 34\n",
            "Epoch: 35\n",
            "Iteration: 8500. Loss: 1.9369077682495117. Accuracy: 43.26047358834244\n",
            "Epoch: 36\n",
            "-----------------------Simulation ends----------------------\n",
            "Current Time = 06:00:56\n"
          ],
          "name": "stdout"
        }
      ]
    },
    {
      "cell_type": "code",
      "metadata": {
        "id": "M-ePlgmk4Aqx",
        "colab": {
          "base_uri": "https://localhost:8080/",
          "height": 316
        },
        "outputId": "950efcbf-378a-4383-a5b9-3295ac3b80c7"
      },
      "source": [
        "#PLOTTING LOSS PER 500 ITERATIONS\r\n",
        "\r\n",
        "print (iteration_loss)\r\n",
        "plt.plot(iteration_loss)\r\n",
        "plt.ylabel('Cross Entropy Loss')\r\n",
        "plt.xlabel('Iteration (in every 500)')\r\n",
        "plt.show()"
      ],
      "execution_count": null,
      "outputs": [
        {
          "output_type": "stream",
          "text": [
            "[2.232707977294922, 2.007402181625366, 1.9027459621429443, 1.890509009361267, 1.6812248229980469, 1.98060941696167, 1.7628909349441528, 1.812099814414978, 1.7967712879180908, 1.9777814149856567, 1.9969432353973389, 1.7320212125778198, 1.658416748046875, 1.7973527908325195, 1.5783265829086304, 1.745145559310913, 1.9369077682495117]\n"
          ],
          "name": "stdout"
        },
        {
          "output_type": "display_data",
          "data": {
            "image/png": "[encoded data removed]",
            "text/plain": [
              "<Figure size 432x288 with 1 Axes>"
            ]
          },
          "metadata": {
            "tags": [],
            "needs_background": "light"
          }
        }
      ]
    },
    {
      "cell_type": "markdown",
      "metadata": {
        "id": "wukULaF7iLjb"
      },
      "source": [
        "# SETTING 10: Optimizer ASGD"
      ]
    },
    {
      "cell_type": "code",
      "metadata": {
        "id": "4In3PpglmQJ2",
        "colab": {
          "base_uri": "https://localhost:8080/"
        },
        "outputId": "f1fcb696-cf2e-45f5-e8a7-4eb06768bed7"
      },
      "source": [
        "learning_rate = 0.01\r\n",
        "\r\n",
        "\r\n",
        "batch_size=200\r\n",
        "num_iters = 10000\r\n",
        "input_dim = 28*28 # num_features = 784\r\n",
        "output_dim = 10\r\n",
        "# split data 10% for testing\r\n",
        "test_size = 0.1\r\n",
        "\r\n",
        "num_epochs = num_iters / (len(train_data) / batch_size)\r\n",
        "num_epochs = int(num_epochs)\r\n",
        "\r\n",
        "\r\n",
        "# obtain training indices that will be used for validation\r\n",
        "num_train = len(train_data)\r\n",
        "\r\n",
        "# mix data\r\n",
        "# index of num of train\r\n",
        "indices = list(range(num_train))\r\n",
        "# random the index\r\n",
        "np.random.shuffle(indices)\r\n",
        "split = int(np.floor(test_size * num_train))\r\n",
        "# divied into two part\r\n",
        "train_idx, test_idx = indices[split:], indices[:split]\r\n",
        "\r\n",
        "# define the sampler\r\n",
        "train_sampler = SubsetRandomSampler(train_idx)\r\n",
        "test_sampler = SubsetRandomSampler(test_idx)\r\n",
        "\r\n",
        "# prepare loaders\r\n",
        "train_loader = torch.utils.data.DataLoader(\r\n",
        "    train_data, batch_size=batch_size,\r\n",
        "    sampler=train_sampler)\r\n",
        "\r\n",
        "test_loader = torch.utils.data.DataLoader(\r\n",
        "    test_data, batch_size=batch_size,\r\n",
        "    sampler=test_sampler)\r\n",
        "\r\n",
        "print(\"Train dataloader:{}\".format(len(train_loader)))\r\n",
        "print(\"Test dataloader:{}\".format(len(test_loader)))"
      ],
      "execution_count": null,
      "outputs": [
        {
          "output_type": "stream",
          "text": [
            "Train dataloader:248\n",
            "Test dataloader:28\n"
          ],
          "name": "stdout"
        }
      ]
    },
    {
      "cell_type": "code",
      "metadata": {
        "id": "VWbF-nLymQXJ"
      },
      "source": [
        "'''\r\n",
        "INSTANTIATE MODEL CLASS\r\n",
        "'''\r\n",
        "model = LogisticRegressionModel(input_size=input_dim,\r\n",
        "                                num_classes=output_dim)\r\n",
        "# To enable GPU\r\n",
        "model.to(device)\r\n",
        "\r\n",
        "# INSTANTIATE OPTIMIZER CLASS\r\n",
        "optimizer = torch.optim.ASGD(model.parameters(), lr=learning_rate)"
      ],
      "execution_count": null,
      "outputs": []
    },
    {
      "cell_type": "code",
      "metadata": {
        "id": "suMpR6ecmQi_",
        "colab": {
          "base_uri": "https://localhost:8080/"
        },
        "outputId": "ec110b15-7d7f-42f7-87f9-3a0693221292"
      },
      "source": [
        "'''\r\n",
        "TRAIN THE MODEL\r\n",
        "'''\r\n",
        "curr_time()\r\n",
        "\r\n",
        "iteration_loss = []\r\n",
        "iter = 0\r\n",
        "print('Batch size:',batch_size,'; Number of iterations:',num_iters,'; Learning rate:',learning_rate,'; Total training data size:',num_train,'; Epoch size:',num_epochs)\r\n",
        "print('-----------------------------------------------------------------------------------------------------------------------------------')\r\n",
        "for epoch in range(num_epochs):\r\n",
        "    print('Epoch:',epoch+1)\r\n",
        "    for i, (images, labels) in enumerate(train_loader):\r\n",
        "\r\n",
        "        images = images.view(-1, 28*28).to(device)\r\n",
        "        labels = labels.to(device)\r\n",
        "\r\n",
        "        # Clear gradients w.r.t. parameters\r\n",
        "        optimizer.zero_grad()\r\n",
        "\r\n",
        "        # Forward pass to get output/logits\r\n",
        "        logits, probas = model(images) \r\n",
        "\r\n",
        "        # Calculate Loss: PyTorch implementation of CrossEntropyLoss works with logits, not probabilities\r\n",
        "        loss = F.cross_entropy(logits, labels)\r\n",
        "\r\n",
        "        # Getting gradients w.r.t. parameters\r\n",
        "        loss.backward()\r\n",
        "\r\n",
        "        # Updating parameters\r\n",
        "        optimizer.step()\r\n",
        "\r\n",
        "        iter += 1\r\n",
        "\r\n",
        "        if iter % 500 == 0:\r\n",
        "            # Calculate Accuracy         \r\n",
        "            correct = 0\r\n",
        "            total = 0\r\n",
        "            # Iterate through test dataset\r\n",
        "            for images, labels in test_loader:\r\n",
        "               \r\n",
        "                images = images.view(-1, 28*28).to(device)\r\n",
        "\r\n",
        "                # Forward pass only to get logits/output\r\n",
        "                logits, probas = model(images)\r\n",
        "\r\n",
        "                # Get predictions from the maximum value\r\n",
        "                _, predicted = torch.max(probas, 1)\r\n",
        "\r\n",
        "                # Total number of labels\r\n",
        "                total += labels.size(0)\r\n",
        "\r\n",
        "\r\n",
        "                # Total correct predictions\r\n",
        "                if torch.cuda.is_available():\r\n",
        "                    correct += (predicted.cpu() == labels.cpu()).sum() \r\n",
        "                else:\r\n",
        "                    correct += (predicted == labels).sum()\r\n",
        "\r\n",
        "            accuracy = 100 * correct.item() / total\r\n",
        "\r\n",
        "            # Print Loss\r\n",
        "            iteration_loss.append(loss.item())\r\n",
        "            print('Iteration: {}. Loss: {}. Accuracy: {}'.format(iter, loss.item(), accuracy))\r\n",
        "print('-----------------------Simulation ends----------------------')\r\n",
        "\r\n",
        "curr_time()"
      ],
      "execution_count": null,
      "outputs": [
        {
          "output_type": "stream",
          "text": [
            "Current Time = 06:00:56\n",
            "Batch size: 200 ; Number of iterations: 10000 ; Learning rate: 0.01 ; Total training data size: 54908 ; Epoch size: 36\n",
            "-----------------------------------------------------------------------------------------------------------------------------------\n",
            "Epoch: 1\n",
            "Epoch: 2\n",
            "Epoch: 3\n",
            "Iteration: 500. Loss: 2.225440740585327. Accuracy: 25.846994535519126\n",
            "Epoch: 4\n",
            "Epoch: 5\n",
            "Iteration: 1000. Loss: 2.157231092453003. Accuracy: 31.475409836065573\n",
            "Epoch: 6\n",
            "Epoch: 7\n",
            "Iteration: 1500. Loss: 2.0542593002319336. Accuracy: 30.69216757741348\n",
            "Epoch: 8\n",
            "Epoch: 9\n",
            "Iteration: 2000. Loss: 2.017385482788086. Accuracy: 32.82331511839708\n",
            "Epoch: 10\n",
            "Epoch: 11\n",
            "Iteration: 2500. Loss: 2.066232204437256. Accuracy: 34.31693989071038\n",
            "Epoch: 12\n",
            "Epoch: 13\n",
            "Iteration: 3000. Loss: 1.9719990491867065. Accuracy: 38.92531876138433\n",
            "Epoch: 14\n",
            "Epoch: 15\n",
            "Iteration: 3500. Loss: 2.0573248863220215. Accuracy: 38.68852459016394\n",
            "Epoch: 16\n",
            "Epoch: 17\n",
            "Iteration: 4000. Loss: 2.007331132888794. Accuracy: 39.052823315118395\n",
            "Epoch: 18\n",
            "Epoch: 19\n",
            "Iteration: 4500. Loss: 1.973544955253601. Accuracy: 40.98360655737705\n",
            "Epoch: 20\n",
            "Epoch: 21\n",
            "Iteration: 5000. Loss: 1.9038206338882446. Accuracy: 39.67213114754098\n",
            "Epoch: 22\n",
            "Epoch: 23\n",
            "Iteration: 5500. Loss: 1.9256724119186401. Accuracy: 41.69398907103825\n",
            "Epoch: 24\n",
            "Epoch: 25\n",
            "Iteration: 6000. Loss: 1.880075216293335. Accuracy: 40.947176684881605\n",
            "Epoch: 26\n",
            "Epoch: 27\n",
            "Iteration: 6500. Loss: 1.7990431785583496. Accuracy: 41.31147540983606\n",
            "Epoch: 28\n",
            "Epoch: 29\n",
            "Iteration: 7000. Loss: 1.8806109428405762. Accuracy: 42.04007285974499\n",
            "Epoch: 30\n",
            "Epoch: 31\n",
            "Iteration: 7500. Loss: 1.9409735202789307. Accuracy: 43.04189435336976\n",
            "Epoch: 32\n",
            "Epoch: 33\n",
            "Iteration: 8000. Loss: 1.8581141233444214. Accuracy: 41.91256830601093\n",
            "Epoch: 34\n",
            "Epoch: 35\n",
            "Iteration: 8500. Loss: 1.7891120910644531. Accuracy: 42.93260473588342\n",
            "Epoch: 36\n",
            "-----------------------Simulation ends----------------------\n",
            "Current Time = 06:49:21\n"
          ],
          "name": "stdout"
        }
      ]
    },
    {
      "cell_type": "code",
      "metadata": {
        "id": "xmzKyxla4Cp5",
        "colab": {
          "base_uri": "https://localhost:8080/",
          "height": 316
        },
        "outputId": "f0d6d2a6-d017-4bf8-9f7e-635e1cc82ade"
      },
      "source": [
        "#PLOTTING LOSS PER 500 ITERATIONS\r\n",
        "\r\n",
        "print (iteration_loss)\r\n",
        "plt.plot(iteration_loss)\r\n",
        "plt.ylabel('Cross Entropy Loss')\r\n",
        "plt.xlabel('Iteration (in every 500)')\r\n",
        "plt.show()"
      ],
      "execution_count": null,
      "outputs": [
        {
          "output_type": "stream",
          "text": [
            "[2.225440740585327, 2.157231092453003, 2.0542593002319336, 2.017385482788086, 2.066232204437256, 1.9719990491867065, 2.0573248863220215, 2.007331132888794, 1.973544955253601, 1.9038206338882446, 1.9256724119186401, 1.880075216293335, 1.7990431785583496, 1.8806109428405762, 1.9409735202789307, 1.8581141233444214, 1.7891120910644531]\n"
          ],
          "name": "stdout"
        },
        {
          "output_type": "display_data",
          "data": {
            "image/png": "[encoded data removed]",
            "text/plain": [
              "<Figure size 432x288 with 1 Axes>"
            ]
          },
          "metadata": {
            "tags": [],
            "needs_background": "light"
          }
        }
      ]
    },
    {
      "cell_type": "markdown",
      "metadata": {
        "id": "vAhsdefgiR2U"
      },
      "source": [
        "# SETTING 11: Optimizer RMSProp\r\n",
        "Here we use the optimizer RMSprop"
      ]
    },
    {
      "cell_type": "code",
      "metadata": {
        "id": "2LCnHxwCmSsa",
        "colab": {
          "base_uri": "https://localhost:8080/"
        },
        "outputId": "484316ce-39d0-4cef-d833-d328c49c549d"
      },
      "source": [
        "learning_rate = 0.01\r\n",
        "\r\n",
        "\r\n",
        "batch_size=200\r\n",
        "num_iters = 10000\r\n",
        "input_dim = 28*28 # num_features = 784\r\n",
        "output_dim = 10\r\n",
        "# split data 10% for testing\r\n",
        "test_size = 0.1\r\n",
        "\r\n",
        "num_epochs = num_iters / (len(train_data) / batch_size)\r\n",
        "num_epochs = int(num_epochs)\r\n",
        " \r\n",
        "\r\n",
        "# obtain training indices that will be used for validation\r\n",
        "num_train = len(train_data)\r\n",
        "\r\n",
        "# mix data\r\n",
        "# index of num of train\r\n",
        "indices = list(range(num_train))\r\n",
        "# random the index\r\n",
        "np.random.shuffle(indices)\r\n",
        "split = int(np.floor(test_size * num_train))\r\n",
        "# divied into two part\r\n",
        "train_idx, test_idx = indices[split:], indices[:split]\r\n",
        "\r\n",
        "# define the sampler\r\n",
        "train_sampler = SubsetRandomSampler(train_idx)\r\n",
        "test_sampler = SubsetRandomSampler(test_idx)\r\n",
        "\r\n",
        "# prepare loaders\r\n",
        "train_loader = torch.utils.data.DataLoader(\r\n",
        "    train_data, batch_size=batch_size,\r\n",
        "    sampler=train_sampler)\r\n",
        "\r\n",
        "test_loader = torch.utils.data.DataLoader(\r\n",
        "    test_data, batch_size=batch_size,\r\n",
        "    sampler=test_sampler)\r\n",
        "\r\n",
        "print(\"Train dataloader:{}\".format(len(train_loader)))\r\n",
        "print(\"Test dataloader:{}\".format(len(test_loader)))"
      ],
      "execution_count": null,
      "outputs": [
        {
          "output_type": "stream",
          "text": [
            "Train dataloader:248\n",
            "Test dataloader:28\n"
          ],
          "name": "stdout"
        }
      ]
    },
    {
      "cell_type": "code",
      "metadata": {
        "id": "VsHkiH2_mS4S"
      },
      "source": [
        "'''\r\n",
        "INSTANTIATE MODEL CLASS\r\n",
        "'''\r\n",
        "model = LogisticRegressionModel(input_size=input_dim,\r\n",
        "                                num_classes=output_dim)\r\n",
        "# To enable GPU\r\n",
        "model.to(device)\r\n",
        "\r\n",
        "# INSTANTIATE OPTIMIZER CLASS\r\n",
        "optimizer = torch.optim.RMSprop(model.parameters(), lr=learning_rate)"
      ],
      "execution_count": null,
      "outputs": []
    },
    {
      "cell_type": "code",
      "metadata": {
        "id": "elCb6m0NmTEV",
        "colab": {
          "base_uri": "https://localhost:8080/"
        },
        "outputId": "b6bfee74-a694-48b0-feaa-4ca0c29f0111"
      },
      "source": [
        "'''\r\n",
        "TRAIN THE MODEL\r\n",
        "'''\r\n",
        "curr_time()\r\n",
        "\r\n",
        "iteration_loss = []\r\n",
        "iter = 0\r\n",
        "print('Batch size:',batch_size,'; Number of iterations:',num_iters,'; Learning rate:',learning_rate,'; Total training data size:',num_train,'; Epoch size:',num_epochs)\r\n",
        "print('-----------------------------------------------------------------------------------------------------------------------------------')\r\n",
        "for epoch in range(num_epochs):\r\n",
        "    print('Epoch:',epoch+1)\r\n",
        "    for i, (images, labels) in enumerate(train_loader):\r\n",
        "\r\n",
        "        images = images.view(-1, 28*28).to(device)\r\n",
        "        labels = labels.to(device)\r\n",
        "\r\n",
        "        # Clear gradients w.r.t. parameters\r\n",
        "        optimizer.zero_grad()\r\n",
        "\r\n",
        "        # Forward pass to get output/logits\r\n",
        "        logits, probas = model(images) \r\n",
        "\r\n",
        "        # Calculate Loss: PyTorch implementation of CrossEntropyLoss works with logits, not probabilities\r\n",
        "        loss = F.cross_entropy(logits, labels)\r\n",
        "\r\n",
        "        # Getting gradients w.r.t. parameters\r\n",
        "        loss.backward()\r\n",
        "\r\n",
        "        # Updating parameters\r\n",
        "        optimizer.step()\r\n",
        "\r\n",
        "        iter += 1\r\n",
        "\r\n",
        "        if iter % 500 == 0:\r\n",
        "            # Calculate Accuracy         \r\n",
        "            correct = 0\r\n",
        "            total = 0\r\n",
        "            # Iterate through test dataset\r\n",
        "            for images, labels in test_loader:\r\n",
        "               \r\n",
        "                images = images.view(-1, 28*28).to(device)\r\n",
        "\r\n",
        "                # Forward pass only to get logits/output\r\n",
        "                logits, probas = model(images)\r\n",
        "\r\n",
        "                # Get predictions from the maximum value\r\n",
        "                _, predicted = torch.max(probas, 1)\r\n",
        "\r\n",
        "                # Total number of labels\r\n",
        "                total += labels.size(0)\r\n",
        "\r\n",
        "\r\n",
        "                # Total correct predictions\r\n",
        "                if torch.cuda.is_available():\r\n",
        "                    correct += (predicted.cpu() == labels.cpu()).sum() \r\n",
        "                else:\r\n",
        "                    correct += (predicted == labels).sum()\r\n",
        "\r\n",
        "            accuracy = 100 * correct.item() / total\r\n",
        "\r\n",
        "            # Print Loss\r\n",
        "            iteration_loss.append(loss.item())\r\n",
        "            print('Iteration: {}. Loss: {}. Accuracy: {}'.format(iter, loss.item(), accuracy))\r\n",
        "print('-----------------------Simulation ends----------------------')\r\n",
        "\r\n",
        "curr_time()"
      ],
      "execution_count": null,
      "outputs": [
        {
          "output_type": "stream",
          "text": [
            "Current Time = 06:49:22\n",
            "Batch size: 200 ; Number of iterations: 10000 ; Learning rate: 0.01 ; Total training data size: 54908 ; Epoch size: 36\n",
            "-----------------------------------------------------------------------------------------------------------------------------------\n",
            "Epoch: 1\n",
            "Epoch: 2\n",
            "Epoch: 3\n",
            "Iteration: 500. Loss: 7.6525349617004395. Accuracy: 20.76502732240437\n",
            "Epoch: 4\n",
            "Epoch: 5\n",
            "Iteration: 1000. Loss: 7.298764705657959. Accuracy: 15.519125683060109\n",
            "Epoch: 6\n",
            "Epoch: 7\n",
            "Iteration: 1500. Loss: 5.980924606323242. Accuracy: 18.19672131147541\n",
            "Epoch: 8\n",
            "Epoch: 9\n",
            "Iteration: 2000. Loss: 5.191455841064453. Accuracy: 24.899817850637522\n",
            "Epoch: 10\n",
            "Epoch: 11\n",
            "Iteration: 2500. Loss: 6.787313938140869. Accuracy: 18.08743169398907\n",
            "Epoch: 12\n",
            "Epoch: 13\n",
            "Iteration: 3000. Loss: 5.143914699554443. Accuracy: 29.016393442622952\n",
            "Epoch: 14\n",
            "Epoch: 15\n",
            "Iteration: 3500. Loss: 5.211954116821289. Accuracy: 20.40072859744991\n",
            "Epoch: 16\n",
            "Epoch: 17\n",
            "Iteration: 4000. Loss: 6.054818153381348. Accuracy: 19.398907103825138\n",
            "Epoch: 18\n",
            "Epoch: 19\n",
            "Iteration: 4500. Loss: 6.9325032234191895. Accuracy: 21.45719489981785\n",
            "Epoch: 20\n",
            "Epoch: 21\n",
            "Iteration: 5000. Loss: 4.174516201019287. Accuracy: 29.927140255009107\n",
            "Epoch: 22\n",
            "Epoch: 23\n",
            "Iteration: 5500. Loss: 5.410264492034912. Accuracy: 27.996357012750455\n",
            "Epoch: 24\n",
            "Epoch: 25\n",
            "Iteration: 6000. Loss: 5.246894359588623. Accuracy: 28.816029143897996\n",
            "Epoch: 26\n",
            "Epoch: 27\n",
            "Iteration: 6500. Loss: 4.803093433380127. Accuracy: 22.768670309653917\n",
            "Epoch: 28\n",
            "Epoch: 29\n",
            "Iteration: 7000. Loss: 5.707354545593262. Accuracy: 18.287795992714024\n",
            "Epoch: 30\n",
            "Epoch: 31\n",
            "Iteration: 7500. Loss: 4.626723766326904. Accuracy: 26.502732240437158\n",
            "Epoch: 32\n",
            "Epoch: 33\n",
            "Iteration: 8000. Loss: 4.774820327758789. Accuracy: 22.896174863387976\n",
            "Epoch: 34\n",
            "Epoch: 35\n",
            "Iteration: 8500. Loss: 4.405472278594971. Accuracy: 23.916211293260474\n",
            "Epoch: 36\n",
            "-----------------------Simulation ends----------------------\n",
            "Current Time = 07:38:08\n"
          ],
          "name": "stdout"
        }
      ]
    },
    {
      "cell_type": "code",
      "metadata": {
        "id": "6aguQtsh4Env",
        "colab": {
          "base_uri": "https://localhost:8080/",
          "height": 316
        },
        "outputId": "35765716-92ad-4090-c588-4da85ccdb789"
      },
      "source": [
        "#PLOTTING LOSS PER 500 ITERATIONS\r\n",
        "\r\n",
        "print (iteration_loss)\r\n",
        "plt.plot(iteration_loss)\r\n",
        "plt.ylabel('Cross Entropy Loss')\r\n",
        "plt.xlabel('Iteration (in every 500)')\r\n",
        "plt.show()"
      ],
      "execution_count": null,
      "outputs": [
        {
          "output_type": "stream",
          "text": [
            "[7.6525349617004395, 7.298764705657959, 5.980924606323242, 5.191455841064453, 6.787313938140869, 5.143914699554443, 5.211954116821289, 6.054818153381348, 6.9325032234191895, 4.174516201019287, 5.410264492034912, 5.246894359588623, 4.803093433380127, 5.707354545593262, 4.626723766326904, 4.774820327758789, 4.405472278594971]\n"
          ],
          "name": "stdout"
        },
        {
          "output_type": "display_data",
          "data": {
            "image/png": "[encoded data removed]",
            "text/plain": [
              "<Figure size 432x288 with 1 Axes>"
            ]
          },
          "metadata": {
            "tags": [],
            "needs_background": "light"
          }
        }
      ]
    },
    {
      "cell_type": "markdown",
      "metadata": {
        "id": "Zq-9d70lid2p"
      },
      "source": [
        "# SETTING 12: OPTIMIZER Rprop\r\n",
        "Here we use the optimizer Rprop"
      ]
    },
    {
      "cell_type": "code",
      "metadata": {
        "id": "52JGYDp8mUg2",
        "colab": {
          "base_uri": "https://localhost:8080/"
        },
        "outputId": "68c248d0-becb-4413-a9e0-61005191d88d"
      },
      "source": [
        "learning_rate = 0.01\r\n",
        "\r\n",
        "\r\n",
        "batch_size=200\r\n",
        "num_iters = 10000\r\n",
        "input_dim = 28*28 # num_features = 784\r\n",
        "output_dim = 10\r\n",
        "# split data 10% for testing\r\n",
        "test_size = 0.1\r\n",
        "\r\n",
        "num_epochs = num_iters / (len(train_data) / batch_size)\r\n",
        "num_epochs = int(num_epochs)\r\n",
        "\r\n",
        "\r\n",
        "# obtain training indices that will be used for validation\r\n",
        "num_train = len(train_data)\r\n",
        "\r\n",
        "# mix data\r\n",
        "# index of num of train\r\n",
        "indices = list(range(num_train))\r\n",
        "# random the index\r\n",
        "np.random.shuffle(indices)\r\n",
        "split = int(np.floor(test_size * num_train))\r\n",
        "# divied into two part\r\n",
        "train_idx, test_idx = indices[split:], indices[:split]\r\n",
        "\r\n",
        "# define the sampler\r\n",
        "train_sampler = SubsetRandomSampler(train_idx)\r\n",
        "test_sampler = SubsetRandomSampler(test_idx)\r\n",
        "\r\n",
        "# prepare loaders\r\n",
        "train_loader = torch.utils.data.DataLoader(\r\n",
        "    train_data, batch_size=batch_size,\r\n",
        "    sampler=train_sampler)\r\n",
        "\r\n",
        "test_loader = torch.utils.data.DataLoader(\r\n",
        "    test_data, batch_size=batch_size,\r\n",
        "    sampler=test_sampler)\r\n",
        "\r\n",
        "print(\"Train dataloader:{}\".format(len(train_loader)))\r\n",
        "print(\"Test dataloader:{}\".format(len(test_loader)))"
      ],
      "execution_count": null,
      "outputs": [
        {
          "output_type": "stream",
          "text": [
            "Train dataloader:248\n",
            "Test dataloader:28\n"
          ],
          "name": "stdout"
        }
      ]
    },
    {
      "cell_type": "code",
      "metadata": {
        "id": "hrMTiF7amUsb"
      },
      "source": [
        "'''\r\n",
        "INSTANTIATE MODEL CLASS\r\n",
        "'''\r\n",
        "model = LogisticRegressionModel(input_size=input_dim,\r\n",
        "                                num_classes=output_dim)\r\n",
        "# To enable GPU\r\n",
        "model.to(device)\r\n",
        "\r\n",
        "# INSTANTIATE OPTIMIZER CLASS\r\n",
        "optimizer = torch.optim.Rprop(model.parameters(), lr=learning_rate)"
      ],
      "execution_count": null,
      "outputs": []
    },
    {
      "cell_type": "code",
      "metadata": {
        "id": "uJ2x84P_mU2q",
        "colab": {
          "base_uri": "https://localhost:8080/"
        },
        "outputId": "8c740818-4f00-49be-fe04-a5817e841777"
      },
      "source": [
        "'''\r\n",
        "TRAIN THE MODEL\r\n",
        "'''\r\n",
        "curr_time()\r\n",
        "\r\n",
        "iteration_loss = []\r\n",
        "iter = 0\r\n",
        "print('Batch size:',batch_size,'; Number of iterations:',num_iters,'; Learning rate:',learning_rate,'; Total training data size:',num_train,'; Epoch size:',num_epochs)\r\n",
        "print('-----------------------------------------------------------------------------------------------------------------------------------')\r\n",
        "for epoch in range(num_epochs):\r\n",
        "    print('Epoch:',epoch+1)\r\n",
        "    for i, (images, labels) in enumerate(train_loader):\r\n",
        "\r\n",
        "        images = images.view(-1, 28*28).to(device)\r\n",
        "        labels = labels.to(device)\r\n",
        "\r\n",
        "        # Clear gradients w.r.t. parameters\r\n",
        "        optimizer.zero_grad()\r\n",
        "\r\n",
        "        # Forward pass to get output/logits\r\n",
        "        logits, probas = model(images) \r\n",
        "\r\n",
        "        # Calculate Loss: PyTorch implementation of CrossEntropyLoss works with logits, not probabilities\r\n",
        "        loss = F.cross_entropy(logits, labels)\r\n",
        "\r\n",
        "        # Getting gradients w.r.t. parameters\r\n",
        "        loss.backward()\r\n",
        "\r\n",
        "        # Updating parameters\r\n",
        "        optimizer.step()\r\n",
        "\r\n",
        "        iter += 1\r\n",
        "\r\n",
        "        if iter % 500 == 0:\r\n",
        "            # Calculate Accuracy         \r\n",
        "            correct = 0\r\n",
        "            total = 0\r\n",
        "            # Iterate through test dataset\r\n",
        "            for images, labels in test_loader:\r\n",
        "               \r\n",
        "                images = images.view(-1, 28*28).to(device)\r\n",
        "\r\n",
        "                # Forward pass only to get logits/output\r\n",
        "                logits, probas = model(images)\r\n",
        "\r\n",
        "                # Get predictions from the maximum value\r\n",
        "                _, predicted = torch.max(probas, 1)\r\n",
        "\r\n",
        "                # Total number of labels\r\n",
        "                total += labels.size(0)\r\n",
        "\r\n",
        "\r\n",
        "                # Total correct predictions\r\n",
        "                if torch.cuda.is_available():\r\n",
        "                    correct += (predicted.cpu() == labels.cpu()).sum() \r\n",
        "                else:\r\n",
        "                    correct += (predicted == labels).sum()\r\n",
        "\r\n",
        "            accuracy = 100 * correct.item() / total\r\n",
        "\r\n",
        "            # Print Loss\r\n",
        "            iteration_loss.append(loss.item())\r\n",
        "            print('Iteration: {}. Loss: {}. Accuracy: {}'.format(iter, loss.item(), accuracy))\r\n",
        "print('-----------------------Simulation ends----------------------')\r\n",
        "\r\n",
        "curr_time()"
      ],
      "execution_count": null,
      "outputs": [
        {
          "output_type": "stream",
          "text": [
            "Current Time = 07:38:08\n",
            "Batch size: 200 ; Number of iterations: 10000 ; Learning rate: 0.01 ; Total training data size: 54908 ; Epoch size: 36\n",
            "-----------------------------------------------------------------------------------------------------------------------------------\n",
            "Epoch: 1\n",
            "Epoch: 2\n",
            "Epoch: 3\n",
            "Iteration: 500. Loss: 2.293510675430298. Accuracy: 11.985428051001822\n",
            "Epoch: 4\n",
            "Epoch: 5\n",
            "Iteration: 1000. Loss: 2.2801058292388916. Accuracy: 13.406193078324225\n",
            "Epoch: 6\n",
            "Epoch: 7\n",
            "Iteration: 1500. Loss: 2.2862579822540283. Accuracy: 13.187613843351548\n",
            "Epoch: 8\n",
            "Epoch: 9\n",
            "Iteration: 2000. Loss: 2.2853167057037354. Accuracy: 13.60655737704918\n",
            "Epoch: 10\n",
            "Epoch: 11\n",
            "Iteration: 2500. Loss: 2.287198066711426. Accuracy: 12.896174863387978\n",
            "Epoch: 12\n",
            "Epoch: 13\n",
            "Iteration: 3000. Loss: 2.281289577484131. Accuracy: 14.043715846994536\n",
            "Epoch: 14\n",
            "Epoch: 15\n",
            "Iteration: 3500. Loss: 2.2839913368225098. Accuracy: 15.045537340619308\n",
            "Epoch: 16\n",
            "Epoch: 17\n",
            "Iteration: 4000. Loss: 2.284733295440674. Accuracy: 15.500910746812385\n",
            "Epoch: 18\n",
            "Epoch: 19\n",
            "Iteration: 4500. Loss: 2.274221420288086. Accuracy: 15.3551912568306\n",
            "Epoch: 20\n",
            "Epoch: 21\n",
            "Iteration: 5000. Loss: 2.2826240062713623. Accuracy: 15.318761384335154\n",
            "Epoch: 22\n",
            "Epoch: 23\n",
            "Iteration: 5500. Loss: 2.2786672115325928. Accuracy: 16.32058287795993\n",
            "Epoch: 24\n",
            "Epoch: 25\n",
            "Iteration: 6000. Loss: 2.2718443870544434. Accuracy: 16.21129326047359\n",
            "Epoch: 26\n",
            "Epoch: 27\n",
            "Iteration: 6500. Loss: 2.2758777141571045. Accuracy: 17.340619307832423\n",
            "Epoch: 28\n",
            "Epoch: 29\n",
            "Iteration: 7000. Loss: 2.2709779739379883. Accuracy: 17.3224043715847\n",
            "Epoch: 30\n",
            "Epoch: 31\n",
            "Iteration: 7500. Loss: 2.2670416831970215. Accuracy: 17.905282331511838\n",
            "Epoch: 32\n",
            "Epoch: 33\n",
            "Iteration: 8000. Loss: 2.2764644622802734. Accuracy: 17.43169398907104\n",
            "Epoch: 34\n",
            "Epoch: 35\n",
            "Iteration: 8500. Loss: 2.2647476196289062. Accuracy: 17.92349726775956\n",
            "Epoch: 36\n",
            "-----------------------Simulation ends----------------------\n",
            "Current Time = 08:27:12\n"
          ],
          "name": "stdout"
        }
      ]
    },
    {
      "cell_type": "code",
      "metadata": {
        "id": "btlQlB0k4GfS",
        "colab": {
          "base_uri": "https://localhost:8080/",
          "height": 316
        },
        "outputId": "d710a837-4d37-44eb-ca91-ef5da9c3892c"
      },
      "source": [
        "#PLOTTING LOSS PER 500 ITERATIONS\r\n",
        "\r\n",
        "print (iteration_loss)\r\n",
        "plt.plot(iteration_loss)\r\n",
        "plt.ylabel('Cross Entropy Loss')\r\n",
        "plt.xlabel('Iteration (in every 500)')\r\n",
        "plt.show()"
      ],
      "execution_count": null,
      "outputs": [
        {
          "output_type": "stream",
          "text": [
            "[2.293510675430298, 2.2801058292388916, 2.2862579822540283, 2.2853167057037354, 2.287198066711426, 2.281289577484131, 2.2839913368225098, 2.284733295440674, 2.274221420288086, 2.2826240062713623, 2.2786672115325928, 2.2718443870544434, 2.2758777141571045, 2.2709779739379883, 2.2670416831970215, 2.2764644622802734, 2.2647476196289062]\n"
          ],
          "name": "stdout"
        },
        {
          "output_type": "display_data",
          "data": {
            "image/png": "[encoded data removed]",
            "text/plain": [
              "<Figure size 432x288 with 1 Axes>"
            ]
          },
          "metadata": {
            "tags": [],
            "needs_background": "light"
          }
        }
      ]
    },
    {
      "cell_type": "markdown",
      "metadata": {
        "id": "WfRGYP2QD2jT"
      },
      "source": [
        "## **OBSERVATIONS AFTER EXPERIMENTING WITH OPTIMIZERS:-**\r\n",
        "\r\n",
        "\r\n",
        "---\r\n",
        "\r\n",
        "Now we can compare the data for the 8 settings, where the iterations, batch-size and learning-rate were static and only the Optimizer was varied, in order to determine which optimizer performs the best with the selected hyper-parameters. A table is shown as follows:\r\n",
        "\r\n",
        "|     Criteria     |  SGD  |  ADAGRAD  |  Adam  |  ASGD  |  RMSProp  |  Rprop  |\r\n",
        "| :--------------- | :----------: | :---------: | :-----------: | :----------: | :---------: | :-----------: |\r\n",
        "| Initial Accuracy |    24.08%    |   27.39%    |    27.77%     |    25.84%    |   20.76%    |    11.98%     |\r\n",
        "| Highest Accuracy |    43.11%    |   41.53%    |    **45.48%**     |    43.04%    |   29.92%    |    17.92%     |\r\n",
        "| Final Accuracy   |    42.96%    |   40.61%    |    **43.26%**     |    42.93%    |   23.91%    |    17.92%     || \r\n",
        "\r\n",
        "From here if we consider the highest accuracy(45.48%) as well as the highest final accuracy 43.26%, then we must consider the optimizer **Adam** as being the best optimizer for the chosen hyperparameters."
      ]
    },
    {
      "cell_type": "code",
      "metadata": {
        "id": "u0LSv4TI5Unc",
        "colab": {
          "base_uri": "https://localhost:8080/"
        },
        "outputId": "3269bac3-be7d-4c1c-d819-7a0839f72658"
      },
      "source": [
        "save_model = True\r\n",
        "\r\n",
        "if save_model is True:\r\n",
        "    # Saves only parameters\r\n",
        "    # weights & biases\r\n",
        "    torch.save(model.state_dict(), '/content/gdrive/My Drive/Colab Notebooks/NumtaDB/' + 'bangla_digit_recognizer_logistic.pkl') \r\n",
        "    print('Saved!')"
      ],
      "execution_count": null,
      "outputs": [
        {
          "output_type": "stream",
          "text": [
            "Saved!\n"
          ],
          "name": "stdout"
        }
      ]
    },
    {
      "cell_type": "markdown",
      "metadata": {
        "id": "E8JexJXw27Jx"
      },
      "source": [
        "# Comparison of results:\r\n",
        "\r\n",
        "---\r\n",
        "\r\n",
        "Here we can see a comparison of all the settings we have implemented in this experiment."
      ]
    },
    {
      "cell_type": "markdown",
      "metadata": {
        "id": "92iIsL3vpk-u"
      },
      "source": [
        "![1.1 data.png](data:image/png;base64,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)"
      ]
    },
    {
      "cell_type": "markdown",
      "metadata": {
        "id": "fT-b7H5op8x-"
      },
      "source": [
        "**In conclusion: Adam optimizer used alongside hyper-parameters:- Batch-size=200, iteration=10000, learning rate=0.01 gave the best accuracy among the 12 experiments conducted.**"
      ]
    }
  ]
}