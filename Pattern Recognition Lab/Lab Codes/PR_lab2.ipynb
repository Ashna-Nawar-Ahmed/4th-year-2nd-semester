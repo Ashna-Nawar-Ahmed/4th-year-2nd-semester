{
 "cells": [
  {
   "cell_type": "markdown",
   "metadata": {
    "colab_type": "text",
    "id": "GDD0a45SMinx"
   },
   "source": [
    "#Numpy\n",
    "\n",
    "\n",
    "\tNumPy or Numeric Python is a package for computation on homogenous n-dimensional arrays.\n",
    "\tIn numpy dimensions are called as axes.\n",
    "\n",
    "\n",
    "\tWhy do we need NumPy? [when python lists are already there]\n",
    "\n",
    "\twe cannot perform operations on all the elements of two list directly.\n",
    "\tFor example, we cannot multiply two lists directly we will have to do it element wise. \n",
    "\tThis is where the role of NumPy comes into play.\n",
    "\n",
    "\n"
   ]
  },
  {
   "cell_type": "code",
   "execution_count": null,
   "metadata": {
    "colab": {
     "base_uri": "https://localhost:8080/",
     "height": 197
    },
    "colab_type": "code",
    "executionInfo": {
     "elapsed": 2098,
     "status": "error",
     "timestamp": 1582045053096,
     "user": {
      "displayName": "H M Zabir Haque",
      "photoUrl": "",
      "userId": "03768423101432533200"
     },
     "user_tz": -360
    },
    "id": "a234y9AROdwP",
    "outputId": "337c6152-7993-412e-be29-59acc306f67f"
   },
   "outputs": [],
   "source": [
    "list1 = [1, 2, 3, 4 ,5, 6]\n",
    "list2 = [10, 9, 8, 7, 6, 5]\n",
    "\n",
    "\n",
    "print(list1*list2)"
   ]
  },
  {
   "cell_type": "code",
   "execution_count": null,
   "metadata": {
    "colab": {},
    "colab_type": "code",
    "id": "KYz2b-DoOdY1"
   },
   "outputs": [],
   "source": [
    "import numpy as np"
   ]
  },
  {
   "cell_type": "code",
   "execution_count": null,
   "metadata": {
    "colab": {
     "base_uri": "https://localhost:8080/",
     "height": 34
    },
    "colab_type": "code",
    "executionInfo": {
     "elapsed": 2362,
     "status": "ok",
     "timestamp": 1582045088158,
     "user": {
      "displayName": "H M Zabir Haque",
      "photoUrl": "",
      "userId": "03768423101432533200"
     },
     "user_tz": -360
    },
    "id": "qNz__31PO_xe",
    "outputId": "ccee3f5c-9404-4db5-ae17-763f96b34192"
   },
   "outputs": [],
   "source": [
    "list1 = [1, 2, 3, 4, 5, 6] \n",
    "list2 = [10, 9, 8, 7, 6, 5] \n",
    "  \n",
    "# Convert list1 into a NumPy array \n",
    "a1 = np.array(list1) \n",
    "  \n",
    "# Convert list2 into a NumPy array \n",
    "a2 = np.array(list2) \n",
    "  \n",
    "print(a1*a2)"
   ]
  },
  {
   "cell_type": "code",
   "execution_count": null,
   "metadata": {
    "colab": {
     "base_uri": "https://localhost:8080/",
     "height": 238
    },
    "colab_type": "code",
    "executionInfo": {
     "elapsed": 940,
     "status": "ok",
     "timestamp": 1582169640273,
     "user": {
      "displayName": "Md. Hasin Abrar",
      "photoUrl": "",
      "userId": "06156809182063123426"
     },
     "user_tz": -360
    },
    "id": "joFf4IcVPPSm",
    "outputId": "fc3a60fa-398a-4cd5-f045-7c2a38e0de93"
   },
   "outputs": [],
   "source": [
    "# a = np.array([1, 2, 3, 4, 5, 6])\n",
    "# print(a, a.dtype, a.ndim, a.shape)\n",
    "\n",
    "# a = np.array([1, 2, 3, 4, 5], dtype=np.float64)\n",
    "# print(a, a.dtype, a.ndim, a.shape)\n",
    "\n",
    "# a = np.zeros((2,4))\n",
    "# print(a)\n",
    "\n",
    "# a = np.empty((4,4))\n",
    "# print(a)\n",
    "\n",
    "b = np.ones_like(a)\n",
    "print(b)"
   ]
  },
  {
   "cell_type": "code",
   "execution_count": null,
   "metadata": {
    "colab": {
     "base_uri": "https://localhost:8080/",
     "height": 357
    },
    "colab_type": "code",
    "executionInfo": {
     "elapsed": 1667,
     "status": "ok",
     "timestamp": 1582045398331,
     "user": {
      "displayName": "H M Zabir Haque",
      "photoUrl": "",
      "userId": "03768423101432533200"
     },
     "user_tz": -360
    },
    "id": "rT78cr7rPjXn",
    "outputId": "05d5c520-ed06-4c4a-d533-c6423f94ae5d"
   },
   "outputs": [],
   "source": [
    "# print(np.linspace(0, 10, 5))\n",
    "# print(np.arange(0, 10, 2))\n",
    "\n",
    "\n",
    "# a = np.arange(6)  \n",
    "# print(a, \"np.arange\")\n",
    "\n",
    "# b = np.arange(12).reshape(4,3) \n",
    "# print(\"np.arange(12).reshape(4,3)\")\n",
    "# print(b)\n",
    "\n",
    "# c = np.arange(24).reshape(2,3,4)\n",
    "# print(\"np.arange(24).reshape(2,3,4)\")\n",
    "# print(c)\n",
    "\n",
    "\n",
    "b = np.arange(12).reshape(3,4)\n",
    "print(\"np.arange(12).reshape(3,4)\")\n",
    "print(b)\n"
   ]
  },
  {
   "cell_type": "markdown",
   "metadata": {
    "colab_type": "text",
    "id": "_cUHyhIJQdQH"
   },
   "source": [
    "# Indexing using index arrays"
   ]
  },
  {
   "cell_type": "code",
   "execution_count": null,
   "metadata": {
    "colab": {
     "base_uri": "https://localhost:8080/",
     "height": 51
    },
    "colab_type": "code",
    "executionInfo": {
     "elapsed": 1094,
     "status": "ok",
     "timestamp": 1582045653080,
     "user": {
      "displayName": "H M Zabir Haque",
      "photoUrl": "",
      "userId": "03768423101432533200"
     },
     "user_tz": -360
    },
    "id": "NwmZL1aPQ4i2",
    "outputId": "a2097680-257e-4e21-991b-95430f87b87e"
   },
   "outputs": [],
   "source": [
    "# print(b.sum(axis=1))                     # sum of each column\n",
    "\n",
    "print(b.min(axis=1))                           # min of each row"
   ]
  },
  {
   "cell_type": "code",
   "execution_count": null,
   "metadata": {
    "colab": {
     "base_uri": "https://localhost:8080/",
     "height": 102
    },
    "colab_type": "code",
    "executionInfo": {
     "elapsed": 941,
     "status": "ok",
     "timestamp": 1582045771957,
     "user": {
      "displayName": "H M Zabir Haque",
      "photoUrl": "",
      "userId": "03768423101432533200"
     },
     "user_tz": -360
    },
    "id": "snodft2yQpqg",
    "outputId": "2a026257-a270-4239-e8f9-effc5c7606a4"
   },
   "outputs": [],
   "source": [
    "a = np.arange(10)**3\n",
    "print(a)\n",
    "# array([  0,   1,   8,  27,  64, 125, 216, 343, 512, 729])\n",
    "# print(a[-1])\n",
    "# 8\n",
    "# print(a[2:5])\n",
    "# array([ 8, 27, 64])\n",
    "# a[:6:2] = -1000    # equivalent to a[0:6:2] = -1000; from start to position 6, exclusive, set every 2nd element to -1000\n",
    "# print(a)\n",
    "# array([-1000,     1, -1000,    27, -1000,   125,   216,   343,   512,   729])\n",
    "print(a[ : :-1])                                 # reversed a\n",
    "# array([  729,   512,   343,   216,   125, -1000,    27, -1000,     1, -1000])"
   ]
  },
  {
   "cell_type": "code",
   "execution_count": null,
   "metadata": {
    "colab": {
     "base_uri": "https://localhost:8080/",
     "height": 221
    },
    "colab_type": "code",
    "executionInfo": {
     "elapsed": 978,
     "status": "ok",
     "timestamp": 1582170443785,
     "user": {
      "displayName": "Md. Hasin Abrar",
      "photoUrl": "",
      "userId": "06156809182063123426"
     },
     "user_tz": -360
    },
    "id": "RX_Rgb4sSI_-",
    "outputId": "4c7cb7cc-15c8-4361-f704-d6f75f6701cd"
   },
   "outputs": [],
   "source": [
    "a = np.array([[1, 2], \n",
    "              [3, 4]]) \n",
    "  \n",
    "b = np.array([[5, 6], \n",
    "              [7, 8]])\n",
    "\n",
    "# print(\"Vertical stacking:\", np.vstack((a, b))) \n",
    "  \n",
    "# horizontal stacking \n",
    "# print(\"Horizontal stacking:\", np.hstack((a, b))) \n",
    "  \n",
    "c = [5, 6] \n",
    "  \n",
    "# stacking columns \n",
    "# print(\"Column stacking:\", np.column_stack((a, c)))\n",
    "\n",
    "\n",
    "\n",
    "a = np.array([[1, 3, 5, 7, 9, 11], \n",
    "              [2, 4, 6, 8, 10, 12]]) \n",
    "\n",
    "print(a)\n",
    "# horizontal splitting \n",
    "# print(\"Splitting along horizontal axis into 2 parts:\", np.hsplit(a, 2)) \n",
    "  \n",
    "# vertical splitting \n",
    "print(\"Splitting along vertical axis into 2 parts:\", np.vsplit(a, 2))\n"
   ]
  },
  {
   "cell_type": "code",
   "execution_count": null,
   "metadata": {
    "colab": {},
    "colab_type": "code",
    "id": "Z2QdgvlmSXpS"
   },
   "outputs": [],
   "source": [
    "# a = np.arange(20, 10, -1)  \n",
    "# print(\"sequential array with a negative step: \",a) \n",
    "  \n",
    "# Indexes are specified inside the np.array method. \n",
    "# newnp = a[np.array([4, 3, 1, 2 ])] \n",
    "# print(a)\n",
    "# print(\"Elements: \",newnp)\n",
    "\n",
    "a = np.array([1, 2, 3, 4, 5, 6, 7, 8, 9]) \n",
    "  \n",
    "# Index values can be negative. \n",
    "arr = a[np.array([1, 3, -3])]\n",
    "print(\"Elements: \", arr)\n",
    "\n",
    "# [2 4 7]"
   ]
  },
  {
   "cell_type": "markdown",
   "metadata": {
    "colab_type": "text",
    "id": "PFlHMje6NRcH"
   },
   "source": [
    "# numpy indexing and slicing\n",
    "\n",
    "\tThere are three kinds of indexing available: \n",
    "\t\trecord access, basic slicing, advanced indexing.\n",
    "\t\tWhich one occurs depends on object."
   ]
  },
  {
   "cell_type": "code",
   "execution_count": null,
   "metadata": {
    "colab": {
     "base_uri": "https://localhost:8080/",
     "height": 68
    },
    "colab_type": "code",
    "executionInfo": {
     "elapsed": 1220,
     "status": "ok",
     "timestamp": 1582046132362,
     "user": {
      "displayName": "H M Zabir Haque",
      "photoUrl": "",
      "userId": "03768423101432533200"
     },
     "user_tz": -360
    },
    "id": "GxxjNUghS8ff",
    "outputId": "fb986772-6a33-42b4-d096-c2a97e85046e"
   },
   "outputs": [],
   "source": [
    "a = np.arange(20) \n",
    "print(a) \n",
    "  \n",
    "# a[start:stop:step] \n",
    "print(a[-8:17:1])  \n",
    "  \n",
    "# The : operator means all elements till the end. \n",
    "print(a[10:])"
   ]
  },
  {
   "cell_type": "code",
   "execution_count": null,
   "metadata": {
    "colab": {
     "base_uri": "https://localhost:8080/",
     "height": 102
    },
    "colab_type": "code",
    "executionInfo": {
     "elapsed": 1241,
     "status": "ok",
     "timestamp": 1582049046711,
     "user": {
      "displayName": "Md. Hasin Abrar",
      "photoUrl": "",
      "userId": "06156809182063123426"
     },
     "user_tz": -360
    },
    "id": "tNl6pqnHTLyt",
    "outputId": "5fafb9ac-624e-4359-bec6-c9d6bb4088cb"
   },
   "outputs": [],
   "source": [
    "a = np.array([[1, 2, 3], \n",
    "              [4, 5, 6], \n",
    "              [7, 8, 9]])\n",
    "# print(a[:, 0]) # single row with 0 index column value\n",
    "# print(a[:, 1])\n",
    "# print(a[:, 2])\n",
    "\n",
    "# print(a[0, :])\n",
    "# print(a[1, :])\n",
    "\n",
    "# print(a[0:2, 1:3]) # a[row, column]\n",
    "print(a[0:2, 0:2])"
   ]
  },
  {
   "cell_type": "code",
   "execution_count": null,
   "metadata": {
    "colab": {
     "base_uri": "https://localhost:8080/",
     "height": 204
    },
    "colab_type": "code",
    "executionInfo": {
     "elapsed": 956,
     "status": "ok",
     "timestamp": 1582170559105,
     "user": {
      "displayName": "Md. Hasin Abrar",
      "photoUrl": "",
      "userId": "06156809182063123426"
     },
     "user_tz": -360
    },
    "id": "gH-PwynsSxEc",
    "outputId": "36ca4b32-f9e4-4c4a-8867-ecf2f2a1391f"
   },
   "outputs": [],
   "source": [
    "np.random.seed(10)\n",
    "vv = np.random.random((5, 4))\n",
    "print(vv)\n",
    "\n",
    "# print(vv[2:5, 1:2])\n",
    "# print(vv[2:5, 1])\n",
    "# print(vv[2:-1, :])"
   ]
  },
  {
   "cell_type": "markdown",
   "metadata": {
    "colab_type": "text",
    "id": "qtbY8EGdOA9t"
   },
   "source": [
    "# Advanced indexing\n",
    "\n",
    "\n",
    "\tPurely integer indexing:\n",
    "\t\tWhen integers are used for indexing.\n",
    "\t\tEach element of first dimension is paired with the element of the second dimension\n"
   ]
  },
  {
   "cell_type": "code",
   "execution_count": null,
   "metadata": {
    "colab": {
     "base_uri": "https://localhost:8080/",
     "height": 34
    },
    "colab_type": "code",
    "executionInfo": {
     "elapsed": 1075,
     "status": "ok",
     "timestamp": 1582044947153,
     "user": {
      "displayName": "H M Zabir Haque",
      "photoUrl": "",
      "userId": "03768423101432533200"
     },
     "user_tz": -360
    },
    "id": "ACPRtO5mOMEc",
    "outputId": "cbd7f3aa-0ade-4f13-e66f-42bd09aec05c"
   },
   "outputs": [],
   "source": [
    "a = np.array([[1 ,2 ],\n",
    "              [3 ,4 ],\n",
    "              [5 ,6 ]]) \n",
    "print(a[[0 ,1 ,2 ]])\n",
    "print(a[[0 ,1 ,2 ],[0 ,0 ,1]])"
   ]
  },
  {
   "cell_type": "markdown",
   "metadata": {
    "colab_type": "text",
    "id": "mVu9NzbWN-l5"
   },
   "source": [
    "#Boolean Indexing\n",
    "\n",
    "\t\n",
    "\t\tThis indexing has some boolean expression as the index. \n",
    "\t\tThose elements are returned which satisfy that Boolean expression.\n",
    "\t\tIt is used for filtering the desired element values.\n",
    "\n",
    "\n",
    "\n",
    "\n"
   ]
  },
  {
   "cell_type": "code",
   "execution_count": null,
   "metadata": {
    "colab": {
     "base_uri": "https://localhost:8080/",
     "height": 68
    },
    "colab_type": "code",
    "executionInfo": {
     "elapsed": 962,
     "status": "ok",
     "timestamp": 1582089547556,
     "user": {
      "displayName": "Md. Hasin Abrar",
      "photoUrl": "",
      "userId": "06156809182063123426"
     },
     "user_tz": -360
    },
    "id": "N8PowhlJORrm",
    "outputId": "b1646a79-261b-4b05-9bef-cb99596fda88"
   },
   "outputs": [],
   "source": [
    "import numpy as np\n",
    "\n",
    "a = np.array([10, 40, 80, 50, 100]) \n",
    "# print(a[a>50])\n",
    "\n",
    "\n",
    "b = np.array([[5, 5],\n",
    "              [15, 5],\n",
    "              [16, 4]]) \n",
    "\n",
    "sumrow = b.sum(1) \n",
    "print(sumrow)\n",
    "print(b[sumrow%10==0])"
   ]
  },
  {
   "cell_type": "markdown",
   "metadata": {
    "colab_type": "text",
    "id": "YSOi5WbZNskV"
   },
   "source": [
    "\n",
    "\n",
    "```\n",
    "a[start:end] # items start through end-1\n",
    "a[start:]    # items start through the rest of the array\n",
    "a[:end]      # items from the beginning through end-1\n",
    "a[:]         # a copy of the whole array\n",
    "# There is also the step value, which can be used with any of the above:\n",
    "```\n",
    "\n"
   ]
  },
  {
   "cell_type": "markdown",
   "metadata": {
    "colab_type": "text",
    "id": "jj6riJ9SNbu0"
   },
   "source": [
    "```\n",
    "a[start:end:step] # start through not past end, by step\n",
    "\n",
    "\n",
    "a[-1]    # last item in the array\n",
    "a[-2:]   # last two items in the array\n",
    "a[:-2]   # everything except the last two items\n",
    "Similarly, step may be a negative number:\n",
    "\n",
    "a[::-1]    # all items in the array, reversed\n",
    "a[1::-1]   # the first two items, reversed\n",
    "a[:-3:-1]  # the last two items, reversed\n",
    "a[-3::-1]  # everything except the last two items, reversed\n",
    "```\n",
    "\n"
   ]
  },
  {
   "cell_type": "markdown",
   "metadata": {
    "colab_type": "text",
    "id": "REkGOupFoL_y"
   },
   "source": [
    "#File read from local computer"
   ]
  },
  {
   "cell_type": "code",
   "execution_count": null,
   "metadata": {
    "colab": {
     "base_uri": "https://localhost:8080/",
     "height": 75,
     "resources": {
      "http://localhost:8080/nbextensions/google.colab/files.js": {
       "data": "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",
       "headers": [
        [
         "content-type",
         "application/javascript"
        ]
       ],
       "ok": true,
       "status": 200,
       "status_text": ""
      }
     }
    },
    "colab_type": "code",
    "executionInfo": {
     "elapsed": 11774,
     "status": "ok",
     "timestamp": 1582188839415,
     "user": {
      "displayName": "Md. Hasin Abrar",
      "photoUrl": "",
      "userId": "06156809182063123426"
     },
     "user_tz": -360
    },
    "id": "XfKGwWCPnqRu",
    "outputId": "876a7c4b-2bc7-43e0-e5e8-5cac355c5a23"
   },
   "outputs": [],
   "source": [
    "from google.colab import files\n",
    "uploaded = files.upload()"
   ]
  },
  {
   "cell_type": "code",
   "execution_count": null,
   "metadata": {
    "colab": {
     "base_uri": "https://localhost:8080/",
     "height": 238
    },
    "colab_type": "code",
    "executionInfo": {
     "elapsed": 925,
     "status": "ok",
     "timestamp": 1582046389664,
     "user": {
      "displayName": "H M Zabir Haque",
      "photoUrl": "",
      "userId": "03768423101432533200"
     },
     "user_tz": -360
    },
    "id": "IRWVT7veTsXE",
    "outputId": "f1f4ae4b-cd21-4d94-f11e-7a4427e909a4"
   },
   "outputs": [],
   "source": [
    "import io\n",
    "import pandas as pd\n",
    "df = pd.read_csv(io.BytesIO(uploaded['train.txt'] ), sep=\" \" ,  header = None, dtype = 'Int64')\n",
    "print(df)"
   ]
  },
  {
   "cell_type": "markdown",
   "metadata": {
    "colab_type": "text",
    "id": "asCPnSkgoD7N"
   },
   "source": [
    "#File read from google drive"
   ]
  },
  {
   "cell_type": "code",
   "execution_count": null,
   "metadata": {
    "colab": {
     "base_uri": "https://localhost:8080/",
     "height": 128
    },
    "colab_type": "code",
    "executionInfo": {
     "elapsed": 22235,
     "status": "ok",
     "timestamp": 1582188892304,
     "user": {
      "displayName": "Md. Hasin Abrar",
      "photoUrl": "",
      "userId": "06156809182063123426"
     },
     "user_tz": -360
    },
    "id": "6jQRNs0foAvo",
    "outputId": "d5fb7904-57c5-42d2-8881-6840f03b89b6"
   },
   "outputs": [],
   "source": [
    "from google.colab import drive\n",
    "drive.mount('/content/drive')\n",
    "main_directory = '/content/drive/My Drive/Soft Computing/Assignment 1 HMM/train.txt'"
   ]
  },
  {
   "cell_type": "code",
   "execution_count": null,
   "metadata": {
    "colab": {
     "base_uri": "https://localhost:8080/",
     "height": 238
    },
    "colab_type": "code",
    "executionInfo": {
     "elapsed": 916,
     "status": "ok",
     "timestamp": 1582046862108,
     "user": {
      "displayName": "H M Zabir Haque",
      "photoUrl": "",
      "userId": "03768423101432533200"
     },
     "user_tz": -360
    },
    "id": "RYy0fBvIU0LT",
    "outputId": "397cd2f8-13ac-4e1d-8723-d7a5798bfeff"
   },
   "outputs": [],
   "source": [
    "df1 = pd.read_csv(main_directory, sep=\" \" , header = None, dtype = 'Int64')\n",
    "print(df1)"
   ]
  },
  {
   "cell_type": "code",
   "execution_count": null,
   "metadata": {
    "colab": {},
    "colab_type": "code",
    "id": "zEkWzEaiVBH6"
   },
   "outputs": [],
   "source": []
  }
 ],
 "metadata": {
  "colab": {
   "name": "PR_Lab2.ipynb",
   "provenance": [
    {
     "file_id": "1zoEjKxeDOevNi1VVa3mmQ9c5CALeQCR3",
     "timestamp": 1582048815745
    }
   ]
  },
  "kernelspec": {
   "display_name": "Python 3",
   "language": "python",
   "name": "python3"
  },
  "language_info": {
   "codemirror_mode": {
    "name": "ipython",
    "version": 3
   },
   "file_extension": ".py",
   "mimetype": "text/x-python",
   "name": "python",
   "nbconvert_exporter": "python",
   "pygments_lexer": "ipython3",
   "version": "3.7.4"
  }
 },
 "nbformat": 4,
 "nbformat_minor": 1
}
