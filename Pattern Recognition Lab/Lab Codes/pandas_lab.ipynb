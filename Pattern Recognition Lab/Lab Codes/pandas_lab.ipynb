{
 "cells": [
  {
   "cell_type": "code",
   "execution_count": null,
   "metadata": {
    "colab": {},
    "colab_type": "code",
    "id": "cKeg0cBfZbV_",
    "outputId": "c813daf1-027d-424f-adc8-c178a918ffbb"
   },
   "outputs": [],
   "source": [
    "ctemps = [5, 10, 12, 14, 10, 23, 41, 30, 12, 24, 12, 18, 29]\n",
    "\n",
    "ftemps1 = [(t * 9/5) + 32 for t in ctemps]\n",
    "ftemps2 = {(t * 9/5) + 32 for t in ctemps}\n",
    "print(\"\\n\", ftemps1, type(ftemps1))\n",
    "print(\"\\n\", ftemps2, type(ftemps2))\n",
    "\n",
    "\n",
    "evens = [2, 4, 6, 8, 10, 12, 14, 16, 18, 20]\n",
    "\n",
    "list_evenSquared = [e ** 2 for e in evens]\n",
    "print(\"\\nList comprehension\", list_evenSquared)\n",
    "\n",
    "set_evenSquared = {e ** 2 for e in evens}\n",
    "print(\"\\nSet comprehension\", set_evenSquared)"
   ]
  },
  {
   "cell_type": "code",
   "execution_count": null,
   "metadata": {
    "colab": {},
    "colab_type": "code",
    "id": "LTtoD2XDZbWI",
    "outputId": "9d01e3c8-1a7c-4d1b-fa62-9add153d40fd"
   },
   "outputs": [],
   "source": [
    "import numpy as np\n",
    "\n",
    "a = np.array([[1, 2],\n",
    "              [3, 4]])\n",
    "\n",
    "b = np.array([[5, 6],\n",
    "              [7, 8]])\n",
    "\n",
    "print(\"Vertical stacking:\", np.vstack((a, b)))\n",
    "\n",
    "# horizontal stacking\n",
    "print(\"Horizontal stacking:\", np.hstack((a, b)))\n",
    "\n",
    "\n",
    "c = [5, 6]\n",
    "# stacking columns\n",
    "print(\"Column stacking:\", np.column_stack((a, c)))\n"
   ]
  },
  {
   "cell_type": "code",
   "execution_count": null,
   "metadata": {
    "colab": {
     "base_uri": "https://localhost:8080/",
     "height": 235
    },
    "colab_type": "code",
    "executionInfo": {
     "elapsed": 935,
     "status": "ok",
     "timestamp": 1582189027369,
     "user": {
      "displayName": "Md. Hasin Abrar",
      "photoUrl": "",
      "userId": "06156809182063123426"
     },
     "user_tz": -360
    },
    "id": "6rU6Y4iXZbWN",
    "outputId": "9483c0e1-e516-4b65-ccfb-bcdb1999b7fe"
   },
   "outputs": [],
   "source": [
    "import pandas as pd\n",
    "import numpy as np\n",
    "s = pd.Series([0, 1, 4, 9, 16, 25], name='squares')\n",
    "print(s)\n",
    "print(s.index)\n",
    "print(s.values, s.index)\n",
    "print(s[2:4])"
   ]
  },
  {
   "cell_type": "code",
   "execution_count": null,
   "metadata": {
    "colab": {},
    "colab_type": "code",
    "id": "lGVHXsTWZbWR",
    "outputId": "d61f73eb-8199-41f7-aa3f-c6993c4120d6"
   },
   "outputs": [],
   "source": [
    "pop2014 = pd.Series([100, 99.3, 95.5, 93.5, 92.4, 84.8, 84.5, 78.9, 74.3, 72.8],\n",
    "                    index=['Java', 'C', 'C++', 'Python', 'C#', 'PHP', 'JavaScript', 'Ruby', 'R', 'Matlab'])\n",
    "\n",
    "pop2015 = pd.Series({'Java': 100, 'C': 99.9, 'C++': 99.4, 'Python': 96.5, 'C#': 91.3,\n",
    "                     'R': 84.8, 'PHP': 84.5, 'JavaScript': 83.0, 'Ruby': 76.2, 'Matlab': 72.4})\n",
    "\n",
    "print(pop2014)\n",
    "\n",
    "print(pop2015) # index sort"
   ]
  },
  {
   "cell_type": "code",
   "execution_count": null,
   "metadata": {
    "colab": {},
    "colab_type": "code",
    "id": "Rzs9zdYjZbWV",
    "outputId": "510f3cc8-18fe-4e10-ffd1-e90c049cd1d0"
   },
   "outputs": [],
   "source": [
    "print(pop2014.index)\n",
    "print(pop2014.iloc[0:2])\n",
    "\n",
    "print(pop2014.loc[:'Ruby'])"
   ]
  },
  {
   "cell_type": "markdown",
   "metadata": {
    "colab_type": "text",
    "id": "2drMMBSJZbWa"
   },
   "source": [
    "loc gets rows (or columns) with particular labels from the index.\n",
    "\n",
    "iloc gets rows (or columns) at particular positions in the index (so it only takes integers).\n",
    "\n",
    "ix usually tries to behave like loc but falls back to behaving like iloc if a label is not present in the index"
   ]
  },
  {
   "cell_type": "code",
   "execution_count": null,
   "metadata": {
    "colab": {},
    "colab_type": "code",
    "id": "vFRiIv_3ZbWb",
    "outputId": "3d6b4b10-7144-48d5-f6fe-3ad0bb4f305a"
   },
   "outputs": [],
   "source": [
    "twoyears = pd.DataFrame({'2014': pop2014, '2015': pop2015})\n",
    "print(twoyears)"
   ]
  },
  {
   "cell_type": "code",
   "execution_count": null,
   "metadata": {
    "colab": {},
    "colab_type": "code",
    "id": "fHSzeb50ZbWg",
    "outputId": "2471a5ac-dcc6-4739-9108-43a8dda35d17"
   },
   "outputs": [],
   "source": [
    "twoyears['Average'] = 0.5*(twoyears['2014'] + twoyears['2015']) \n",
    "print(twoyears)"
   ]
  },
  {
   "cell_type": "code",
   "execution_count": null,
   "metadata": {
    "colab": {},
    "colab_type": "code",
    "id": "8aWxSiugZbWl",
    "outputId": "7426716f-e77e-43ac-e82e-e56aa0fa5e4b"
   },
   "outputs": [],
   "source": [
    "test_data = pd.DataFrame(np.random.choice(['a', 'b', 'c', 'e'], (3, 3)), index=[1, 2, 3], columns=['AA', 'BB', 'CC'])\n",
    "print(test_data)"
   ]
  },
  {
   "cell_type": "markdown",
   "metadata": {
    "colab_type": "text",
    "id": "n6zFURx-ZbWp"
   },
   "source": [
    "# pandas aggregation"
   ]
  },
  {
   "cell_type": "code",
   "execution_count": null,
   "metadata": {
    "colab": {},
    "colab_type": "code",
    "id": "oIgjA2p3ZbWq",
    "outputId": "228654c3-7b87-49b1-bea0-4d1e1cd432ca"
   },
   "outputs": [],
   "source": [
    "open('tips.csv','r').readlines()[:10]"
   ]
  },
  {
   "cell_type": "code",
   "execution_count": null,
   "metadata": {
    "colab": {},
    "colab_type": "code",
    "id": "M4H10FsNZbW2"
   },
   "outputs": [],
   "source": [
    "tips = pd.read_csv('tips.csv')"
   ]
  },
  {
   "cell_type": "code",
   "execution_count": null,
   "metadata": {
    "colab": {},
    "colab_type": "code",
    "id": "yZWCmog_ZbW6",
    "outputId": "90608302-53c1-489a-d3eb-67bf25cab2a5"
   },
   "outputs": [],
   "source": [
    "tips.head()"
   ]
  },
  {
   "cell_type": "code",
   "execution_count": null,
   "metadata": {
    "colab": {},
    "colab_type": "code",
    "id": "2J8Bci4UZbW9",
    "outputId": "54d197fd-8219-4679-d39c-445bd6ff6dc4"
   },
   "outputs": [],
   "source": [
    "tips.mean()"
   ]
  },
  {
   "cell_type": "code",
   "execution_count": null,
   "metadata": {
    "colab": {},
    "colab_type": "code",
    "id": "6r-YqZPnZbXB",
    "outputId": "a7e0d7c6-cad6-483f-a050-5efef5fe1cb6"
   },
   "outputs": [],
   "source": [
    "tips.dtypes"
   ]
  },
  {
   "cell_type": "code",
   "execution_count": null,
   "metadata": {
    "colab": {},
    "colab_type": "code",
    "id": "Wpj4yCjnZbXF",
    "outputId": "582198fe-63a4-496e-83d7-d1816efe4c22"
   },
   "outputs": [],
   "source": [
    "tips.describe()"
   ]
  },
  {
   "cell_type": "code",
   "execution_count": null,
   "metadata": {
    "colab": {},
    "colab_type": "code",
    "id": "HW9ob6MxZbXJ",
    "outputId": "5669cf65-835d-4ec4-c084-3e03d8586b39"
   },
   "outputs": [],
   "source": [
    "tips.shape # row count"
   ]
  },
  {
   "cell_type": "code",
   "execution_count": null,
   "metadata": {
    "colab": {},
    "colab_type": "code",
    "id": "tbo_5uYAZbXN",
    "outputId": "40535ed0-84df-4ddf-ba49-7e6589a7dc8b"
   },
   "outputs": [],
   "source": [
    "tips.groupby('gender').mean()"
   ]
  },
  {
   "cell_type": "code",
   "execution_count": null,
   "metadata": {
    "colab": {},
    "colab_type": "code",
    "id": "43ERkB2nZbXS",
    "outputId": "12e48c58-9d06-4535-9dd4-13b9ac67027a"
   },
   "outputs": [],
   "source": [
    "tips.groupby(['gender','smoker']).mean()"
   ]
  },
  {
   "cell_type": "code",
   "execution_count": null,
   "metadata": {
    "colab": {},
    "colab_type": "code",
    "id": "12ptt8F4ZbXW",
    "outputId": "03cc29d5-cb6a-42e0-aca0-2a2fd9443973"
   },
   "outputs": [],
   "source": [
    "pd.pivot_table(tips,'total_bill','gender','smoker')\n",
    "\n",
    "# pandas.pivot_table(data, values=None, index=None, columns=None, aggfunc='mean', \n",
    "#         fill_value=None, margins=False, dropna=True, margins_name='All')\n",
    "\n",
    "# Create a spreadsheet-style pivot table as a DataFrame."
   ]
  },
  {
   "cell_type": "code",
   "execution_count": null,
   "metadata": {
    "colab": {},
    "colab_type": "code",
    "id": "QE5q8AUTZbXZ",
    "outputId": "0357e73b-4b6a-4c0d-cc3a-2e7a28f1fa53"
   },
   "outputs": [],
   "source": [
    "pd.pivot_table(tips,'total_bill',['gender','smoker'],['day','time'])\n",
    "# pandas.pivot_table(data, values=None, index=None, columns=None, aggfunc='mean')\n"
   ]
  },
  {
   "cell_type": "markdown",
   "metadata": {
    "colab_type": "text",
    "id": "LSxVcApKZbXd"
   },
   "source": [
    "# Data Frame Creation and visualization "
   ]
  },
  {
   "cell_type": "code",
   "execution_count": null,
   "metadata": {
    "colab": {
     "base_uri": "https://localhost:8080/",
     "height": 204
    },
    "colab_type": "code",
    "executionInfo": {
     "elapsed": 1063,
     "status": "ok",
     "timestamp": 1582171555879,
     "user": {
      "displayName": "Md. Hasin Abrar",
      "photoUrl": "",
      "userId": "06156809182063123426"
     },
     "user_tz": -360
    },
    "id": "5w4GhTBDZbXe",
    "outputId": "509db061-6540-45fa-8bc8-0dc31aaed950"
   },
   "outputs": [],
   "source": [
    "import pandas as pd\n",
    "from matplotlib import pyplot as plt\n",
    "url='http://archive.ics.uci.edu/ml/machine-learning-databases/iris/iris.data'\n",
    "df = pd.read_csv(url, header = None)\n",
    "\n",
    "df.head()"
   ]
  },
  {
   "cell_type": "code",
   "execution_count": null,
   "metadata": {
    "colab": {
     "base_uri": "https://localhost:8080/",
     "height": 204
    },
    "colab_type": "code",
    "executionInfo": {
     "elapsed": 1021,
     "status": "ok",
     "timestamp": 1582171450164,
     "user": {
      "displayName": "Md. Hasin Abrar",
      "photoUrl": "",
      "userId": "06156809182063123426"
     },
     "user_tz": -360
    },
    "id": "2SyQ-jMGZbXk",
    "outputId": "12daa40b-5f63-407f-e3e3-6088ce291e0b"
   },
   "outputs": [],
   "source": [
    "df.columns = ['sepal_length','sepal_width','petal_length','petal_width','flower_type']\n",
    "df['flower_type'] = df['flower_type'].astype('category')\n",
    "df.flower_type = df.flower_type.cat.rename_categories([0,1,2])\n",
    "\n",
    "df.head()"
   ]
  },
  {
   "cell_type": "code",
   "execution_count": null,
   "metadata": {
    "colab": {},
    "colab_type": "code",
    "id": "09O09jt0ZbXn",
    "outputId": "a2c1b70c-3caf-4be6-a3dd-365776c5d2a6"
   },
   "outputs": [],
   "source": [
    "df['flower_type'].describe()"
   ]
  },
  {
   "cell_type": "markdown",
   "metadata": {
    "colab_type": "raw",
    "id": "QkI_MvnHZbXq"
   },
   "source": [
    "s = pd.Series(['a', 'a', 'b', 'c'])\n",
    "\n",
    "s.describe()\n",
    "\n",
    "count     4\n",
    "unique    3\n",
    "top       a\n",
    "freq      2\n",
    "dtype: object\n",
    "\n",
    "https://pandas.pydata.org/pandas-docs/stable/reference/api/pandas.DataFrame.describe.html\n"
   ]
  },
  {
   "cell_type": "code",
   "execution_count": null,
   "metadata": {
    "colab": {},
    "colab_type": "code",
    "id": "K46TCINvZbXr",
    "outputId": "d3fa0d39-7d87-4082-9999-0fe01b455248"
   },
   "outputs": [],
   "source": [
    "df.hist()\n",
    "plt.show()"
   ]
  },
  {
   "cell_type": "code",
   "execution_count": null,
   "metadata": {
    "colab": {},
    "colab_type": "code",
    "id": "L4OgUFvgZbXu",
    "outputId": "1551cab4-d077-4151-d22c-82a0f5ccd527"
   },
   "outputs": [],
   "source": [
    "pd.scatter_matrix(df, diagonal='kde')\n",
    "plt.show()"
   ]
  },
  {
   "cell_type": "markdown",
   "metadata": {
    "colab_type": "text",
    "id": "65dpLBfvZbX0"
   },
   "source": [
    "‘bar’ or ‘barh’ for bar plots\n",
    "‘hist’ for histogram\n",
    "‘box’ for boxplot\n",
    "‘kde’ or ‘density’ for density plots\n",
    "‘area’ for area plots\n",
    "‘scatter’ for scatter plots\n",
    "‘hexbin’ for hexagonal bin plots\n",
    "‘pie’ for pie plots\n",
    "https://pandas.pydata.org/pandas-docs/stable/user_guide/visualization.html#visualization-kde\n",
    "\n",
    "\n",
    "\n",
    "More general:\n",
    "http://pandas.pydata.org/pandas-docs/stable/user_guide/visualization.html\n"
   ]
  },
  {
   "cell_type": "code",
   "execution_count": null,
   "metadata": {
    "colab": {},
    "colab_type": "code",
    "id": "AmqgwBhsZbX1"
   },
   "outputs": [],
   "source": []
  },
  {
   "cell_type": "markdown",
   "metadata": {
    "colab_type": "text",
    "id": "sSM7Dc4cZbX4"
   },
   "source": [
    "# More Operations on the Data Frame"
   ]
  },
  {
   "cell_type": "code",
   "execution_count": null,
   "metadata": {
    "colab": {},
    "colab_type": "code",
    "id": "DiBTlmWlZbX5",
    "outputId": "885b8cd4-be60-4f76-c771-96a3e8b2217d"
   },
   "outputs": [],
   "source": [
    "df = df.sort_values(by='sepal_width')\n",
    "df.head()"
   ]
  },
  {
   "cell_type": "code",
   "execution_count": null,
   "metadata": {
    "colab": {},
    "colab_type": "code",
    "id": "kTLU8aP4ZbX9",
    "outputId": "11347cc8-610e-4414-bda3-61b9f78bd526"
   },
   "outputs": [],
   "source": [
    "# Normalizing your data set\n",
    "df=df.ix[:,0:4].apply( lambda f: ( f - f.mean() )/( f.max() - f.min() ) )\n",
    "df.hist()\n",
    "plt.show()"
   ]
  },
  {
   "cell_type": "code",
   "execution_count": null,
   "metadata": {
    "colab": {},
    "colab_type": "code",
    "id": "mbqcfsUQZbYE",
    "outputId": "2fe4f0b6-5dc2-4e0c-fb92-8200388a8433"
   },
   "outputs": [],
   "source": [
    "# Get a random sample from the data set\n",
    "df=df.sample(frac=1.0)\n",
    "df.head()"
   ]
  },
  {
   "cell_type": "code",
   "execution_count": null,
   "metadata": {
    "colab": {},
    "colab_type": "code",
    "id": "HUU0zwsNZbYH"
   },
   "outputs": [],
   "source": [
    "# Split the data set into test and train set\n",
    "train=df.sample(frac=0.8,random_state=123)\n",
    "test=df.drop(train.index)"
   ]
  },
  {
   "cell_type": "markdown",
   "metadata": {
    "colab_type": "text",
    "id": "mr5bTivOZbYL"
   },
   "source": [
    "# Read/Write"
   ]
  },
  {
   "cell_type": "code",
   "execution_count": null,
   "metadata": {
    "colab": {},
    "colab_type": "code",
    "id": "EPhe46OJZbYM",
    "outputId": "4d8ea92d-19dc-4c17-b2bd-48c24d128f98"
   },
   "outputs": [],
   "source": [
    "df.to_csv('iris_normalized.csv')\n",
    "new_df = pd.read_csv('iris_normalized.csv')\n",
    "new_df.head()"
   ]
  },
  {
   "cell_type": "markdown",
   "metadata": {
    "colab_type": "text",
    "collapsed": true,
    "id": "ks7dUkn3ZbYQ"
   },
   "source": [
    "# Deal with missing data "
   ]
  },
  {
   "cell_type": "code",
   "execution_count": null,
   "metadata": {
    "colab": {},
    "colab_type": "code",
    "id": "fC0S6YZ-ZbYT",
    "outputId": "48fe4c85-7d6b-4ec8-c52f-9546636bde48"
   },
   "outputs": [],
   "source": [
    "import numpy as np\n",
    "df = pd.DataFrame([[np.nan, 2, np.nan, 0],\n",
    "                    [3, 4, np.nan, 1],\n",
    "                    [np.nan, np.nan, np.nan, 5],\n",
    "                    [np.nan, 3, np.nan, 4]],\n",
    "                    columns=list('ABCD'))\n",
    "df"
   ]
  },
  {
   "cell_type": "code",
   "execution_count": null,
   "metadata": {
    "colab": {},
    "colab_type": "code",
    "id": "A1e0As2QZbYW",
    "outputId": "9244b1db-3560-4b3e-ed72-9d268db34e91"
   },
   "outputs": [],
   "source": [
    "df.fillna(0)"
   ]
  },
  {
   "cell_type": "markdown",
   "metadata": {
    "colab_type": "text",
    "id": "jl-k71MJZbYZ"
   },
   "source": [
    "https://pandas.pydata.org/pandas-docs/stable/reference/api/pandas.DataFrame.fillna.html#pandas.DataFrame.fillna"
   ]
  },
  {
   "cell_type": "code",
   "execution_count": null,
   "metadata": {
    "colab": {},
    "colab_type": "code",
    "id": "Q3CyvAEhZbYb",
    "outputId": "d2f5353f-da69-41e2-ca42-867adba494a9"
   },
   "outputs": [],
   "source": [
    " df = pd.DataFrame({\"name\": ['Alfred', 'Batman', 'Catwoman'],\n",
    "                    \"toy\": [np.nan, 'Batmobile', 'Bullwhip'],\n",
    "                    \"born\": [pd.NaT, pd.Timestamp(\"1940-04-25\"),\n",
    "                             pd.NaT]})\n",
    "df"
   ]
  },
  {
   "cell_type": "markdown",
   "metadata": {
    "colab_type": "text",
    "id": "5m3F825OZbYi"
   },
   "source": [
    "In computer programming, a sentinel value (also referred to as a flag value, trip value, rogue value, signal value, or dummy data) is a special value in the context of an algorithm which uses its presence as a condition of termination, typically in a loop or recursive algorithm.\n",
    "\n",
    "floating-point NaN"
   ]
  },
  {
   "cell_type": "code",
   "execution_count": null,
   "metadata": {
    "colab": {},
    "colab_type": "code",
    "id": "4qF4OTHkZbYj",
    "outputId": "b7d8d40f-350b-45f9-f86e-2c1803cc210f"
   },
   "outputs": [],
   "source": [
    "df.dropna()"
   ]
  },
  {
   "cell_type": "markdown",
   "metadata": {
    "colab_type": "text",
    "id": "hUSUxoDCZbYn"
   },
   "source": [
    "https://pandas.pydata.org/pandas-docs/stable/reference/api/pandas.DataFrame.dropna.html#pandas.DataFrame.dropna"
   ]
  },
  {
   "cell_type": "markdown",
   "metadata": {
    "colab_type": "text",
    "id": "25-DC4b2ZbYo"
   },
   "source": [
    "# Features extraction"
   ]
  },
  {
   "cell_type": "markdown",
   "metadata": {
    "colab_type": "text",
    "id": "FeAU3PReZbYo"
   },
   "source": [
    "# Text Features"
   ]
  },
  {
   "cell_type": "code",
   "execution_count": null,
   "metadata": {
    "colab": {},
    "colab_type": "code",
    "id": "3CwqJLJeZbYp",
    "outputId": "6ad3dbf7-9fe0-4782-8ff1-27f9cd1338ff"
   },
   "outputs": [],
   "source": [
    "from sklearn.feature_extraction.text import CountVectorizer\n",
    "\n",
    "sample = ['sample of evil', 'evil queen', 'horizon problem']\n",
    "vec = CountVectorizer()\n",
    "X = vec.fit_transform(sample)\n",
    "# print(X.toarray())\n",
    "feature_extraction = pd.DataFrame(X.toarray(), columns=vec.get_feature_names())\n",
    "print(feature_extraction)"
   ]
  },
  {
   "cell_type": "code",
   "execution_count": null,
   "metadata": {
    "colab": {},
    "colab_type": "code",
    "id": "q2PFhSLlZbYs",
    "outputId": "82a4c0a6-f817-4e7c-f6a2-a0450b49db9b"
   },
   "outputs": [],
   "source": [
    "from sklearn.feature_extraction.text import TfidfVectorizer\n",
    "\n",
    "vec = TfidfVectorizer()\n",
    "X = vec.fit_transform(sample)\n",
    "feature_extraction = pd.DataFrame(X.toarray(), columns=vec.get_feature_names())\n",
    "print(feature_extraction)"
   ]
  },
  {
   "cell_type": "markdown",
   "metadata": {
    "colab_type": "text",
    "id": "5mu7XXdAZbYv"
   },
   "source": [
    "# Derived Features"
   ]
  },
  {
   "cell_type": "code",
   "execution_count": null,
   "metadata": {
    "colab": {
     "base_uri": "https://localhost:8080/",
     "height": 265
    },
    "colab_type": "code",
    "executionInfo": {
     "elapsed": 1017,
     "status": "ok",
     "timestamp": 1582171912488,
     "user": {
      "displayName": "Md. Hasin Abrar",
      "photoUrl": "",
      "userId": "06156809182063123426"
     },
     "user_tz": -360
    },
    "id": "yaPATMxSZbYx",
    "outputId": "e5ae6147-82bd-42fc-ca28-e4e8194bc919"
   },
   "outputs": [],
   "source": [
    "%matplotlib inline \n",
    "# For jupyter notebook only\n",
    "import numpy as np\n",
    "import matplotlib.pyplot as plt\n",
    "\n",
    "x = np.array([1, 2, 3, 4, 5])\n",
    "y = np.array([4, 2, 1, 3, 7])\n",
    "plt.scatter(x, y)\n",
    "plt.plot(x,y)\n",
    "plt.show()"
   ]
  },
  {
   "cell_type": "code",
   "execution_count": null,
   "metadata": {
    "colab": {},
    "colab_type": "code",
    "id": "36lV3yMJZbY5",
    "outputId": "c8a4a3e2-b90f-4cd4-ad3b-329a94a6817d"
   },
   "outputs": [],
   "source": [
    "from sklearn.linear_model import LinearRegression\n",
    "x = np.array([1, 2, 3, 4, 5])\n",
    "y = np.array([4, 2, 1, 3, 7])\n",
    "X = x[:, np.newaxis]\n",
    "model = LinearRegression().fit(X, y)\n",
    "yfit = model.predict(X)\n",
    "plt.scatter(x,y)\n",
    "plt.plot(x, yfit)\n",
    "plt.show()"
   ]
  },
  {
   "cell_type": "code",
   "execution_count": null,
   "metadata": {
    "colab": {},
    "colab_type": "code",
    "id": "xVntMgGTZbY-",
    "outputId": "a4a7dabf-5e7f-4d61-d0a7-c5161b0bc87c"
   },
   "outputs": [],
   "source": [
    "from sklearn.linear_model import LinearRegression\n",
    "from sklearn.preprocessing import PolynomialFeatures\n",
    "x = np.array([1, 2, 3, 4, 5])\n",
    "y = np.array([4, 2, 1, 3, 7])\n",
    "X = x[:, np.newaxis]\n",
    "print(\"X\\n\", X)\n",
    "poly = PolynomialFeatures(degree=3, include_bias=False)\n",
    "X2 = poly.fit_transform(X)\n",
    "# https://datascience.stackexchange.com/questions/12321/difference-between-fit-and-fit-transform-in-scikit-learn-models\n",
    "print(\"\\nX2\\n\", X2)\n",
    "\n",
    "\n",
    "model = LinearRegression().fit(X2, y)\n",
    "yfit = model.predict(X2)\n",
    "plt.scatter(x,y)\n",
    "plt.plot(x, yfit)\n",
    "plt.show()\n",
    "\n",
    "\n",
    "#     degree : integer\n",
    "#     The degree of the polynomial features\n",
    "\n",
    "#     include_bias : boolean\n",
    "#     If True (default), then include a bias column,\n",
    "#     the feature in which all polynomial powers are zero\n",
    "#     (i.e. a column of ones - acts as an intercept term in a linear model).\n",
    "\n",
    "\n",
    "#     rows = np.array([0, 3], dtype=np.intp)\n",
    "#     columns = np.array([0, 2], dtype=np.intp)\n",
    "#     rows[:, np.newaxis]\n",
    "#     array([[0],\n",
    "#        [3]])\n",
    "\n",
    "#     # intp\tInteger used for indexing (same as C ssize_t; normally either int32 or int64\n",
    "\n"
   ]
  },
  {
   "cell_type": "markdown",
   "metadata": {
    "colab_type": "text",
    "id": "jlZ4GSHFZbZB"
   },
   "source": [
    "# Scipy"
   ]
  },
  {
   "cell_type": "markdown",
   "metadata": {
    "colab_type": "text",
    "id": "tjke0So_ZbZC"
   },
   "source": [
    "• A collection of mathematical algorithms\n",
    "\n",
    "• Gives Python similar capabilities as Matlab\n",
    "\n",
    "• Many submodules are used for different domains\n",
    "\n",
    "• We will see examples from linalg and optimize submodules\n",
    "\n",
    "• For details: http://docs.scipy.org/doc/scipy/reference/tutorial/index.html"
   ]
  },
  {
   "cell_type": "markdown",
   "metadata": {
    "colab_type": "text",
    "id": "byf-ub9aZbZD"
   },
   "source": [
    "linalg: Linear Algebra submodule\n",
    "\n",
    "Linear algebra submodule provides several routines for matrix computations.\n",
    "For example to find the inverse of matrix A"
   ]
  },
  {
   "cell_type": "code",
   "execution_count": null,
   "metadata": {
    "colab": {},
    "colab_type": "code",
    "id": "AQIHED4QZbZE",
    "outputId": "a52b91b7-e36e-42e8-9dd2-ba67fd1bc30d"
   },
   "outputs": [],
   "source": [
    "from scipy import linalg as la\n",
    "import numpy as np\n",
    "A = np.array([[5,3,5],[2,2,0], [1,3,1]])\n",
    "iA = la.inv(A)\n",
    "print(iA)"
   ]
  },
  {
   "cell_type": "markdown",
   "metadata": {
    "colab_type": "text",
    "id": "Jzb99KmFZbZM"
   },
   "source": [
    "# Solving linear systems of equations\n",
    "Ax=b"
   ]
  },
  {
   "cell_type": "code",
   "execution_count": null,
   "metadata": {
    "colab": {},
    "colab_type": "code",
    "id": "dTUsRGX8ZbZN",
    "outputId": "e11626a9-757f-474c-fb45-1c196fc6446e"
   },
   "outputs": [],
   "source": [
    "A = np.array([[5,3,5], [2,2,0], [1,3,1]])\n",
    "b = np.array([ 2, 5, 1])\n",
    "x = la.solve(A,b)\n",
    "print('Solution:', x)\n",
    "# x = la.inv(A).dot(b) # same result"
   ]
  },
  {
   "cell_type": "markdown",
   "metadata": {
    "colab_type": "text",
    "id": "4O1tk0iyZbZQ"
   },
   "source": [
    "# More Will Come..."
   ]
  },
  {
   "cell_type": "markdown",
   "metadata": {
    "colab_type": "text",
    "collapsed": true,
    "id": "mRJ08-Y0ZbZT"
   },
   "source": [
    "# http://book.pythontips.com/en/latest/map_filter.html\n",
    "    \n",
    "map filter reduce"
   ]
  },
  {
   "cell_type": "code",
   "execution_count": null,
   "metadata": {
    "colab": {},
    "colab_type": "code",
    "id": "cB-804jOZbZW"
   },
   "outputs": [],
   "source": []
  }
 ],
 "metadata": {
  "celltoolbar": "Raw Cell Format",
  "colab": {
   "name": "pandas_lab2.ipynb",
   "provenance": []
  },
  "kernelspec": {
   "display_name": "Python 3",
   "language": "python",
   "name": "python3"
  },
  "language_info": {
   "codemirror_mode": {
    "name": "ipython",
    "version": 3
   },
   "file_extension": ".py",
   "mimetype": "text/x-python",
   "name": "python",
   "nbconvert_exporter": "python",
   "pygments_lexer": "ipython3",
   "version": "3.7.4"
  }
 },
 "nbformat": 4,
 "nbformat_minor": 1
}
