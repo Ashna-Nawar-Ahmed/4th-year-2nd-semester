{
 "cells": [
  {
   "cell_type": "code",
   "execution_count": 1,
   "metadata": {
    "colab": {
     "base_uri": "https://localhost:8080/",
     "height": 34
    },
    "colab_type": "code",
    "executionInfo": {
     "elapsed": 1820,
     "status": "ok",
     "timestamp": 1580976626148,
     "user": {
      "displayName": "Md. Hasin Abrar",
      "photoUrl": "",
      "userId": "06156809182063123426"
     },
     "user_tz": -360
    },
    "id": "Mo3GzmDLNsp9",
    "outputId": "f8204d45-5983-4431-fbb8-1c637d6dae4e"
   },
   "outputs": [
    {
     "name": "stdout",
     "output_type": "stream",
     "text": [
      "Hello There\n"
     ]
    }
   ],
   "source": [
    "print(\"Hello There\")"
   ]
  },
  {
   "cell_type": "code",
   "execution_count": 0,
   "metadata": {
    "colab": {},
    "colab_type": "code",
    "id": "po9QaYLZOfTy"
   },
   "outputs": [],
   "source": [
    "\"\"\"\n",
    "  sample Comments\n",
    "\"\"\""
   ]
  },
  {
   "cell_type": "markdown",
   "metadata": {
    "colab_type": "text",
    "id": "wP9Fg_kzPF-J"
   },
   "source": [
    "We use print() frequently in any code snippet. We assume that we are working on a server site and print() will help us to find any error in our $log$ file."
   ]
  },
  {
   "cell_type": "code",
   "execution_count": 2,
   "metadata": {
    "colab": {},
    "colab_type": "code",
    "id": "XhKB8wkXOzRT"
   },
   "outputs": [
    {
     "name": "stdout",
     "output_type": "stream",
     "text": [
      "[1, 2, 3, 4]\n",
      "<class 'list'>\n"
     ]
    }
   ],
   "source": [
    "cse_4_2 = [1, 2, 3, 4]\n",
    "print(cse_4_2)\n",
    "print(type(cse_4_2))"
   ]
  },
  {
   "cell_type": "code",
   "execution_count": 6,
   "metadata": {
    "colab": {},
    "colab_type": "code",
    "id": "QiZbX20VQVxr"
   },
   "outputs": [
    {
     "name": "stdout",
     "output_type": "stream",
     "text": [
      "0\n",
      "1\n",
      "2\n",
      "3\n"
     ]
    }
   ],
   "source": [
    "for i in range(len(cse_4_2)):\n",
    "    print(i)"
   ]
  },
  {
   "cell_type": "code",
   "execution_count": 11,
   "metadata": {
    "colab": {},
    "colab_type": "code",
    "id": "UNXm4NCWQtGx"
   },
   "outputs": [
    {
     "name": "stdout",
     "output_type": "stream",
     "text": [
      "True\n",
      "False\n"
     ]
    }
   ],
   "source": [
    "list1 = [1, 2, 3, 0, 5, 6]\n",
    "\n",
    "# # any will return true if any of the sequence values are true\n",
    "print(any(list1))\n",
    "\n",
    "# # all will return true only if all values are true\n",
    "print(all(list1))"
   ]
  },
  {
   "cell_type": "code",
   "execution_count": 12,
   "metadata": {
    "colab": {},
    "colab_type": "code",
    "id": "WdjsR6gORSe7"
   },
   "outputs": [
    {
     "name": "stdout",
     "output_type": "stream",
     "text": [
      "min:  0\n",
      "max:  6\n",
      "sum:  17\n"
     ]
    }
   ],
   "source": [
    "# # min and max will return minimum and maximum values in a sequence\n",
    "print(\"min: \", min(list1))\n",
    "print(\"max: \", max(list1))\n",
    "# #\n",
    "# # Use sum() to sum up all of the values in a sequence\n",
    "print(\"sum: \", sum(list1))"
   ]
  },
  {
   "cell_type": "code",
   "execution_count": 19,
   "metadata": {
    "colab": {},
    "colab_type": "code",
    "id": "jVFm8_AiRr5z"
   },
   "outputs": [
    {
     "name": "stdout",
     "output_type": "stream",
     "text": [
      "Tony was chased\n",
      "Bruce was angered\n",
      "Steven was scared \n"
     ]
    }
   ],
   "source": [
    "# Iterating Over the Items of a List\n",
    "L = ['Tony was chased', 'Bruce was angered', 'Steven was scared ']\n",
    "# print each string in the list L\n",
    "for x in L:\n",
    "    print(x)"
   ]
  },
  {
   "cell_type": "code",
   "execution_count": 21,
   "metadata": {
    "cellView": "both",
    "colab": {},
    "colab_type": "code",
    "id": "qecxPRfdR-OM"
   },
   "outputs": [
    {
     "name": "stdout",
     "output_type": "stream",
     "text": [
      "Tony was chased by zombies. by zombies.\n",
      "Bruce was angered by zombies. by zombies.\n",
      "Steven was scared  by zombies. by zombies.\n"
     ]
    }
   ],
   "source": [
    "#@title 0, 1, 2\n",
    "for i in range (len (L)):\n",
    "    L[i] = L[i] + ' by zombies.'\n",
    "\n",
    "for x in L:\n",
    "    print(x)"
   ]
  },
  {
   "cell_type": "code",
   "execution_count": 2,
   "metadata": {
    "colab": {
     "base_uri": "https://localhost:8080/",
     "height": 50
    },
    "colab_type": "code",
    "executionInfo": {
     "elapsed": 915,
     "status": "ok",
     "timestamp": 1580977609052,
     "user": {
      "displayName": "Md. Hasin Abrar",
      "photoUrl": "",
      "userId": "06156809182063123426"
     },
     "user_tz": -360
    },
    "id": "OfQYsAYt-RHT",
    "outputId": "7d29252c-5176-49db-bdff-8a426914e000"
   },
   "outputs": [
    {
     "name": "stdout",
     "output_type": "stream",
     "text": [
      "[1, 2, 3, [4, 5]]\n",
      "[1, 2, 3, [4, 5], 8, 9]\n"
     ]
    }
   ],
   "source": [
    "x = [1, 2, 3]\n",
    "x.append([4, 5])\n",
    "print(x)\n",
    "x.extend([8, 9])\n",
    "print(x)"
   ]
  },
  {
   "cell_type": "code",
   "execution_count": 4,
   "metadata": {
    "colab": {
     "base_uri": "https://localhost:8080/",
     "height": 134
    },
    "colab_type": "code",
    "executionInfo": {
     "elapsed": 873,
     "status": "ok",
     "timestamp": 1580978417443,
     "user": {
      "displayName": "Md. Hasin Abrar",
      "photoUrl": "",
      "userId": "06156809182063123426"
     },
     "user_tz": -360
    },
    "id": "90fDG8dr_Ffn",
    "outputId": "35241da3-3516-4449-90fd-f10529fcc267",
    "scrolled": true
   },
   "outputs": [
    {
     "name": "stdout",
     "output_type": "stream",
     "text": [
      "1 Sun\n",
      "2 Mon\n",
      "3 Tue\n",
      "4 Wed\n",
      "5 Thu\n",
      "6 Fri\n",
      "7 Sat\n"
     ]
    }
   ],
   "source": [
    "# # define a list of days in English and French\n",
    "days = [\"Sun\", \"Mon\", \"Tue\", \"Wed\", \"Thu\", \"Fri\", \"Sat\"]\n",
    "daysFr = [\"Dim\", \"Lun\", \"Mar\", \"Mer\", \"Jeu\", \"Ven\", \"Sam\"]\n",
    "# # use regular interation over the days\n",
    "for m in range(len(days)):\n",
    "    print(m + 1, days[m])"
   ]
  },
  {
   "cell_type": "code",
   "execution_count": 26,
   "metadata": {
    "colab": {},
    "colab_type": "code",
    "id": "0zMrbSnH_Mje"
   },
   "outputs": [
    {
     "name": "stdout",
     "output_type": "stream",
     "text": [
      "1 Sun\n",
      "2 Mon\n",
      "3 Tue\n",
      "4 Wed\n",
      "5 Thu\n",
      "6 Fri\n",
      "7 Sat\n"
     ]
    }
   ],
   "source": [
    "# using enumerate reduces code and provides a counter\n",
    "days = [\"Sun\", \"Mon\", \"Tue\", \"Wed\", \"Thu\", \"Fri\", \"Sat\"]\n",
    "\n",
    "for i, m in enumerate(days, start=1):\n",
    "    print(i, m)"
   ]
  },
  {
   "cell_type": "code",
   "execution_count": 31,
   "metadata": {
    "colab": {},
    "colab_type": "code",
    "id": "zm42b8K9_S_W"
   },
   "outputs": [
    {
     "name": "stdout",
     "output_type": "stream",
     "text": [
      "('Sun', 'Dim')\n",
      "('Mon', 'Lun')\n",
      "('Tue', 'Mar')\n",
      "('Wed', 'Mer')\n",
      "('Thu', 'Jeu')\n",
      "('Fri', 'Ven')\n",
      "('Sat', 'Sam')\n"
     ]
    }
   ],
   "source": [
    "# # use zip to combine sequences\n",
    "days = [\"Sun\", \"Mon\", \"Tue\", \"Wed\", \"Thu\", \"Fri\", \"Sat\"]\n",
    "daysFr = [\"Dim\", \"Lun\", \"Mar\", \"Mer\", \"Jeu\", \"Ven\", \"Sam\"]\n",
    "\n",
    "for m in zip(days, daysFr):\n",
    "    print(m)"
   ]
  },
  {
   "cell_type": "code",
   "execution_count": 29,
   "metadata": {
    "colab": {
     "base_uri": "https://localhost:8080/",
     "height": 134
    },
    "colab_type": "code",
    "executionInfo": {
     "elapsed": 864,
     "status": "ok",
     "timestamp": 1580978421641,
     "user": {
      "displayName": "Md. Hasin Abrar",
      "photoUrl": "",
      "userId": "06156809182063123426"
     },
     "user_tz": -360
    },
    "id": "BtUjEDlF_cEl",
    "outputId": "1971f69f-e6fa-4278-e27c-34add2c771e4"
   },
   "outputs": [
    {
     "name": "stdout",
     "output_type": "stream",
     "text": [
      "1 Sun = Dim in French\n",
      "2 Mon = Lun in French\n",
      "3 Tue = Mar in French\n",
      "4 Wed = Mer in French\n",
      "5 Thu = Jeu in French\n",
      "6 Fri = Ven in French\n",
      "7 Sat = Sam in French\n"
     ]
    }
   ],
   "source": [
    "for i, m in enumerate(zip(days, daysFr), start=1):\n",
    "    print(i, m[0], \"=\", m[1], \"in French\")"
   ]
  },
  {
   "cell_type": "code",
   "execution_count": 32,
   "metadata": {
    "colab": {},
    "colab_type": "code",
    "id": "TeKbVfWd_ha4"
   },
   "outputs": [
    {
     "name": "stdout",
     "output_type": "stream",
     "text": [
      "Sun 11\n",
      "Mon 12\n",
      "Tue 13\n",
      "Wed 14\n",
      "Thu 15\n",
      "Fri 16\n",
      "Sat 17\n"
     ]
    }
   ],
   "source": [
    "for jj, em in enumerate(days, start=11):\n",
    "    print(em, jj)"
   ]
  },
  {
   "cell_type": "code",
   "execution_count": 33,
   "metadata": {
    "colab": {},
    "colab_type": "code",
    "id": "BY57bS6v_nim"
   },
   "outputs": [
    {
     "name": "stdout",
     "output_type": "stream",
     "text": [
      "('Sun', 'Dim') <class 'tuple'>\n",
      "('Mon', 'Lun') <class 'tuple'>\n",
      "('Tue', 'Mar') <class 'tuple'>\n",
      "('Wed', 'Mer') <class 'tuple'>\n",
      "('Thu', 'Jeu') <class 'tuple'>\n",
      "('Fri', 'Ven') <class 'tuple'>\n",
      "('Sat', 'Sam') <class 'tuple'>\n"
     ]
    }
   ],
   "source": [
    "'''\n",
    "    Tuples are identical to lists, with the following exceptions:\n",
    "        Tuples are immutable.\n",
    "        Tuples are written with parentheses instead of square brackets.\n",
    "'''\n",
    "for i, m in enumerate(zip(days, daysFr), start=1):\n",
    "    print(m, type(m))"
   ]
  },
  {
   "cell_type": "code",
   "execution_count": 34,
   "metadata": {
    "colab": {},
    "colab_type": "code",
    "id": "G1CI_rD2_2Q2"
   },
   "outputs": [
    {
     "name": "stdout",
     "output_type": "stream",
     "text": [
      "Sun\n",
      "Mon\n",
      "Tue\n"
     ]
    }
   ],
   "source": [
    "# use iter to create an iterator over a collection\n",
    "i = iter(days)\n",
    "print(next(i))  # Sun\n",
    "print(next(i))  # Mon\n",
    "print(next(i))  # Tue"
   ]
  },
  {
   "cell_type": "markdown",
   "metadata": {
    "colab_type": "text",
    "id": "2qhbz4JFAPsO"
   },
   "source": [
    "Demonstrate how to use set comprehensions"
   ]
  },
  {
   "cell_type": "code",
   "execution_count": 35,
   "metadata": {
    "colab": {},
    "colab_type": "code",
    "id": "KxbGzv3mAA4U"
   },
   "outputs": [
    {
     "name": "stdout",
     "output_type": "stream",
     "text": [
      "[41.0, 50.0, 53.6, 57.2, 50.0, 73.4, 105.8, 86.0, 53.6, 75.2, 53.6, 64.4, 84.2] <class 'list'>\n",
      "{64.4, 73.4, 41.0, 105.8, 75.2, 50.0, 84.2, 53.6, 86.0, 57.2} <class 'set'>\n"
     ]
    }
   ],
   "source": [
    "ctemps = [5, 10, 12, 14, 10, 23, 41, 30, 12, 24, 12, 18, 29]\n",
    "\n",
    "# build a set of unique Fahrenheit temperatures\n",
    "ftemps1 = [(t * 9/5) + 32 for t in ctemps]\n",
    "ftemps2 = {(t * 9/5) + 32 for t in ctemps}\n",
    "\n",
    "print(ftemps1, type(ftemps1)) # Did you think both are the same?\n",
    "print(ftemps2, type(ftemps2))"
   ]
  },
  {
   "cell_type": "markdown",
   "metadata": {
    "colab_type": "text",
    "id": "RKblTLmiBV8u"
   },
   "source": [
    "#build a set from an input source\n",
    "sTemp = \"The quick brown fox jumped over the lazy dog\""
   ]
  },
  {
   "cell_type": "code",
   "execution_count": 36,
   "metadata": {
    "cellView": "both",
    "colab": {
     "base_uri": "https://localhost:8080/",
     "height": 85
    },
    "colab_type": "code",
    "executionInfo": {
     "elapsed": 766,
     "status": "ok",
     "timestamp": 1580895193150,
     "user": {
      "displayName": "Md. Hasin Abrar",
      "photoUrl": "",
      "userId": "06156809182063123426"
     },
     "user_tz": -360
    },
    "id": "6SCPoW5XAbd0",
    "outputId": "32b0208a-90ca-48bd-dbf9-906a76f2e130"
   },
   "outputs": [
    {
     "name": "stdout",
     "output_type": "stream",
     "text": [
      "26\n",
      "{'d', 'e', 'b', 'g', 'l', 'v', 'p', 'h', 'n', 'z', 'm', 'c', 'f', 'q', 't', 'y', 'T', 'x', 'r', 'a', 'o', 'i', 'u', 'w', 'k', 'j'}\n",
      "25 <class 'set'>\n",
      "{'C', 'K', 'R', 'D', 'P', 'X', 'H', 'Z', 'F', 'I', 'V', 'M', 'W', 'B', 'L', 'G', 'E', 'N', 'T', 'U', 'A', 'J', 'O', 'Q', 'Y'}\n"
     ]
    }
   ],
   "source": [
    "\n",
    "# build a set from an input source\n",
    "sTemp = \"The quick brown fox jumped over the lazy dogt\"\n",
    "chars1 = {c for c in sTemp if not c.isspace()}\n",
    "chars = {c.upper() for c in sTemp if not c.isspace()}\n",
    "\n",
    "print(len(chars1) )\n",
    "print(chars1)\n",
    "print(len(chars), type(chars))\n",
    "print(chars)"
   ]
  },
  {
   "cell_type": "markdown",
   "metadata": {
    "colab_type": "text",
    "id": "4fECC-LnBxHS"
   },
   "source": [
    "# Lambda expression"
   ]
  },
  {
   "cell_type": "markdown",
   "metadata": {
    "colab_type": "text",
    "id": "ycRDLeb5B4Wy"
   },
   "source": [
    "* lambda arguments : expression\n",
    "* anonymous functions; accept multiple arguments but expression should be one"
   ]
  },
  {
   "cell_type": "code",
   "execution_count": 45,
   "metadata": {
    "colab": {},
    "colab_type": "code",
    "id": "SW9qQ8ysBJyx"
   },
   "outputs": [
    {
     "name": "stdout",
     "output_type": "stream",
     "text": [
      "15\n",
      "90\n",
      "[(4, 'four'), (1, 'one'), (3, 'three'), (2, 'two')]\n",
      "[(1, 'one'), (2, 'two'), (3, 'three'), (4, 'four')]\n"
     ]
    }
   ],
   "source": [
    "lambda_test = lambda a : a + 10\n",
    "print(lambda_test(5))\n",
    "\n",
    "new_lambda_test = lambda q, w, y, z : q + w + y + z + 10\n",
    "print(new_lambda_test(20, 20, 20, 20))\n",
    "\n",
    "pairs = [(1, 'one'), (2, 'two'), (3, 'three'), (4, 'four')]\n",
    "pairs.sort(key=lambda pair: pair[1]) # Look carefully..\n",
    "print(pairs)\n",
    "\n",
    "pairs = [(1, 'one'), (2, 'two'), (3, 'three'), (4, 'four')]\n",
    "pairs.sort(key=lambda pair: pair[0])\n",
    "print(pairs)"
   ]
  },
  {
   "cell_type": "code",
   "execution_count": 46,
   "metadata": {
    "colab": {
     "base_uri": "https://localhost:8080/",
     "height": 68
    },
    "colab_type": "code",
    "executionInfo": {
     "elapsed": 1075,
     "status": "ok",
     "timestamp": 1580895334186,
     "user": {
      "displayName": "Md. Hasin Abrar",
      "photoUrl": "",
      "userId": "06156809182063123426"
     },
     "user_tz": -360
    },
    "id": "zGfL7JteCZ9p",
    "outputId": "233253fa-4039-4252-aabd-9bbb385ee4ca",
    "scrolled": true
   },
   "outputs": [
    {
     "name": "stdout",
     "output_type": "stream",
     "text": [
      "[3, 6, 9]\n",
      "<class 'list'>\n"
     ]
    }
   ],
   "source": [
    "mult3 = list(filter(lambda x: x % 3 == 0, [1, 2, 3, 4, 5, 6, 7, 8, 9]))\n",
    "print(mult3)\n",
    "print(type(mult3))"
   ]
  },
  {
   "cell_type": "code",
   "execution_count": 49,
   "metadata": {
    "colab": {
     "base_uri": "https://localhost:8080/",
     "height": 34
    },
    "colab_type": "code",
    "executionInfo": {
     "elapsed": 1092,
     "status": "ok",
     "timestamp": 1580895762452,
     "user": {
      "displayName": "Md. Hasin Abrar",
      "photoUrl": "",
      "userId": "06156809182063123426"
     },
     "user_tz": -360
    },
    "id": "_AL05r-FC_C-",
    "outputId": "2e5d88e2-2f7e-4c7d-cc5a-63bc52ee3681"
   },
   "outputs": [
    {
     "name": "stdout",
     "output_type": "stream",
     "text": [
      "47\n"
     ]
    }
   ],
   "source": [
    "def make_incrementor(n):\n",
    "    return lambda x: x + n\n",
    "\n",
    "f = make_incrementor(45)\n",
    "print(f(2))"
   ]
  },
  {
   "cell_type": "markdown",
   "metadata": {
    "colab_type": "text",
    "id": "9S00tgtyDy2e"
   },
   "source": [
    "# Demonstrate how to use list comprehensions"
   ]
  },
  {
   "cell_type": "code",
   "execution_count": 50,
   "metadata": {
    "colab": {},
    "colab_type": "code",
    "id": "Xuc0JwFYDp70"
   },
   "outputs": [
    {
     "name": "stdout",
     "output_type": "stream",
     "text": [
      "[4, 16, 36, 64, 100, 144, 196, 256, 324, 400]\n"
     ]
    }
   ],
   "source": [
    "# define two lists of numbers\n",
    "evens = [2, 4, 6, 8, 10, 12, 14, 16, 18, 20]\n",
    "odds = [1, 3, 5, 7, 9, 11, 13, 15, 17, 19]\n",
    "\n",
    "# Derive a new list of numbers frm a given list\n",
    "evenSquared = [e ** 2 for e in evens]\n",
    "print(evenSquared)"
   ]
  },
  {
   "cell_type": "markdown",
   "metadata": {
    "colab_type": "text",
    "id": "HAWL6xahhQgs"
   },
   "source": [
    "The **map()** function executes a specified function for each item in a iterable. The item is sent to the function as a parameter."
   ]
  },
  {
   "cell_type": "code",
   "execution_count": 52,
   "metadata": {
    "colab": {},
    "colab_type": "code",
    "id": "L3SsyPRAD7X6"
   },
   "outputs": [
    {
     "name": "stdout",
     "output_type": "stream",
     "text": [
      "[36, 64, 100, 144, 196]\n"
     ]
    }
   ],
   "source": [
    "# # Perform a mapping and filter function on a list\n",
    "evenSquared = list(map(lambda e: e**2, filter(lambda e: e > 4 and e < 16, evens)))\n",
    "print(evenSquared)"
   ]
  },
  {
   "cell_type": "code",
   "execution_count": 53,
   "metadata": {
    "colab": {},
    "colab_type": "code",
    "id": "wTO89UOWEDwY"
   },
   "outputs": [
    {
     "name": "stdout",
     "output_type": "stream",
     "text": [
      "[36, 64, 100, 144, 196]\n"
     ]
    }
   ],
   "source": [
    "evenSquared_new = [e ** 2 for e in evens if e > 4 and e < 16]\n",
    "print(evenSquared_new)"
   ]
  },
  {
   "cell_type": "code",
   "execution_count": 0,
   "metadata": {
    "colab": {},
    "colab_type": "code",
    "id": "JYYZaWBUEMNB"
   },
   "outputs": [],
   "source": [
    "# Limit the items operated on with a predicate condition\n",
    "oddSquared = [e ** 2 for e in odds if e > 3 and e < 17]\n",
    "print(oddSquared)"
   ]
  },
  {
   "cell_type": "markdown",
   "metadata": {
    "colab_type": "text",
    "id": "QhyIfD1zE6cF"
   },
   "source": [
    "# Demonstrate the usage of Counter objects"
   ]
  },
  {
   "cell_type": "code",
   "execution_count": 55,
   "metadata": {
    "colab": {},
    "colab_type": "code",
    "id": "8T7de_UeEWO4"
   },
   "outputs": [
    {
     "name": "stdout",
     "output_type": "stream",
     "text": [
      "1\n"
     ]
    }
   ],
   "source": [
    "# A Counter is a container that keeps track of how many times equivalent values are added\n",
    "\n",
    "from collections import Counter\n",
    "\n",
    "# list of students in class 1\n",
    "class1 = [\"Bob\", \"James\", \"Chad\", \"Darcy\", \"Penny\", \"Hannah\"\n",
    "          \"Kevin\", \"James\", \"Melanie\", \"Becky\", \"Steve\", \"Frank\"]\n",
    "\n",
    "# list of students in class 2\n",
    "class2 = [\"Bill\", \"Barry\", \"Cindy\", \"Debbie\", \"Frank\",\n",
    "          \"Gabby\", \"Kelly\", \"James\", \"Joe\", \"Sam\", \"Tara\", \"Ziggy\"]\n",
    "\n",
    "# Create a Counter for class1 and class2\n",
    "c1 = Counter(class1)\n",
    "c2 = Counter(class2)\n",
    "\n",
    "# How many students in class 1 named James?\n",
    "print(c1[\"Bob\"])"
   ]
  },
  {
   "cell_type": "code",
   "execution_count": 0,
   "metadata": {
    "colab": {},
    "colab_type": "code",
    "id": "31tUhEPWFD7y"
   },
   "outputs": [],
   "source": [
    "# How many students are in class 1?\n",
    "print(sum(c1.values()), \"students in class 1\")\n",
    "\n",
    "# Combine the two classes\n",
    "c1.update(class2)\n",
    "print(sum(c1.values()), \"students in class 1 and 2\")\n",
    "\n",
    "# What's the most common name in the two classes?\n",
    "print(c1.most_common(3), \"the most common name in the two classes\") # 3 is indicating --- how many\n",
    "\n",
    "# Separate the classes again\n",
    "c1.subtract(class2)\n",
    "print(c1.most_common(1))\n",
    "\n",
    "# What's common between the two classes?\n",
    "print((c1 & c2), \"common between the two classes\")"
   ]
  },
  {
   "cell_type": "markdown",
   "metadata": {
    "colab_type": "text",
    "id": "eFvvSRR6G6cJ"
   },
   "source": [
    "# Demonstrate the usage of defaultdict objects\n",
    "\n",
    "A defaultdict works exactly like a normal dict, but it is initialized with a function (“default factory”) that takes no arguments and provides the default value for a nonexistent key.\n",
    "\n",
    "A defaultdict will never raise a KeyError."
   ]
  },
  {
   "cell_type": "code",
   "execution_count": 57,
   "metadata": {
    "colab": {
     "base_uri": "https://localhost:8080/",
     "height": 34
    },
    "colab_type": "code",
    "executionInfo": {
     "elapsed": 954,
     "status": "ok",
     "timestamp": 1580909416011,
     "user": {
      "displayName": "Md. Hasin Abrar",
      "photoUrl": "",
      "userId": "06156809182063123426"
     },
     "user_tz": -360
    },
    "id": "pC3BVFcNFYHr",
    "outputId": "c502badd-7da3-444d-9508-3c83a55d0fe0"
   },
   "outputs": [
    {
     "name": "stdout",
     "output_type": "stream",
     "text": [
      "Vanilla\n"
     ]
    }
   ],
   "source": [
    "from collections import defaultdict\n",
    "\n",
    "ice_cream = defaultdict(lambda: 'Vanilla')\n",
    "ice_cream['Sarah'] = 'Chunky Monkey'\n",
    "ice_cream['Abdul'] = 'Butter Pecan'\n",
    "print(ice_cream['Tamim1'])"
   ]
  },
  {
   "cell_type": "markdown",
   "metadata": {
    "colab_type": "text",
    "id": "TM1PJ7ieHmht"
   },
   "source": [
    "# Demonstrate how to use dictionary comprehensions"
   ]
  },
  {
   "cell_type": "code",
   "execution_count": 0,
   "metadata": {
    "colab": {
     "base_uri": "https://localhost:8080/",
     "height": 102
    },
    "colab_type": "code",
    "executionInfo": {
     "elapsed": 997,
     "status": "ok",
     "timestamp": 1580909517288,
     "user": {
      "displayName": "Md. Hasin Abrar",
      "photoUrl": "",
      "userId": "06156809182063123426"
     },
     "user_tz": -360
    },
    "id": "Z5QGg1ZMGVSx",
    "outputId": "5b9540b6-ae4a-4be7-acce-9826567a9034"
   },
   "outputs": [
    {
     "name": "stdout",
     "output_type": "stream",
     "text": [
      "{0: 32.0, 12: 53.6, 34: 93.2}\n",
      "\n",
      "\n",
      "53.6\n",
      "93.2\n"
     ]
    }
   ],
   "source": [
    "# define a list of temperature values\n",
    "ctemps = [0, 12, 34, 100]\n",
    "\n",
    "# Use a comprehension to build a dictionary\n",
    "tempDict = {t: (t * 9/5) + 32 for t in ctemps if t < 100}\n",
    "print(tempDict)\n",
    "\n",
    "print(\"\\n\")\n",
    "\n",
    "print(tempDict[12]) # access individual element\n",
    "print(tempDict[34])"
   ]
  },
  {
   "cell_type": "markdown",
   "metadata": {
    "colab_type": "text",
    "id": "1sSWiTWFH0H1"
   },
   "source": [
    "# Use of Template"
   ]
  },
  {
   "cell_type": "code",
   "execution_count": 58,
   "metadata": {
    "colab": {
     "base_uri": "https://localhost:8080/",
     "height": 68
    },
    "colab_type": "code",
    "executionInfo": {
     "elapsed": 989,
     "status": "ok",
     "timestamp": 1580909542558,
     "user": {
      "displayName": "Md. Hasin Abrar",
      "photoUrl": "",
      "userId": "06156809182063123426"
     },
     "user_tz": -360
    },
    "id": "rqnVhel1HDE6",
    "outputId": "90e26967-7888-49b5-caa5-9c3592b0f9d8"
   },
   "outputs": [
    {
     "name": "stdout",
     "output_type": "stream",
     "text": [
      "Welcome to all AUST CSE 4-2 students!\n",
      "Welcome to all AUST CSE 4-2 students!\n",
      "Welcome to all AUST CSE 4-2 students!\n"
     ]
    }
   ],
   "source": [
    "from string import Template\n",
    "\n",
    "str1 = \"Welcome to all {0} {1} {2} students!\".format(\"AUST\", \"CSE\", \"4-2\")\n",
    "print(str1)\n",
    "\n",
    "# create a template with placeholders\n",
    "templ = Template(\"Welcome to all ${university} ${department} ${semester} students!\")\n",
    "\n",
    "# use the substitute method with keyword arguments\n",
    "str2 = templ.substitute(university=\"AUST\", department=\"CSE\", semester=\"4-2\")\n",
    "print(str2)\n",
    "\n",
    "# use the substitute method with a dictionary\n",
    "data = {\n",
    "    \"university\": \"AUST\",\n",
    "    \"department\": \"CSE\",\n",
    "    \"semester\": \"4-2\"\n",
    "}\n",
    "str3 = templ.substitute(data)\n",
    "print(str3)"
   ]
  },
  {
   "cell_type": "code",
   "execution_count": 0,
   "metadata": {
    "colab": {},
    "colab_type": "code",
    "id": "EHK8sruTHvNG"
   },
   "outputs": [],
   "source": []
  }
 ],
 "metadata": {
  "colab": {
   "name": "PR_Lab1.ipynb",
   "provenance": []
  },
  "kernelspec": {
   "display_name": "Python 3",
   "language": "python",
   "name": "python3"
  },
  "language_info": {
   "codemirror_mode": {
    "name": "ipython",
    "version": 3
   },
   "file_extension": ".py",
   "mimetype": "text/x-python",
   "name": "python",
   "nbconvert_exporter": "python",
   "pygments_lexer": "ipython3",
   "version": "3.7.4"
  }
 },
 "nbformat": 4,
 "nbformat_minor": 1
}
